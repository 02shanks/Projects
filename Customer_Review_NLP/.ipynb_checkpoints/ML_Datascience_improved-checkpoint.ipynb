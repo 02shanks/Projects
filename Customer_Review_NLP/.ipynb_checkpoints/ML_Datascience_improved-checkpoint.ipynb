{
 "cells": [
  {
   "cell_type": "code",
   "execution_count": 1,
   "id": "ddda4226",
   "metadata": {},
   "outputs": [
    {
     "name": "stdout",
     "output_type": "stream",
     "text": [
      "{\"reviewerID\": \"A1F2H80A1ZNN1N\", \"asin\": \"B00GDM3NQC\", \"reviewerName\": \"Connie Correll\", \"helpful\": [0, 0], \"reviewText\": \"I bought both boxed sets, books 1-5.  Really a great series!  Start book 1 three weeks ago and just finished book 5.  Sloane Monroe is a great character and being able to follow her through both private life and her PI life gets a reader very involved!  Although clues may be right in front of the reader, there are twists and turns that keep one guessing until the last page!  These are books you won't be disappointed with.\", \"overall\": 5.0, \"summary\": \"Can't stop reading!\", \"unixReviewTime\": 1390435200, \"reviewTime\": \"01 23, 2014\"}\n",
      "\n",
      "I bought both boxed sets, books 1-5.  Really a great series!  Start book 1 three weeks ago and just finished book 5.  Sloane Monroe is a great character and being able to follow her through both private life and her PI life gets a reader very involved!  Although clues may be right in front of the reader, there are twists and turns that keep one guessing until the last page!  These are books you won't be disappointed with.\n",
      "5.0\n"
     ]
    }
   ],
   "source": [
    "## To improve on negative and neuttal side we took large dataset with 10,000 reviews\n",
    "\n",
    "import json\n",
    "\n",
    "file_name = 'books_small_10000.json'\n",
    "\n",
    "with open(file_name) as f:\n",
    "    for line in f:\n",
    "        print(line)\n",
    "        \n",
    "               \n",
    "        # print(line[reviewText]).....want to print just review but this is json file so need to use related syntax..cant use like dictionary\n",
    "        #just getting review part from 1st dataset\n",
    "        \n",
    "        review = json.loads(line)\n",
    "        \n",
    "        print(review['reviewText'])\n",
    "        print(review['overall'])\n",
    "        \n",
    "                \n",
    "        \n",
    "        break  #just printing 1st stuff"
   ]
  },
  {
   "cell_type": "code",
   "execution_count": 2,
   "id": "6019f18a",
   "metadata": {},
   "outputs": [
    {
     "data": {
      "text/plain": [
       "('It was a decent read.. typical story line. Nothing unsavory as so many are. Just a slice of life, plausible.',\n",
       " 3.0)"
      ]
     },
     "execution_count": 2,
     "metadata": {},
     "output_type": "execute_result"
    }
   ],
   "source": [
    "reviews=[]\n",
    "\n",
    "with open(file_name) as f:\n",
    "    for line in f:\n",
    "#         print(line)\n",
    "        \n",
    "        review = json.loads(line)\n",
    "        \n",
    "#         print(review['reviewText'])\n",
    "#         print(review['overall'])\n",
    "\n",
    "# creating lists of reviews and overall ratings\n",
    "        reviews.append((review['reviewText'], review['overall']))\n",
    "    \n",
    "    \n",
    "reviews[4]"
   ]
  },
  {
   "cell_type": "code",
   "execution_count": 41,
   "id": "c3ae17f1",
   "metadata": {},
   "outputs": [
    {
     "name": "stdout",
     "output_type": "stream",
     "text": [
      "3.0\n"
     ]
    },
    {
     "data": {
      "text/plain": [
       "'I hoped for Mia to have some peace in this book, but her story is so real and raw.  Broken World was so touching and emotional because you go from Mia\\'s trauma to her trying to cope.  I love the way the story displays how there is no \"just bouncing back\" from being sexually assaulted.  Mia showed us how those demons come for you every day and how sometimes they best you. I was so in the moment with Broken World and hurt with Mia because she was surrounded by people but so alone and I understood her feelings.  I found myself wishing I could give her some of my courage and strength or even just to be there for her.  Thank you Lizzy for putting a great character\\'s voice on a strong subject and making it so that other peoples story may be heard through Mia\\'s.'"
      ]
     },
     "execution_count": 41,
     "metadata": {},
     "output_type": "execute_result"
    }
   ],
   "source": [
    "#accessing juts review[0],score[1]\n",
    "print(reviews[4][1])\n",
    "reviews[5][0]"
   ]
  },
  {
   "cell_type": "code",
   "execution_count": 3,
   "id": "b87af168",
   "metadata": {},
   "outputs": [],
   "source": [
    "#another way\n",
    "# Need to even out our training data so build one more class to do same\n",
    "\n",
    "import random\n",
    "\n",
    "class Sentiment:\n",
    "    \n",
    "    NEGATIVE = 'NAGATIVE'\n",
    "    POSITIVE = 'POSITIVE'\n",
    "    NEUTRAL = 'NEUTRAL'\n",
    "\n",
    "class Review:\n",
    "    \n",
    "    def __init__(self,text,score):\n",
    "        self.text = text\n",
    "        self.score = score\n",
    "        self.sentiment = self.get_sentiment()\n",
    "        \n",
    "    def get_sentiment(self):\n",
    "        if self.score<=2:\n",
    "            return Sentiment.NEGATIVE\n",
    "        elif self.score==3:\n",
    "            return Sentiment.NEUTRAL\n",
    "        else: # score 4 or 5\n",
    "            return Sentiment.POSITIVE\n",
    "\n",
    "        \n",
    "class ReviewContainer:\n",
    "    def __init__(self,reviews):\n",
    "        self.reviews = reviews\n",
    "            \n",
    "    def get_text(self):\n",
    "        return [x.text for x in self.reviews]\n",
    "        \n",
    "    def get_sentiment(self):\n",
    "        return [x.sentiment for x in self.reviews]\n",
    "        \n",
    "    def evenly_distribute(self):\n",
    "        negative = list(filter(lambda x: x.sentiment == Sentiment.NEGATIVE , self.reviews)) ##list as error occur using evenly_distribute...\n",
    "        positive = list(filter(lambda x: x.sentiment == Sentiment.POSITIVE , self.reviews)) ### error was: 'filter' object is not subscriptable\n",
    "        positive_shrunk = positive[:len(negative)]\n",
    "        self.reviews = negative + positive_shrunk # even dataset\n",
    "        random.shuffle(self.reviews)  # to shuffle the data\n",
    "             \n",
    "\n",
    "\n",
    "        \n",
    "#         print(negative[0].text)\n",
    "#         print(len(negative))\n",
    "#         print(len(positive))"
   ]
  },
  {
   "cell_type": "code",
   "execution_count": 5,
   "id": "2bf08bc8",
   "metadata": {},
   "outputs": [
    {
     "data": {
      "text/plain": [
       "'I hoped for Mia to have some peace in this book, but her story is so real and raw.  Broken World was so touching and emotional because you go from Mia\\'s trauma to her trying to cope.  I love the way the story displays how there is no \"just bouncing back\" from being sexually assaulted.  Mia showed us how those demons come for you every day and how sometimes they best you. I was so in the moment with Broken World and hurt with Mia because she was surrounded by people but so alone and I understood her feelings.  I found myself wishing I could give her some of my courage and strength or even just to be there for her.  Thank you Lizzy for putting a great character\\'s voice on a strong subject and making it so that other peoples story may be heard through Mia\\'s.'"
      ]
     },
     "execution_count": 5,
     "metadata": {},
     "output_type": "execute_result"
    }
   ],
   "source": [
    "#another way contd\n",
    "\n",
    "reviews=[]\n",
    "\n",
    "with open(file_name) as f:\n",
    "    for line in f:\n",
    "        \n",
    "        review = json.loads(line)\n",
    "\n",
    "\n",
    "        # creating lists of reviews and overall ratings\n",
    "        reviews.append(Review(review['reviewText'], review['overall']))\n",
    "        \n",
    "reviews[5].text    \n"
   ]
  },
  {
   "cell_type": "code",
   "execution_count": 6,
   "id": "10f1e584",
   "metadata": {},
   "outputs": [
    {
     "data": {
      "text/plain": [
       "'POSITIVE'"
      ]
     },
     "execution_count": 6,
     "metadata": {},
     "output_type": "execute_result"
    }
   ],
   "source": [
    "reviews[5].sentiment"
   ]
  },
  {
   "cell_type": "code",
   "execution_count": 7,
   "id": "940c15ab",
   "metadata": {},
   "outputs": [
    {
     "data": {
      "text/plain": [
       "10000"
      ]
     },
     "execution_count": 7,
     "metadata": {},
     "output_type": "execute_result"
    }
   ],
   "source": [
    "len(reviews)"
   ]
  },
  {
   "cell_type": "markdown",
   "id": "a2460d01",
   "metadata": {},
   "source": [
    "## Prep Data"
   ]
  },
  {
   "cell_type": "code",
   "execution_count": 25,
   "id": "ce451d18",
   "metadata": {},
   "outputs": [],
   "source": [
    "from sklearn.model_selection import train_test_split\n",
    "\n",
    "# train_test_split() #press shift+tab to see how to use syntax\n",
    "\n",
    "training, test = train_test_split(reviews, test_size=0.33, random_state=42)\n",
    "\n",
    "train_container = ReviewContainer(training)\n",
    "test_container = ReviewContainer(test)\n",
    "\n"
   ]
  },
  {
   "cell_type": "code",
   "execution_count": 9,
   "id": "4cfc7e5c",
   "metadata": {},
   "outputs": [
    {
     "data": {
      "text/plain": [
       "(3300, 6700)"
      ]
     },
     "execution_count": 9,
     "metadata": {},
     "output_type": "execute_result"
    }
   ],
   "source": [
    "len(test), len(training)"
   ]
  },
  {
   "cell_type": "code",
   "execution_count": 10,
   "id": "4cf04178",
   "metadata": {},
   "outputs": [
    {
     "name": "stdout",
     "output_type": "stream",
     "text": [
      "POSITIVE\n"
     ]
    },
    {
     "data": {
      "text/plain": [
       "\"Olivia Hampton arrives at the Dunraven family home as cataloger of their extensive library. What she doesn't expect is a broken carriage wheel on the way. Nor a young girl whose mind is clearly gone, an old man in need of care himself (and doesn&#8217;t quite seem all there in Olivia&#8217;s opinion). Furthermore, Marion Dunraven, the only sane one of the bunch and the one Olivia is inexplicable drawn to, seems captive to everyone in the dusty old house. More importantly, she doesn't expect to fall in love with Dunraven's daughter Marion.Can Olivia truly believe the stories of sadness and death that surround the house, or are they all just local neighborhood rumor?Was that carriage trouble just a coincidence or a supernatural sign to stay away? If she remains, will the Castle&#8217;s dark shadows take Olivia down with them or will she and Marion long enough to declare their love?Patty G. Henderson has created an atmospheric and intriguing story in her Gothic tale. I found this to be an enjoyable read, even if it isn&#8217;t my usual preferred genre. I think, with this tale, I got hooked on the old Gothic romantic style. So I think fans of the genre (and of lesbian romances) will enjoy it.\""
      ]
     },
     "execution_count": 10,
     "metadata": {},
     "output_type": "execute_result"
    }
   ],
   "source": [
    "print(training[0].sentiment)\n",
    "training[0].text"
   ]
  },
  {
   "cell_type": "code",
   "execution_count": 35,
   "id": "dcbffb76",
   "metadata": {},
   "outputs": [],
   "source": [
    "train_container.evenly_distribute() # to improve the prediction\n",
    "test_container.evenly_distribute() # to improve f valueas test datset has more positive reviews"
   ]
  },
  {
   "cell_type": "code",
   "execution_count": 26,
   "id": "99ed55ec",
   "metadata": {},
   "outputs": [
    {
     "name": "stdout",
     "output_type": "stream",
     "text": [
      "436\n",
      "436\n"
     ]
    }
   ],
   "source": [
    "# collecting review(for training model) as text and sentiment in array format from training data set i.e (1-0.33)% of original data\n",
    "\n",
    "# train_x= [x.text for x in training]\n",
    "# train_y= [x.sentiment for x in training] ..... for neat coding we can define it in class of ReviewContainer\n",
    "\n",
    "\n",
    "train_x =train_container.get_text()\n",
    "train_y =train_container.get_sentiment()\n",
    "\n",
    "\n",
    "# collecting review as text and sentiment in array format from test data set\n",
    "\n",
    "test_x =test_container.get_text()\n",
    "test_y =test_container.get_sentiment()\n",
    "\n",
    "\n",
    "print(train_y.count(Sentiment.NEGATIVE))\n",
    "print(train_y.count(Sentiment.POSITIVE))\n",
    "\n",
    "# train_x[0] \n",
    "# train_y[0]\n"
   ]
  },
  {
   "cell_type": "markdown",
   "id": "b0fc9c9a",
   "metadata": {},
   "source": [
    "## BAG OF WORD METHOD\n",
    "\n",
    "#### Bag of word vectorization "
   ]
  },
  {
   "cell_type": "code",
   "execution_count": 41,
   "id": "8cf72f90",
   "metadata": {},
   "outputs": [],
   "source": [
    "# see bag of word doc on google for better understanding\n",
    "#also countvectorizer doc \n",
    "\n",
    "from sklearn.feature_extraction.text import CountVectorizer, TfidfVectorizer\n",
    "\n",
    "# This book is great .... here CountVectorizer we weight equally to all the words i.e this and great with same weight though great is of more imp\n",
    "# This book was so bad..... so we need improvement to improve this model... use(TfidfVectorizer.... here bad or good will be weight more as it occur less in both sentences)\n",
    "\n",
    "vectorizer = TfidfVectorizer()\n",
    "\n",
    "# fit a vectorizer to training data and transform training data to give train_x_vector... u can do this in 2 diff steps(see below)\n",
    "\n",
    "train_x_vectors= vectorizer.fit_transform(train_x)  # we get matrix of 670x7372 ... 670 rows corresponds to test dataset\n",
    "test_x_vectors= vectorizer.transform(test_x) #we dont want to fit just tranform becoz this is test data\n",
    "\n",
    "# another way\n",
    "\n",
    "# vectorizer.fit(train_x)\n",
    "# tain_x_vectors= vectorizer.transform(train_x)\n",
    "\n",
    "# print(train_x[0]) #text form\n",
    "# print(train_x_vectors[0].toarray()) #array form\n"
   ]
  },
  {
   "cell_type": "markdown",
   "id": "c18593bb",
   "metadata": {},
   "source": [
    "### Classification"
   ]
  },
  {
   "cell_type": "markdown",
   "id": "be8090a2",
   "metadata": {},
   "source": [
    "### Linear SVM"
   ]
  },
  {
   "cell_type": "code",
   "execution_count": 42,
   "id": "3dfb288c",
   "metadata": {},
   "outputs": [
    {
     "data": {
      "text/plain": [
       "SVC(kernel='linear')"
      ]
     },
     "execution_count": 42,
     "metadata": {},
     "output_type": "execute_result"
    }
   ],
   "source": [
    "# See related doc on google\n",
    "\n",
    "from sklearn import svm\n",
    "\n",
    "clf_svm = svm.SVC(kernel = 'linear')\n",
    "\n",
    "# print(type(train_y))\n",
    "\n",
    "clf_svm.fit(train_x_vectors, train_y) # we pass in x,y to fit this classifier to our data"
   ]
  },
  {
   "cell_type": "code",
   "execution_count": 43,
   "id": "53be73e5",
   "metadata": {},
   "outputs": [
    {
     "data": {
      "text/plain": [
       "(\"I expected this book to be rules, hints and help by R Lee Ermey and contain his words of wisdom but that's only partially true.  The other part of this book is a history of the man himself, his work and his life.  Which is very interesting and has some great points to consider as well.  While the book might help change some lives, at my age and current stage of life it's partly irrelevant.  Although many of his philosophies do apply in some way to my life, and some of the suggestions/orders will leak through the crust and affect my behavior.  I was actually surprised to find how close my standards are to his, minus the physical regimen, with never having been in the military.A good book and a good read.\",\n",
       " <1x8906 sparse matrix of type '<class 'numpy.float64'>'\n",
       " \twith 78 stored elements in Compressed Sparse Row format>)"
      ]
     },
     "execution_count": 43,
     "metadata": {},
     "output_type": "execute_result"
    }
   ],
   "source": [
    "test_x[0], test_x_vectors[0]"
   ]
  },
  {
   "cell_type": "code",
   "execution_count": 44,
   "id": "2c801cf4",
   "metadata": {},
   "outputs": [
    {
     "data": {
      "text/plain": [
       "array(['POSITIVE'], dtype='<U8')"
      ]
     },
     "execution_count": 44,
     "metadata": {},
     "output_type": "execute_result"
    }
   ],
   "source": [
    "#Prediction\n",
    "clf_svm.predict(test_x_vectors[0])"
   ]
  },
  {
   "cell_type": "markdown",
   "id": "ddbff4ff",
   "metadata": {},
   "source": [
    "###### MORE METHODS"
   ]
  },
  {
   "cell_type": "markdown",
   "id": "d71dc864",
   "metadata": {},
   "source": [
    "### Decision Tree"
   ]
  },
  {
   "cell_type": "code",
   "execution_count": 45,
   "id": "53cf6802",
   "metadata": {},
   "outputs": [
    {
     "data": {
      "text/plain": [
       "array(['NAGATIVE'], dtype='<U8')"
      ]
     },
     "execution_count": 45,
     "metadata": {},
     "output_type": "execute_result"
    }
   ],
   "source": [
    "from sklearn.tree import DecisionTreeClassifier\n",
    "\n",
    "clf_dec = DecisionTreeClassifier()\n",
    "clf_dec.fit(train_x_vectors, train_y)\n",
    "\n",
    "\n",
    "clf_dec.predict(test_x_vectors[0])"
   ]
  },
  {
   "cell_type": "markdown",
   "id": "6926e6bc",
   "metadata": {},
   "source": [
    "### Naive Bayes"
   ]
  },
  {
   "cell_type": "code",
   "execution_count": 46,
   "id": "21c17733",
   "metadata": {},
   "outputs": [
    {
     "data": {
      "text/plain": [
       "array(['POSITIVE'], dtype='<U8')"
      ]
     },
     "execution_count": 46,
     "metadata": {},
     "output_type": "execute_result"
    }
   ],
   "source": [
    "from sklearn.naive_bayes import GaussianNB\n",
    "\n",
    "clf_gnb = GaussianNB()\n",
    "clf_gnb.fit(train_x_vectors.todense(), train_y)\n",
    "\n",
    "clf_gnb.predict(test_x_vectors[0].todense())\n"
   ]
  },
  {
   "cell_type": "markdown",
   "id": "44bdc478",
   "metadata": {},
   "source": [
    "### Logistic Regression"
   ]
  },
  {
   "cell_type": "code",
   "execution_count": 47,
   "id": "224269ff",
   "metadata": {},
   "outputs": [
    {
     "data": {
      "text/plain": [
       "array(['POSITIVE'], dtype='<U8')"
      ]
     },
     "execution_count": 47,
     "metadata": {},
     "output_type": "execute_result"
    }
   ],
   "source": [
    "from sklearn.linear_model import LogisticRegression\n",
    "\n",
    "clf_log = LogisticRegression()\n",
    "clf_log.fit(train_x_vectors, train_y)\n",
    "\n",
    "clf_log.predict(test_x_vectors[0])"
   ]
  },
  {
   "cell_type": "markdown",
   "id": "6310f37a",
   "metadata": {},
   "source": [
    "### Evaluation"
   ]
  },
  {
   "cell_type": "code",
   "execution_count": 81,
   "id": "4240996c",
   "metadata": {},
   "outputs": [
    {
     "name": "stdout",
     "output_type": "stream",
     "text": [
      "0.8076923076923077\n",
      "0.6610576923076923\n",
      "0.6610576923076923\n",
      "0.8052884615384616\n"
     ]
    }
   ],
   "source": [
    "# See doc for .score ...pres shift+tab\n",
    "\n",
    "#Mean accuracy\n",
    "\n",
    "print(clf_svm.score(test_x_vectors, test_y))# give accuracy of your prediction\n",
    "print(clf_dec.score(test_x_vectors, test_y))\n",
    "print(clf_gnb.score(test_x_vectors.todense(), test_y)) # .todense() see in doc\n",
    "print(clf_log.score(test_x_vectors, test_y))"
   ]
  },
  {
   "cell_type": "code",
   "execution_count": 49,
   "id": "f821bcf6",
   "metadata": {},
   "outputs": [
    {
     "name": "stdout",
     "output_type": "stream",
     "text": [
      "[0.80582524 0.         0.80952381]\n"
     ]
    },
    {
     "name": "stderr",
     "output_type": "stream",
     "text": [
      "C:\\Users\\BLOODYPROF\\anaconda3\\lib\\site-packages\\sklearn\\metrics\\_classification.py:1492: UndefinedMetricWarning: F-score is ill-defined and being set to 0.0 in labels with no true nor predicted samples. Use `zero_division` parameter to control this behavior.\n",
      "  _warn_prf(\n"
     ]
    }
   ],
   "source": [
    "#F1 scores\n",
    "from sklearn.metrics import f1_score\n",
    "\n",
    "print(f1_score(test_y, clf_svm.predict(test_x_vectors), average=None , labels=[Sentiment.POSITIVE,Sentiment.NEUTRAL,Sentiment.NEGATIVE, ]))\n",
    "\n",
    "#print(f1_score(test_y, clf_log.predict(test_x_vectors), average=None , labels=[Sentiment.POSITIVE,Sentiment.NEUTRAL,Sentiment.NEGATIVE, ]))\n",
    "\n",
    "\n",
    "\n",
    "### this shows good prediction power of postive data but worst prediction in case of negative and neutral"
   ]
  },
  {
   "cell_type": "code",
   "execution_count": 20,
   "id": "a198240c",
   "metadata": {},
   "outputs": [
    {
     "name": "stdout",
     "output_type": "stream",
     "text": [
      "5611\n",
      "436\n",
      "653\n"
     ]
    }
   ],
   "source": [
    "## finding/improving on negative ,neutral side\n",
    "\n",
    "print(train_y.count(Sentiment.POSITIVE))\n",
    "print(train_y.count(Sentiment.NEGATIVE))\n",
    "print(train_y.count(Sentiment.NEUTRAL))\n",
    "\n",
    "#training dataset is biased towards positive side\n",
    "#We need to balance positive and negative data"
   ]
  },
  {
   "cell_type": "code",
   "execution_count": 58,
   "id": "d1454085",
   "metadata": {},
   "outputs": [
    {
     "data": {
      "text/plain": [
       "array(['POSITIVE', 'NAGATIVE', 'NAGATIVE'], dtype='<U8')"
      ]
     },
     "execution_count": 58,
     "metadata": {},
     "output_type": "execute_result"
    }
   ],
   "source": [
    "## test\n",
    "\n",
    "test_set =['thats brilliant' , 'bad book do not but' , 'horrible waste of time']\n",
    "new_test= vectorizer.transform(test_set)\n",
    "\n",
    "clf_svm.predict(new_test)"
   ]
  },
  {
   "cell_type": "markdown",
   "id": "6b36f1f1",
   "metadata": {},
   "source": [
    "###### Increasing Accuracy "
   ]
  },
  {
   "cell_type": "markdown",
   "id": "2bde56da",
   "metadata": {},
   "source": [
    "## Tuning our Model (With Grid Search)"
   ]
  },
  {
   "cell_type": "code",
   "execution_count": 73,
   "id": "350fc7ea",
   "metadata": {},
   "outputs": [],
   "source": [
    "from sklearn.model_selection import GridSearchCV\n",
    "\n",
    "#Parameters in SVC\n",
    "# C=1.0,\n",
    "#     kernel='rbf',\n",
    "#     degree=3,\n",
    "#     gamma='scale',\n",
    "#     coef0=0.0,\n",
    "#     shrinking=True,\n",
    "#     probability=False,\n",
    "#     tol=0.001,\n",
    "#     cache_size=200,\n",
    "#     class_weight=None,\n",
    "#     verbose=False,\n",
    "#     max_iter=-1,\n",
    "#     decision_function_shape='ovr',\n",
    "#     break_ties=False,\n",
    "#     random_state=None,\n",
    "# )\n",
    "# we dont know parameters and what values will suit best here so...\n",
    "# we will uses gridsearch method to find optimal values for such parameters\n"
   ]
  },
  {
   "cell_type": "code",
   "execution_count": 79,
   "id": "34265342",
   "metadata": {},
   "outputs": [
    {
     "data": {
      "text/plain": [
       "GridSearchCV(cv=5, estimator=SVC(),\n",
       "             param_grid={'C': [1, 4, 8, 16, 32], 'kernel': ['linear', 'rbf']})"
      ]
     },
     "execution_count": 79,
     "metadata": {},
     "output_type": "execute_result"
    }
   ],
   "source": [
    "parameters = {'kernel': ['linear','rbf'], 'C':[1,4,8,16,32]}\n",
    "svc = svm.SVC()\n",
    "clf = GridSearchCV(svc, parameters, cv=5) # cv== Determines the cross-validation splitting strategy.\n",
    "clf.fit(train_x_vectors, train_y)\n",
    "\n"
   ]
  },
  {
   "cell_type": "code",
   "execution_count": 80,
   "id": "ca1c83ef",
   "metadata": {},
   "outputs": [
    {
     "name": "stdout",
     "output_type": "stream",
     "text": [
      "0.8197115384615384\n"
     ]
    }
   ],
   "source": [
    "print(clf.score(test_x_vectors, test_y))"
   ]
  },
  {
   "cell_type": "markdown",
   "id": "086b3118",
   "metadata": {},
   "source": [
    "## Saving Model"
   ]
  },
  {
   "cell_type": "code",
   "execution_count": 84,
   "id": "db1b40ef",
   "metadata": {},
   "outputs": [],
   "source": [
    "import pickle\n",
    "\n",
    "with open('sentiment_classifier.pkl', 'wb') as f: #wb== write there.. write buffer\n",
    "    pickle.dump(clf,f) # dumping classifier into the file"
   ]
  },
  {
   "cell_type": "markdown",
   "id": "11342d52",
   "metadata": {},
   "source": [
    "## Load model"
   ]
  },
  {
   "cell_type": "code",
   "execution_count": 85,
   "id": "f46d5170",
   "metadata": {},
   "outputs": [],
   "source": [
    "with open('sentiment_classifier.pkl', 'rb') as f: #rb==read buffer\n",
    "    loaded_clf = pickle.load(f)"
   ]
  },
  {
   "cell_type": "code",
   "execution_count": 87,
   "id": "9f5cfe33",
   "metadata": {},
   "outputs": [
    {
     "name": "stdout",
     "output_type": "stream",
     "text": [
      "I expected this book to be rules, hints and help by R Lee Ermey and contain his words of wisdom but that's only partially true.  The other part of this book is a history of the man himself, his work and his life.  Which is very interesting and has some great points to consider as well.  While the book might help change some lives, at my age and current stage of life it's partly irrelevant.  Although many of his philosophies do apply in some way to my life, and some of the suggestions/orders will leak through the crust and affect my behavior.  I was actually surprised to find how close my standards are to his, minus the physical regimen, with never having been in the military.A good book and a good read.\n"
     ]
    },
    {
     "data": {
      "text/plain": [
       "array(['POSITIVE'], dtype='<U8')"
      ]
     },
     "execution_count": 87,
     "metadata": {},
     "output_type": "execute_result"
    }
   ],
   "source": [
    "print(test_x[0])\n",
    "loaded_clf.predict(test_x_vectors[0])"
   ]
  },
  {
   "cell_type": "code",
   "execution_count": null,
   "id": "9d2bcce9",
   "metadata": {},
   "outputs": [],
   "source": []
  }
 ],
 "metadata": {
  "kernelspec": {
   "display_name": "Python 3 (ipykernel)",
   "language": "python",
   "name": "python3"
  },
  "language_info": {
   "codemirror_mode": {
    "name": "ipython",
    "version": 3
   },
   "file_extension": ".py",
   "mimetype": "text/x-python",
   "name": "python",
   "nbconvert_exporter": "python",
   "pygments_lexer": "ipython3",
   "version": "3.9.7"
  }
 },
 "nbformat": 4,
 "nbformat_minor": 5
}
