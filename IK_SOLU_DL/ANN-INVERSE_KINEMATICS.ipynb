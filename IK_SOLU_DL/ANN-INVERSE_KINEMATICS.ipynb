{
 "cells": [
  {
   "cell_type": "code",
   "execution_count": 1,
   "id": "8a195466",
   "metadata": {},
   "outputs": [],
   "source": [
    "import pandas as pd\n",
    "import numpy as np\n",
    "import math\n",
    "import tensorflow as tf"
   ]
  },
  {
   "cell_type": "code",
   "execution_count": 2,
   "id": "967bc342",
   "metadata": {},
   "outputs": [
    {
     "name": "stdout",
     "output_type": "stream",
     "text": [
      "-3.141592653589793\n"
     ]
    }
   ],
   "source": [
    "df = pd.DataFrame()\n",
    "print(-math.pi)"
   ]
  },
  {
   "cell_type": "code",
   "execution_count": 3,
   "id": "2bb959e7",
   "metadata": {},
   "outputs": [
    {
     "name": "stdout",
     "output_type": "stream",
     "text": [
      "1.2246467991473532e-16\n"
     ]
    }
   ],
   "source": [
    "print(np.sin(math.pi))"
   ]
  },
  {
   "cell_type": "code",
   "execution_count": 4,
   "id": "a5b16254",
   "metadata": {},
   "outputs": [],
   "source": [
    "theta1= np.linspace(0,math.pi, 5500)\n",
    "np.random.shuffle(theta1)\n",
    "theta2= np.linspace(0,2*math.pi, 5500)\n",
    "np.random.shuffle(theta2)"
   ]
  },
  {
   "cell_type": "code",
   "execution_count": 5,
   "id": "f68ad202",
   "metadata": {},
   "outputs": [],
   "source": [
    "input_y= np.sin(theta1)+np.sin(theta1+theta2)\n",
    "input_x= np.cos(theta1)+ np.cos(theta1+theta2)"
   ]
  },
  {
   "cell_type": "code",
   "execution_count": 6,
   "id": "34f028ca",
   "metadata": {},
   "outputs": [
    {
     "data": {
      "text/html": [
       "<div>\n",
       "<style scoped>\n",
       "    .dataframe tbody tr th:only-of-type {\n",
       "        vertical-align: middle;\n",
       "    }\n",
       "\n",
       "    .dataframe tbody tr th {\n",
       "        vertical-align: top;\n",
       "    }\n",
       "\n",
       "    .dataframe thead th {\n",
       "        text-align: right;\n",
       "    }\n",
       "</style>\n",
       "<table border=\"1\" class=\"dataframe\">\n",
       "  <thead>\n",
       "    <tr style=\"text-align: right;\">\n",
       "      <th></th>\n",
       "      <th>X</th>\n",
       "      <th>Y</th>\n",
       "      <th>Theta1</th>\n",
       "      <th>Theta2</th>\n",
       "    </tr>\n",
       "  </thead>\n",
       "  <tbody>\n",
       "    <tr>\n",
       "      <th>0</th>\n",
       "      <td>0.331966</td>\n",
       "      <td>0.537454</td>\n",
       "      <td>2.266928</td>\n",
       "      <td>3.784308</td>\n",
       "    </tr>\n",
       "    <tr>\n",
       "      <th>1</th>\n",
       "      <td>0.774452</td>\n",
       "      <td>-0.103253</td>\n",
       "      <td>1.036914</td>\n",
       "      <td>3.944273</td>\n",
       "    </tr>\n",
       "    <tr>\n",
       "      <th>2</th>\n",
       "      <td>1.022089</td>\n",
       "      <td>1.030591</td>\n",
       "      <td>0.030850</td>\n",
       "      <td>1.517380</td>\n",
       "    </tr>\n",
       "    <tr>\n",
       "      <th>3</th>\n",
       "      <td>-0.764758</td>\n",
       "      <td>-0.033664</td>\n",
       "      <td>2.007557</td>\n",
       "      <td>2.356052</td>\n",
       "    </tr>\n",
       "    <tr>\n",
       "      <th>4</th>\n",
       "      <td>0.379295</td>\n",
       "      <td>0.074841</td>\n",
       "      <td>1.571082</td>\n",
       "      <td>3.530650</td>\n",
       "    </tr>\n",
       "    <tr>\n",
       "      <th>5</th>\n",
       "      <td>-1.319567</td>\n",
       "      <td>1.392803</td>\n",
       "      <td>2.615423</td>\n",
       "      <td>5.710740</td>\n",
       "    </tr>\n",
       "    <tr>\n",
       "      <th>6</th>\n",
       "      <td>1.339412</td>\n",
       "      <td>0.257141</td>\n",
       "      <td>1.010063</td>\n",
       "      <td>4.642404</td>\n",
       "    </tr>\n",
       "    <tr>\n",
       "      <th>7</th>\n",
       "      <td>-0.708800</td>\n",
       "      <td>1.788375</td>\n",
       "      <td>1.671060</td>\n",
       "      <td>0.554163</td>\n",
       "    </tr>\n",
       "    <tr>\n",
       "      <th>8</th>\n",
       "      <td>-1.800067</td>\n",
       "      <td>0.749983</td>\n",
       "      <td>2.970773</td>\n",
       "      <td>5.835284</td>\n",
       "    </tr>\n",
       "    <tr>\n",
       "      <th>9</th>\n",
       "      <td>1.036135</td>\n",
       "      <td>0.810567</td>\n",
       "      <td>1.516808</td>\n",
       "      <td>4.577276</td>\n",
       "    </tr>\n",
       "  </tbody>\n",
       "</table>\n",
       "</div>"
      ],
      "text/plain": [
       "          X         Y    Theta1    Theta2\n",
       "0  0.331966  0.537454  2.266928  3.784308\n",
       "1  0.774452 -0.103253  1.036914  3.944273\n",
       "2  1.022089  1.030591  0.030850  1.517380\n",
       "3 -0.764758 -0.033664  2.007557  2.356052\n",
       "4  0.379295  0.074841  1.571082  3.530650\n",
       "5 -1.319567  1.392803  2.615423  5.710740\n",
       "6  1.339412  0.257141  1.010063  4.642404\n",
       "7 -0.708800  1.788375  1.671060  0.554163\n",
       "8 -1.800067  0.749983  2.970773  5.835284\n",
       "9  1.036135  0.810567  1.516808  4.577276"
      ]
     },
     "execution_count": 6,
     "metadata": {},
     "output_type": "execute_result"
    }
   ],
   "source": [
    "df['X']=input_x\n",
    "df['Y']=input_y\n",
    "df['Theta1']=theta1\n",
    "df['Theta2']=theta2\n",
    "df.head(10)"
   ]
  },
  {
   "cell_type": "code",
   "execution_count": 7,
   "id": "380631b5",
   "metadata": {},
   "outputs": [],
   "source": [
    "df.to_csv('Inverse_Kinematic_Dataset.csv',header=False,index=False)"
   ]
  },
  {
   "cell_type": "code",
   "execution_count": 8,
   "id": "ec736d13",
   "metadata": {},
   "outputs": [],
   "source": [
    "raw_df = np.loadtxt('Inverse_Kinematic_Dataset.csv' , delimiter=',')"
   ]
  },
  {
   "cell_type": "code",
   "execution_count": 9,
   "id": "3c0f9c6e",
   "metadata": {},
   "outputs": [
    {
     "name": "stdout",
     "output_type": "stream",
     "text": [
      "(5500, 2) (5500, 2)\n"
     ]
    }
   ],
   "source": [
    "inputs = raw_df[:,:2]\n",
    "targets = raw_df[:,2:]\n",
    "print(inputs.shape,targets.shape)"
   ]
  },
  {
   "cell_type": "code",
   "execution_count": 10,
   "id": "1a769148",
   "metadata": {},
   "outputs": [
    {
     "data": {
      "text/plain": [
       "(array([-0.76475826, -0.03366366]), array([2.00755712, 2.35605166]))"
      ]
     },
     "execution_count": 10,
     "metadata": {},
     "output_type": "execute_result"
    }
   ],
   "source": [
    "inputs[3],targets[3]"
   ]
  },
  {
   "cell_type": "code",
   "execution_count": 11,
   "id": "c42a1a66",
   "metadata": {},
   "outputs": [],
   "source": [
    "samples_count = inputs.shape[0]\n",
    "\n",
    "train_samples_count = int(0.8*samples_count)\n",
    "validation_samples_count = int(0.1*samples_count)\n",
    "test_samples_count = samples_count - train_samples_count - validation_samples_count\n",
    "\n",
    "train_inputs = inputs[:train_samples_count]\n",
    "train_targets = targets[:train_samples_count]\n",
    "\n",
    "validation_inputs = inputs[train_samples_count:train_samples_count+validation_samples_count]\n",
    "validation_targets = targets[train_samples_count:train_samples_count+validation_samples_count]\n",
    "\n",
    "test_inputs =inputs[train_samples_count+validation_samples_count:]\n",
    "test_targets =targets[train_samples_count+validation_samples_count:]"
   ]
  },
  {
   "cell_type": "code",
   "execution_count": 12,
   "id": "9f360875",
   "metadata": {},
   "outputs": [],
   "source": [
    "np.savez('IK_data_train', inputs=train_inputs, targets=train_targets)\n",
    "np.savez('IK_data_validation', inputs=validation_inputs, targets=validation_targets)\n",
    "np.savez('IK_data_test', inputs=test_inputs, targets=test_targets)"
   ]
  },
  {
   "cell_type": "code",
   "execution_count": 13,
   "id": "15d8d4de",
   "metadata": {},
   "outputs": [],
   "source": [
    "npz = np.load('IK_data_train.npz')\n",
    "train_inputs, train_targets = npz['inputs'].astype(np.float64) , npz['targets'].astype(np.float64)\n",
    "\n",
    "\n",
    "npz = np.load('IK_data_validation.npz')\n",
    "validation_inputs, validation_targets = npz['inputs'].astype(np.float64), npz['targets'].astype(np.float64)\n",
    "\n",
    "\n",
    "npz = np.load('IK_data_test.npz')\n",
    "test_inputs, test_targets = npz['inputs'].astype(np.float64), npz['targets'].astype(np.float64)"
   ]
  },
  {
   "cell_type": "code",
   "execution_count": 14,
   "id": "097926f2",
   "metadata": {},
   "outputs": [
    {
     "name": "stdout",
     "output_type": "stream",
     "text": [
      "Epoch 1/1000\n",
      "440/440 - 2s - loss: 0.9920 - accuracy: 0.8032 - val_loss: 0.8416 - val_accuracy: 0.8327\n",
      "Epoch 2/1000\n",
      "440/440 - 2s - loss: 0.8770 - accuracy: 0.8207 - val_loss: 0.8467 - val_accuracy: 0.8473\n",
      "Epoch 3/1000\n",
      "440/440 - 2s - loss: 0.8756 - accuracy: 0.8232 - val_loss: 0.8345 - val_accuracy: 0.8491\n",
      "Epoch 4/1000\n",
      "440/440 - 2s - loss: 0.8552 - accuracy: 0.8218 - val_loss: 0.8247 - val_accuracy: 0.8382\n",
      "Epoch 5/1000\n",
      "440/440 - 2s - loss: 0.8585 - accuracy: 0.8198 - val_loss: 0.8164 - val_accuracy: 0.8309\n",
      "Epoch 6/1000\n",
      "440/440 - 2s - loss: 0.8437 - accuracy: 0.8216 - val_loss: 0.8324 - val_accuracy: 0.8527\n",
      "Epoch 7/1000\n",
      "440/440 - 2s - loss: 0.8481 - accuracy: 0.8211 - val_loss: 0.8258 - val_accuracy: 0.8473\n",
      "Epoch 8/1000\n",
      "440/440 - 2s - loss: 0.8547 - accuracy: 0.8284 - val_loss: 0.8328 - val_accuracy: 0.8473\n"
     ]
    },
    {
     "data": {
      "text/plain": [
       "<keras.callbacks.History at 0x196c12a5130>"
      ]
     },
     "execution_count": 14,
     "metadata": {},
     "output_type": "execute_result"
    }
   ],
   "source": [
    "input_size = 2\n",
    "output_size = 2\n",
    "hidden_layer_size = 200\n",
    "\n",
    "model = tf.keras.Sequential([\n",
    "    tf.keras.layers.Dense(hidden_layer_size+50, activation='tanh'), # 1st hidden layer\n",
    "    tf.keras.layers.Dense(hidden_layer_size+100, activation='tanh'),\n",
    "    tf.keras.layers.Dense(hidden_layer_size+150, activation='tanh'),\n",
    "    tf.keras.layers.Dense(hidden_layer_size+200, activation='tanh'),\n",
    "    tf.keras.layers.Dense(hidden_layer_size+250, activation='tanh'),\n",
    "    tf.keras.layers.Dense(hidden_layer_size+300, activation='tanh'),\n",
    "    tf.keras.layers.Dense(hidden_layer_size+350, activation='tanh'),\n",
    "    tf.keras.layers.Dense(output_size, activation='LeakyReLU') # output layer\n",
    "])\n",
    "\n",
    "\n",
    "# define the optimizer\n",
    "# the loss function, \n",
    "# and the metrics-  obtaining at each iteration\n",
    "model.compile(optimizer='adam', loss='MeanAbsoluteError', metrics=['accuracy'])\n",
    "\n",
    "### Training\n",
    "\n",
    "# set the batch size\n",
    "batch_size = 10\n",
    "\n",
    "#  maximum number of training epochs\n",
    "max_epochs = 1000\n",
    "\n",
    "early_stopping = tf.keras.callbacks.EarlyStopping(patience=3)\n",
    "\n",
    "# fit the model\n",
    "model.fit(train_inputs, \n",
    "          train_targets, \n",
    "          batch_size=batch_size,\n",
    "          epochs=max_epochs,\n",
    "          callbacks=[early_stopping],\n",
    "          validation_data=(validation_inputs, validation_targets),\n",
    "          verbose = 2 \n",
    "          )  "
   ]
  },
  {
   "cell_type": "code",
   "execution_count": 15,
   "id": "ebf25197",
   "metadata": {},
   "outputs": [
    {
     "name": "stdout",
     "output_type": "stream",
     "text": [
      "18/18 [==============================] - 0s 2ms/step - loss: 0.8420 - accuracy: 0.8127\n"
     ]
    }
   ],
   "source": [
    "test_loss,test_accuracy=model.evaluate(test_inputs, test_targets)"
   ]
  },
  {
   "cell_type": "code",
   "execution_count": 16,
   "id": "09e41601",
   "metadata": {},
   "outputs": [
    {
     "data": {
      "text/plain": [
       "array([[0.8729464, 4.3039036]], dtype=float32)"
      ]
     },
     "execution_count": 16,
     "metadata": {},
     "output_type": "execute_result"
    }
   ],
   "source": [
    "x=np.array([2*(np.cos(math.pi/3)), 2*(np.sin(math.pi/3))])\n",
    "model.predict(x.reshape(1,2))"
   ]
  },
  {
   "cell_type": "code",
   "execution_count": 17,
   "id": "95255a34",
   "metadata": {},
   "outputs": [],
   "source": [
    "theta1_test= np.linspace(0, math.pi, 5)\n",
    "np.random.shuffle(theta1)\n",
    "theta2_test= np.linspace(math.pi/2,2*math.pi, 5)\n",
    "np.random.shuffle(theta2)\n",
    "test_input_y= np.sin(theta1_test)+np.sin(theta1_test+theta2_test)\n",
    "test_input_x= np.cos(theta1_test)+ np.cos(theta1_test+theta2_test)"
   ]
  },
  {
   "cell_type": "code",
   "execution_count": 18,
   "id": "7c941a0d",
   "metadata": {},
   "outputs": [
    {
     "data": {
      "text/html": [
       "<div>\n",
       "<style scoped>\n",
       "    .dataframe tbody tr th:only-of-type {\n",
       "        vertical-align: middle;\n",
       "    }\n",
       "\n",
       "    .dataframe tbody tr th {\n",
       "        vertical-align: top;\n",
       "    }\n",
       "\n",
       "    .dataframe thead th {\n",
       "        text-align: right;\n",
       "    }\n",
       "</style>\n",
       "<table border=\"1\" class=\"dataframe\">\n",
       "  <thead>\n",
       "    <tr style=\"text-align: right;\">\n",
       "      <th></th>\n",
       "      <th>X</th>\n",
       "      <th>Y</th>\n",
       "      <th>Theta1</th>\n",
       "      <th>Theta2</th>\n",
       "    </tr>\n",
       "  </thead>\n",
       "  <tbody>\n",
       "    <tr>\n",
       "      <th>0</th>\n",
       "      <td>1.000000</td>\n",
       "      <td>1.000000e+00</td>\n",
       "      <td>0.000000</td>\n",
       "      <td>1.570796</td>\n",
       "    </tr>\n",
       "    <tr>\n",
       "      <th>1</th>\n",
       "      <td>-0.216773</td>\n",
       "      <td>3.244233e-01</td>\n",
       "      <td>0.785398</td>\n",
       "      <td>2.748894</td>\n",
       "    </tr>\n",
       "    <tr>\n",
       "      <th>2</th>\n",
       "      <td>0.707107</td>\n",
       "      <td>2.928932e-01</td>\n",
       "      <td>1.570796</td>\n",
       "      <td>3.926991</td>\n",
       "    </tr>\n",
       "    <tr>\n",
       "      <th>3</th>\n",
       "      <td>-0.324423</td>\n",
       "      <td>1.630986e+00</td>\n",
       "      <td>2.356194</td>\n",
       "      <td>5.105088</td>\n",
       "    </tr>\n",
       "    <tr>\n",
       "      <th>4</th>\n",
       "      <td>-2.000000</td>\n",
       "      <td>4.898587e-16</td>\n",
       "      <td>3.141593</td>\n",
       "      <td>6.283185</td>\n",
       "    </tr>\n",
       "  </tbody>\n",
       "</table>\n",
       "</div>"
      ],
      "text/plain": [
       "          X             Y    Theta1    Theta2\n",
       "0  1.000000  1.000000e+00  0.000000  1.570796\n",
       "1 -0.216773  3.244233e-01  0.785398  2.748894\n",
       "2  0.707107  2.928932e-01  1.570796  3.926991\n",
       "3 -0.324423  1.630986e+00  2.356194  5.105088\n",
       "4 -2.000000  4.898587e-16  3.141593  6.283185"
      ]
     },
     "execution_count": 18,
     "metadata": {},
     "output_type": "execute_result"
    }
   ],
   "source": [
    "df_test = pd.DataFrame()\n",
    "df_test['X']=test_input_x\n",
    "df_test['Y']=test_input_y\n",
    "df_test['Theta1']=theta1_test\n",
    "df_test['Theta2']=theta2_test\n",
    "df_test.head(10)"
   ]
  },
  {
   "cell_type": "code",
   "execution_count": 19,
   "id": "4abec928",
   "metadata": {},
   "outputs": [],
   "source": [
    "df_test.to_csv('IK_Test_Dataset.csv',header=False,index=False)\n",
    "test_df = np.loadtxt('IK_Test_Dataset.csv' , delimiter=',')"
   ]
  },
  {
   "cell_type": "code",
   "execution_count": 20,
   "id": "238c6b68",
   "metadata": {},
   "outputs": [
    {
     "name": "stdout",
     "output_type": "stream",
     "text": [
      "(5, 2) (5, 2)\n"
     ]
    }
   ],
   "source": [
    "inputs_test = test_df[:,:2]\n",
    "targets_test = test_df[:,2:]\n",
    "print(inputs_test.shape,targets_test.shape)"
   ]
  },
  {
   "cell_type": "code",
   "execution_count": 21,
   "id": "16154caf",
   "metadata": {},
   "outputs": [
    {
     "name": "stdout",
     "output_type": "stream",
     "text": [
      "1/1 [==============================] - 0s 29ms/step - loss: 1.4286 - accuracy: 0.8000\n"
     ]
    }
   ],
   "source": [
    "test_loss,test_accuracy=model.evaluate(inputs_test,targets_test)"
   ]
  },
  {
   "cell_type": "code",
   "execution_count": null,
   "id": "8651cf1a",
   "metadata": {},
   "outputs": [],
   "source": []
  }
 ],
 "metadata": {
  "kernelspec": {
   "display_name": "Python 3 (ipykernel)",
   "language": "python",
   "name": "python3"
  },
  "language_info": {
   "codemirror_mode": {
    "name": "ipython",
    "version": 3
   },
   "file_extension": ".py",
   "mimetype": "text/x-python",
   "name": "python",
   "nbconvert_exporter": "python",
   "pygments_lexer": "ipython3",
   "version": "3.9.7"
  }
 },
 "nbformat": 4,
 "nbformat_minor": 5
}
