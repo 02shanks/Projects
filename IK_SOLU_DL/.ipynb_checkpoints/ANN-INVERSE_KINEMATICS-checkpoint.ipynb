{
 "cells": [
  {
   "cell_type": "code",
   "execution_count": 1,
   "id": "8a195466",
   "metadata": {},
   "outputs": [],
   "source": [
    "import pandas as pd\n",
    "import numpy as np\n",
    "import math\n",
    "import tensorflow as tf"
   ]
  },
  {
   "cell_type": "code",
   "execution_count": 2,
   "id": "967bc342",
   "metadata": {},
   "outputs": [
    {
     "name": "stdout",
     "output_type": "stream",
     "text": [
      "-3.141592653589793\n"
     ]
    }
   ],
   "source": [
    "df = pd.DataFrame()\n",
    "print(-math.pi)"
   ]
  },
  {
   "cell_type": "code",
   "execution_count": 3,
   "id": "2bb959e7",
   "metadata": {},
   "outputs": [
    {
     "name": "stdout",
     "output_type": "stream",
     "text": [
      "1.2246467991473532e-16\n"
     ]
    }
   ],
   "source": [
    "print(np.sin(math.pi))"
   ]
  },
  {
   "cell_type": "code",
   "execution_count": 4,
   "id": "a5b16254",
   "metadata": {},
   "outputs": [],
   "source": [
    "theta1= np.linspace(0,math.pi, 5500)\n",
    "np.random.shuffle(theta1)\n",
    "theta2= np.linspace(0,2*math.pi, 5500)\n",
    "np.random.shuffle(theta2)"
   ]
  },
  {
   "cell_type": "code",
   "execution_count": 5,
   "id": "f68ad202",
   "metadata": {},
   "outputs": [],
   "source": [
    "input_y= np.sin(theta1)+np.sin(theta1+theta2)\n",
    "input_x= np.cos(theta1)+ np.cos(theta1+theta2)"
   ]
  },
  {
   "cell_type": "code",
   "execution_count": 6,
   "id": "34f028ca",
   "metadata": {},
   "outputs": [
    {
     "data": {
      "text/html": [
       "<div>\n",
       "<style scoped>\n",
       "    .dataframe tbody tr th:only-of-type {\n",
       "        vertical-align: middle;\n",
       "    }\n",
       "\n",
       "    .dataframe tbody tr th {\n",
       "        vertical-align: top;\n",
       "    }\n",
       "\n",
       "    .dataframe thead th {\n",
       "        text-align: right;\n",
       "    }\n",
       "</style>\n",
       "<table border=\"1\" class=\"dataframe\">\n",
       "  <thead>\n",
       "    <tr style=\"text-align: right;\">\n",
       "      <th></th>\n",
       "      <th>X</th>\n",
       "      <th>Y</th>\n",
       "      <th>Theta1</th>\n",
       "      <th>Theta2</th>\n",
       "    </tr>\n",
       "  </thead>\n",
       "  <tbody>\n",
       "    <tr>\n",
       "      <th>0</th>\n",
       "      <td>-1.465429</td>\n",
       "      <td>0.895341</td>\n",
       "      <td>3.131309</td>\n",
       "      <td>5.206851</td>\n",
       "    </tr>\n",
       "    <tr>\n",
       "      <th>1</th>\n",
       "      <td>-1.529135</td>\n",
       "      <td>-0.577428</td>\n",
       "      <td>2.888506</td>\n",
       "      <td>1.228300</td>\n",
       "    </tr>\n",
       "    <tr>\n",
       "      <th>2</th>\n",
       "      <td>-0.493875</td>\n",
       "      <td>-0.256334</td>\n",
       "      <td>2.331486</td>\n",
       "      <td>2.577717</td>\n",
       "    </tr>\n",
       "    <tr>\n",
       "      <th>3</th>\n",
       "      <td>-1.195497</td>\n",
       "      <td>1.068910</td>\n",
       "      <td>1.771609</td>\n",
       "      <td>1.280860</td>\n",
       "    </tr>\n",
       "    <tr>\n",
       "      <th>4</th>\n",
       "      <td>0.333960</td>\n",
       "      <td>0.025232</td>\n",
       "      <td>1.477960</td>\n",
       "      <td>3.478090</td>\n",
       "    </tr>\n",
       "    <tr>\n",
       "      <th>5</th>\n",
       "      <td>0.757786</td>\n",
       "      <td>-0.361964</td>\n",
       "      <td>0.691847</td>\n",
       "      <td>4.008259</td>\n",
       "    </tr>\n",
       "    <tr>\n",
       "      <th>6</th>\n",
       "      <td>0.054341</td>\n",
       "      <td>0.098491</td>\n",
       "      <td>2.581145</td>\n",
       "      <td>3.254139</td>\n",
       "    </tr>\n",
       "    <tr>\n",
       "      <th>7</th>\n",
       "      <td>1.582631</td>\n",
       "      <td>1.197780</td>\n",
       "      <td>0.524456</td>\n",
       "      <td>0.246803</td>\n",
       "    </tr>\n",
       "    <tr>\n",
       "      <th>8</th>\n",
       "      <td>1.818581</td>\n",
       "      <td>0.831945</td>\n",
       "      <td>0.416480</td>\n",
       "      <td>0.025137</td>\n",
       "    </tr>\n",
       "    <tr>\n",
       "      <th>9</th>\n",
       "      <td>-1.859303</td>\n",
       "      <td>0.681547</td>\n",
       "      <td>2.649701</td>\n",
       "      <td>0.281081</td>\n",
       "    </tr>\n",
       "  </tbody>\n",
       "</table>\n",
       "</div>"
      ],
      "text/plain": [
       "          X         Y    Theta1    Theta2\n",
       "0 -1.465429  0.895341  3.131309  5.206851\n",
       "1 -1.529135 -0.577428  2.888506  1.228300\n",
       "2 -0.493875 -0.256334  2.331486  2.577717\n",
       "3 -1.195497  1.068910  1.771609  1.280860\n",
       "4  0.333960  0.025232  1.477960  3.478090\n",
       "5  0.757786 -0.361964  0.691847  4.008259\n",
       "6  0.054341  0.098491  2.581145  3.254139\n",
       "7  1.582631  1.197780  0.524456  0.246803\n",
       "8  1.818581  0.831945  0.416480  0.025137\n",
       "9 -1.859303  0.681547  2.649701  0.281081"
      ]
     },
     "execution_count": 6,
     "metadata": {},
     "output_type": "execute_result"
    }
   ],
   "source": [
    "df['X']=input_x\n",
    "df['Y']=input_y\n",
    "df['Theta1']=theta1\n",
    "df['Theta2']=theta2\n",
    "df.head(10)"
   ]
  },
  {
   "cell_type": "code",
   "execution_count": 7,
   "id": "380631b5",
   "metadata": {},
   "outputs": [],
   "source": [
    "df.to_csv('Inverse_Kinematic_Dataset.csv',header=False,index=False)"
   ]
  },
  {
   "cell_type": "code",
   "execution_count": 8,
   "id": "ec736d13",
   "metadata": {},
   "outputs": [],
   "source": [
    "raw_df = np.loadtxt('Inverse_Kinematic_Dataset.csv' , delimiter=',')"
   ]
  },
  {
   "cell_type": "code",
   "execution_count": 9,
   "id": "3c0f9c6e",
   "metadata": {},
   "outputs": [
    {
     "name": "stdout",
     "output_type": "stream",
     "text": [
      "(5500, 2) (5500, 2)\n"
     ]
    }
   ],
   "source": [
    "inputs = raw_df[:,:2]\n",
    "targets = raw_df[:,2:]\n",
    "print(inputs.shape,targets.shape)"
   ]
  },
  {
   "cell_type": "code",
   "execution_count": 10,
   "id": "1a769148",
   "metadata": {},
   "outputs": [
    {
     "data": {
      "text/plain": [
       "(array([-1.19549706,  1.06891003]), array([1.77160917, 1.28086029]))"
      ]
     },
     "execution_count": 10,
     "metadata": {},
     "output_type": "execute_result"
    }
   ],
   "source": [
    "inputs[3],targets[3]"
   ]
  },
  {
   "cell_type": "code",
   "execution_count": 11,
   "id": "c42a1a66",
   "metadata": {},
   "outputs": [],
   "source": [
    "samples_count = inputs.shape[0]\n",
    "\n",
    "train_samples_count = int(0.8*samples_count)\n",
    "validation_samples_count = int(0.1*samples_count)\n",
    "test_samples_count = samples_count - train_samples_count - validation_samples_count\n",
    "\n",
    "train_inputs = inputs[:train_samples_count]\n",
    "train_targets = targets[:train_samples_count]\n",
    "\n",
    "validation_inputs = inputs[train_samples_count:train_samples_count+validation_samples_count]\n",
    "validation_targets = targets[train_samples_count:train_samples_count+validation_samples_count]\n",
    "\n",
    "test_inputs =inputs[train_samples_count+validation_samples_count:]\n",
    "test_targets =targets[train_samples_count+validation_samples_count:]"
   ]
  },
  {
   "cell_type": "code",
   "execution_count": 12,
   "id": "9f360875",
   "metadata": {},
   "outputs": [],
   "source": [
    "np.savez('IK_data_train', inputs=train_inputs, targets=train_targets)\n",
    "np.savez('IK_data_validation', inputs=validation_inputs, targets=validation_targets)\n",
    "np.savez('IK_data_test', inputs=test_inputs, targets=test_targets)"
   ]
  },
  {
   "cell_type": "code",
   "execution_count": 13,
   "id": "15d8d4de",
   "metadata": {},
   "outputs": [],
   "source": [
    "npz = np.load('IK_data_train.npz')\n",
    "train_inputs, train_targets = npz['inputs'].astype(np.float64) , npz['targets'].astype(np.float64)\n",
    "\n",
    "\n",
    "npz = np.load('IK_data_validation.npz')\n",
    "validation_inputs, validation_targets = npz['inputs'].astype(np.float64), npz['targets'].astype(np.float64)\n",
    "\n",
    "\n",
    "npz = np.load('IK_data_test.npz')\n",
    "test_inputs, test_targets = npz['inputs'].astype(np.float64), npz['targets'].astype(np.float64)"
   ]
  },
  {
   "cell_type": "code",
   "execution_count": 14,
   "id": "097926f2",
   "metadata": {},
   "outputs": [
    {
     "name": "stdout",
     "output_type": "stream",
     "text": [
      "Epoch 1/1000\n",
      "440/440 - 2s - loss: 0.9393 - accuracy: 0.8098 - val_loss: 0.9075 - val_accuracy: 0.8473\n",
      "Epoch 2/1000\n",
      "440/440 - 1s - loss: 0.8760 - accuracy: 0.8236 - val_loss: 0.8916 - val_accuracy: 0.7945\n",
      "Epoch 3/1000\n",
      "440/440 - 1s - loss: 0.8557 - accuracy: 0.8325 - val_loss: 0.8952 - val_accuracy: 0.8436\n",
      "Epoch 4/1000\n",
      "440/440 - 1s - loss: 0.8518 - accuracy: 0.8343 - val_loss: 0.8762 - val_accuracy: 0.8400\n",
      "Epoch 5/1000\n",
      "440/440 - 1s - loss: 0.8436 - accuracy: 0.8355 - val_loss: 0.8645 - val_accuracy: 0.8436\n",
      "Epoch 6/1000\n",
      "440/440 - 1s - loss: 0.8383 - accuracy: 0.8384 - val_loss: 0.8376 - val_accuracy: 0.8509\n",
      "Epoch 7/1000\n",
      "440/440 - 1s - loss: 0.8317 - accuracy: 0.8400 - val_loss: 0.8683 - val_accuracy: 0.8455\n",
      "Epoch 8/1000\n",
      "440/440 - 1s - loss: 0.8333 - accuracy: 0.8405 - val_loss: 0.8682 - val_accuracy: 0.7964\n",
      "Epoch 9/1000\n",
      "440/440 - 1s - loss: 0.8310 - accuracy: 0.8443 - val_loss: 0.8395 - val_accuracy: 0.8400\n"
     ]
    },
    {
     "data": {
      "text/plain": [
       "<keras.callbacks.History at 0x1b04da5ee80>"
      ]
     },
     "execution_count": 14,
     "metadata": {},
     "output_type": "execute_result"
    }
   ],
   "source": [
    "input_size = 2\n",
    "output_size = 2\n",
    "hidden_layer_size = 200\n",
    "\n",
    "model = tf.keras.Sequential([\n",
    "    tf.keras.layers.Dense(hidden_layer_size+10, activation='tanh'), # 1st hidden layer\n",
    "    tf.keras.layers.Dense(hidden_layer_size+15, activation='tanh'),\n",
    "    tf.keras.layers.Dense(hidden_layer_size+20, activation='tanh'),\n",
    "    tf.keras.layers.Dense(hidden_layer_size+25, activation='tanh'),\n",
    "    tf.keras.layers.Dense(hidden_layer_size+30, activation='tanh'),\n",
    "    tf.keras.layers.Dense(hidden_layer_size+35, activation='tanh'),\n",
    "    tf.keras.layers.Dense(hidden_layer_size+40, activation='tanh'),\n",
    "    tf.keras.layers.Dense(output_size, activation='LeakyReLU') # output layer\n",
    "])\n",
    "\n",
    "\n",
    "# define the optimizer\n",
    "# the loss function, \n",
    "# and the metrics-  obtaining at each iteration\n",
    "model.compile(optimizer='adam', loss='MeanAbsoluteError', metrics=['accuracy'])\n",
    "\n",
    "### Training\n",
    "\n",
    "# set the batch size\n",
    "batch_size = 10\n",
    "\n",
    "#  maximum number of training epochs\n",
    "max_epochs = 1000\n",
    "\n",
    "early_stopping = tf.keras.callbacks.EarlyStopping(patience=3)\n",
    "\n",
    "# fit the model\n",
    "model.fit(train_inputs, \n",
    "          train_targets, \n",
    "          batch_size=batch_size,\n",
    "          epochs=max_epochs,\n",
    "          callbacks=[early_stopping],\n",
    "          validation_data=(validation_inputs, validation_targets),\n",
    "          verbose = 2 \n",
    "          )  "
   ]
  },
  {
   "cell_type": "code",
   "execution_count": 15,
   "id": "ebf25197",
   "metadata": {},
   "outputs": [
    {
     "name": "stdout",
     "output_type": "stream",
     "text": [
      "18/18 [==============================] - 0s 3ms/step - loss: 0.7846 - accuracy: 0.8509\n"
     ]
    }
   ],
   "source": [
    "test_loss,test_accuracy=model.evaluate(test_inputs, test_targets)"
   ]
  },
  {
   "cell_type": "code",
   "execution_count": 16,
   "id": "09e41601",
   "metadata": {},
   "outputs": [],
   "source": [
    "# x=np.array([2*(np.cos(math.pi/3)), 2*(np.sin(math.pi/3))])\n",
    "# model.predict(x.reshape(1,2))"
   ]
  },
  {
   "cell_type": "code",
   "execution_count": 17,
   "id": "95255a34",
   "metadata": {},
   "outputs": [],
   "source": [
    "# theta1_test= np.linspace(0, math.pi, 5)\n",
    "# np.random.shuffle(theta1)\n",
    "# theta2_test= np.linspace(math.pi/2,2*math.pi, 5)\n",
    "# np.random.shuffle(theta2)\n",
    "# test_input_y= np.sin(theta1_test)+np.sin(theta1_test+theta2_test)\n",
    "# test_input_x= np.cos(theta1_test)+ np.cos(theta1_test+theta2_test)"
   ]
  },
  {
   "cell_type": "code",
   "execution_count": 18,
   "id": "7c941a0d",
   "metadata": {},
   "outputs": [],
   "source": [
    "# df_test = pd.DataFrame()\n",
    "# df_test['X']=test_input_x\n",
    "# df_test['Y']=test_input_y\n",
    "# df_test['Theta1']=theta1_test\n",
    "# df_test['Theta2']=theta2_test\n",
    "# df_test.head(10)"
   ]
  },
  {
   "cell_type": "code",
   "execution_count": 19,
   "id": "4abec928",
   "metadata": {},
   "outputs": [],
   "source": [
    "# df_test.to_csv('IK_Test_Dataset.csv',header=False,index=False)\n",
    "# test_df = np.loadtxt('IK_Test_Dataset.csv' , delimiter=',')"
   ]
  },
  {
   "cell_type": "code",
   "execution_count": 20,
   "id": "238c6b68",
   "metadata": {},
   "outputs": [],
   "source": [
    "# inputs_test = test_df[:,:2]\n",
    "# targets_test = test_df[:,2:]\n",
    "# print(inputs_test.shape,targets_test.shape)"
   ]
  },
  {
   "cell_type": "code",
   "execution_count": 21,
   "id": "16154caf",
   "metadata": {},
   "outputs": [],
   "source": [
    "# test_loss,test_accuracy=model.evaluate(inputs_test,targets_test)"
   ]
  },
  {
   "cell_type": "code",
   "execution_count": null,
   "id": "8651cf1a",
   "metadata": {},
   "outputs": [],
   "source": []
  }
 ],
 "metadata": {
  "kernelspec": {
   "display_name": "Python 3 (ipykernel)",
   "language": "python",
   "name": "python3"
  },
  "language_info": {
   "codemirror_mode": {
    "name": "ipython",
    "version": 3
   },
   "file_extension": ".py",
   "mimetype": "text/x-python",
   "name": "python",
   "nbconvert_exporter": "python",
   "pygments_lexer": "ipython3",
   "version": "3.9.7"
  }
 },
 "nbformat": 4,
 "nbformat_minor": 5
}
