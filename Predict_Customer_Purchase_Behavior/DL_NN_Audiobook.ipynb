{
 "cells": [
  {
   "cell_type": "code",
   "execution_count": 1,
   "id": "c6370913",
   "metadata": {},
   "outputs": [],
   "source": [
    "import numpy as np\n",
    "import tensorflow as tf"
   ]
  },
  {
   "cell_type": "code",
   "execution_count": 2,
   "id": "443430e9",
   "metadata": {},
   "outputs": [],
   "source": [
    "npz = np.load('Audiobooks_data_train.npz')\n",
    "train_inputs, train_targets = npz['inputs'].astype(np.float64) , npz['targets'].astype(np.int64)\n",
    "\n",
    "\n",
    "npz = np.load('Audiobooks_data_validation.npz')\n",
    "validation_inputs, validation_targets = npz['inputs'].astype(np.float64), npz['targets'].astype(np.int64)\n",
    "\n",
    "\n",
    "npz = np.load('Audiobooks_data_test.npz')\n",
    "test_inputs, test_targets = npz['inputs'].astype(np.float64), npz['targets'].astype(np.int64)"
   ]
  },
  {
   "cell_type": "code",
   "execution_count": 3,
   "id": "32ac7e71",
   "metadata": {},
   "outputs": [
    {
     "name": "stdout",
     "output_type": "stream",
     "text": [
      "Epoch 1/100\n",
      "36/36 - 1s - loss: 0.5935 - accuracy: 0.7251 - val_loss: 0.4998 - val_accuracy: 0.8300\n",
      "Epoch 2/100\n",
      "36/36 - 0s - loss: 0.4465 - accuracy: 0.8530 - val_loss: 0.3929 - val_accuracy: 0.8591\n",
      "Epoch 3/100\n",
      "36/36 - 0s - loss: 0.3752 - accuracy: 0.8656 - val_loss: 0.3432 - val_accuracy: 0.8747\n",
      "Epoch 4/100\n",
      "36/36 - 0s - loss: 0.3400 - accuracy: 0.8759 - val_loss: 0.3192 - val_accuracy: 0.8792\n",
      "Epoch 5/100\n",
      "36/36 - 0s - loss: 0.3183 - accuracy: 0.8838 - val_loss: 0.3071 - val_accuracy: 0.8814\n",
      "Epoch 6/100\n",
      "36/36 - 0s - loss: 0.3041 - accuracy: 0.8877 - val_loss: 0.2932 - val_accuracy: 0.8837\n",
      "Epoch 7/100\n",
      "36/36 - 0s - loss: 0.2923 - accuracy: 0.8919 - val_loss: 0.2878 - val_accuracy: 0.8904\n",
      "Epoch 8/100\n",
      "36/36 - 0s - loss: 0.2826 - accuracy: 0.8921 - val_loss: 0.2785 - val_accuracy: 0.8926\n",
      "Epoch 9/100\n",
      "36/36 - 0s - loss: 0.2758 - accuracy: 0.8938 - val_loss: 0.2722 - val_accuracy: 0.8971\n",
      "Epoch 10/100\n",
      "36/36 - 0s - loss: 0.2720 - accuracy: 0.8969 - val_loss: 0.2682 - val_accuracy: 0.8993\n",
      "Epoch 11/100\n",
      "36/36 - 0s - loss: 0.2659 - accuracy: 0.8969 - val_loss: 0.2637 - val_accuracy: 0.8993\n",
      "Epoch 12/100\n",
      "36/36 - 0s - loss: 0.2628 - accuracy: 0.8994 - val_loss: 0.2588 - val_accuracy: 0.8993\n",
      "Epoch 13/100\n",
      "36/36 - 0s - loss: 0.2593 - accuracy: 0.8989 - val_loss: 0.2524 - val_accuracy: 0.8993\n",
      "Epoch 14/100\n",
      "36/36 - 0s - loss: 0.2568 - accuracy: 0.9011 - val_loss: 0.2517 - val_accuracy: 0.8993\n",
      "Epoch 15/100\n",
      "36/36 - 0s - loss: 0.2550 - accuracy: 0.9033 - val_loss: 0.2484 - val_accuracy: 0.9016\n",
      "Epoch 16/100\n",
      "36/36 - 0s - loss: 0.2517 - accuracy: 0.9022 - val_loss: 0.2452 - val_accuracy: 0.9016\n",
      "Epoch 17/100\n",
      "36/36 - 0s - loss: 0.2502 - accuracy: 0.9033 - val_loss: 0.2426 - val_accuracy: 0.9016\n",
      "Epoch 18/100\n",
      "36/36 - 0s - loss: 0.2493 - accuracy: 0.9044 - val_loss: 0.2441 - val_accuracy: 0.8993\n",
      "Epoch 19/100\n",
      "36/36 - 0s - loss: 0.2480 - accuracy: 0.9047 - val_loss: 0.2419 - val_accuracy: 0.9016\n",
      "Epoch 20/100\n",
      "36/36 - 0s - loss: 0.2467 - accuracy: 0.9056 - val_loss: 0.2393 - val_accuracy: 0.9083\n",
      "Epoch 21/100\n",
      "36/36 - 0s - loss: 0.2453 - accuracy: 0.9061 - val_loss: 0.2384 - val_accuracy: 0.9128\n",
      "Epoch 22/100\n",
      "36/36 - 0s - loss: 0.2437 - accuracy: 0.9075 - val_loss: 0.2342 - val_accuracy: 0.9083\n",
      "Epoch 23/100\n",
      "36/36 - 0s - loss: 0.2420 - accuracy: 0.9067 - val_loss: 0.2324 - val_accuracy: 0.9105\n",
      "Epoch 24/100\n",
      "36/36 - 0s - loss: 0.2405 - accuracy: 0.9070 - val_loss: 0.2301 - val_accuracy: 0.9105\n",
      "Epoch 25/100\n",
      "36/36 - 0s - loss: 0.2389 - accuracy: 0.9067 - val_loss: 0.2282 - val_accuracy: 0.9105\n",
      "Epoch 26/100\n",
      "36/36 - 0s - loss: 0.2385 - accuracy: 0.9084 - val_loss: 0.2283 - val_accuracy: 0.9105\n",
      "Epoch 27/100\n",
      "36/36 - 0s - loss: 0.2382 - accuracy: 0.9078 - val_loss: 0.2294 - val_accuracy: 0.9128\n"
     ]
    },
    {
     "data": {
      "text/plain": [
       "<keras.callbacks.History at 0x2b50041ee20>"
      ]
     },
     "execution_count": 3,
     "metadata": {},
     "output_type": "execute_result"
    }
   ],
   "source": [
    "# Set the input and output sizes\n",
    "input_size = 10\n",
    "output_size = 2\n",
    "hidden_layer_size = 25\n",
    "\n",
    "model = tf.keras.Sequential([\n",
    "    tf.keras.layers.Dense(hidden_layer_size, activation='relu'), # 1st hidden layer\n",
    "    tf.keras.layers.Dense(hidden_layer_size, activation='relu'), # 2nd hidden layer\n",
    "    # the final layer is no different, activate it with softmax\n",
    "    tf.keras.layers.Dense(output_size, activation='softmax') # output layer\n",
    "])\n",
    "\n",
    "\n",
    "# define the optimizer\n",
    "# the loss function, \n",
    "# and the metrics-  obtaining at each iteration\n",
    "model.compile(optimizer='adam', loss='sparse_categorical_crossentropy', metrics=['accuracy'])\n",
    "\n",
    "### Training\n",
    "\n",
    "# set the batch size\n",
    "batch_size = 100\n",
    "\n",
    "#  maximum number of training epochs\n",
    "max_epochs = 100\n",
    "\n",
    "early_stopping = tf.keras.callbacks.EarlyStopping(patience=2)\n",
    "\n",
    "# fit the model\n",
    "model.fit(train_inputs, \n",
    "          train_targets, \n",
    "          batch_size=batch_size,\n",
    "          epochs=max_epochs,\n",
    "          callbacks=[early_stopping],\n",
    "          validation_data=(validation_inputs, validation_targets),\n",
    "          verbose = 2 \n",
    "          )  "
   ]
  },
  {
   "cell_type": "code",
   "execution_count": 4,
   "id": "523d6c2c",
   "metadata": {},
   "outputs": [
    {
     "name": "stdout",
     "output_type": "stream",
     "text": [
      "14/14 [==============================] - 0s 2ms/step - loss: 0.2516 - accuracy: 0.9085\n"
     ]
    }
   ],
   "source": [
    "test_loss,test_accuracy=model.evaluate(test_inputs, test_targets)"
   ]
  },
  {
   "cell_type": "code",
   "execution_count": 9,
   "id": "53814041",
   "metadata": {},
   "outputs": [],
   "source": [
    "x=test_inputs[3].reshape(1,10)"
   ]
  },
  {
   "cell_type": "code",
   "execution_count": 13,
   "id": "041d2738",
   "metadata": {},
   "outputs": [
    {
     "data": {
      "text/plain": [
       "array([[ True, False]])"
      ]
     },
     "execution_count": 13,
     "metadata": {},
     "output_type": "execute_result"
    }
   ],
   "source": [
    "model.predict(x)\n",
    "output_predict = model.predict(x)>0.5\n",
    "output_predict"
   ]
  },
  {
   "cell_type": "code",
   "execution_count": 11,
   "id": "c180222b",
   "metadata": {},
   "outputs": [
    {
     "data": {
      "text/plain": [
       "<bound method Model.summary of <keras.engine.sequential.Sequential object at 0x000002B57F1CBE50>>"
      ]
     },
     "execution_count": 11,
     "metadata": {},
     "output_type": "execute_result"
    }
   ],
   "source": [
    "model.summary"
   ]
  },
  {
   "cell_type": "code",
   "execution_count": null,
   "id": "d1f0b72e",
   "metadata": {},
   "outputs": [],
   "source": []
  }
 ],
 "metadata": {
  "kernelspec": {
   "display_name": "Python 3 (ipykernel)",
   "language": "python",
   "name": "python3"
  },
  "language_info": {
   "codemirror_mode": {
    "name": "ipython",
    "version": 3
   },
   "file_extension": ".py",
   "mimetype": "text/x-python",
   "name": "python",
   "nbconvert_exporter": "python",
   "pygments_lexer": "ipython3",
   "version": "3.9.7"
  }
 },
 "nbformat": 4,
 "nbformat_minor": 5
}
