{
 "cells": [
  {
   "cell_type": "code",
   "execution_count": null,
   "id": "668d2c06",
   "metadata": {},
   "outputs": [],
   "source": [
    "import torch as tr\n",
    "import numpy as np"
   ]
  },
  {
   "cell_type": "code",
   "execution_count": null,
   "id": "fb42117e",
   "metadata": {},
   "outputs": [],
   "source": [
    "tr.__version__"
   ]
  },
  {
   "cell_type": "code",
   "execution_count": null,
   "id": "11d046f7",
   "metadata": {},
   "outputs": [],
   "source": [
    "tr.cuda.is_available()"
   ]
  },
  {
   "cell_type": "code",
   "execution_count": null,
   "id": "28a0f3e2",
   "metadata": {},
   "outputs": [],
   "source": [
    "dd = [[10, 22, 3],\n",
    "     [2, 4, 88],\n",
    "     [34, 354, 656]]"
   ]
  },
  {
   "cell_type": "code",
   "execution_count": null,
   "id": "f7ff5280",
   "metadata": {},
   "outputs": [],
   "source": [
    "dd"
   ]
  },
  {
   "cell_type": "code",
   "execution_count": null,
   "id": "ab28ae32",
   "metadata": {},
   "outputs": [],
   "source": [
    "t = tr.tensor(dd)\n",
    "t"
   ]
  },
  {
   "cell_type": "code",
   "execution_count": null,
   "id": "8e4e7318",
   "metadata": {},
   "outputs": [],
   "source": [
    "type(t)"
   ]
  },
  {
   "cell_type": "code",
   "execution_count": null,
   "id": "2ad10f4d",
   "metadata": {},
   "outputs": [],
   "source": [
    "t.shape"
   ]
  },
  {
   "cell_type": "code",
   "execution_count": null,
   "id": "e7c3e011",
   "metadata": {},
   "outputs": [],
   "source": [
    "tt=t.reshape(9,1)\n",
    "tt"
   ]
  },
  {
   "cell_type": "code",
   "execution_count": null,
   "id": "e6c2a448",
   "metadata": {},
   "outputs": [],
   "source": [
    "x = tr.zeros(5,6)\n",
    "print(x)\n",
    "print(x.dtype)"
   ]
  },
  {
   "cell_type": "code",
   "execution_count": null,
   "id": "6ed0a95b",
   "metadata": {},
   "outputs": [],
   "source": [
    "y = tr.ones((5,6), dtype=tr.int16)\n",
    "print(y)"
   ]
  },
  {
   "cell_type": "code",
   "execution_count": null,
   "id": "dfff0b6d",
   "metadata": {},
   "outputs": [],
   "source": [
    "tr.manual_seed(10101)\n",
    "r = tr.rand(2,4)\n",
    "rr = tr.rand(2,4)\n",
    "print(r)\n",
    "print(rr)"
   ]
  },
  {
   "cell_type": "code",
   "execution_count": null,
   "id": "fcece010",
   "metadata": {},
   "outputs": [],
   "source": [
    "tr.manual_seed(10101)\n",
    "rrr = tr.rand(2,4)\n",
    "rrr"
   ]
  },
  {
   "cell_type": "code",
   "execution_count": null,
   "id": "88ff8d53",
   "metadata": {},
   "outputs": [],
   "source": [
    "r=r.t()"
   ]
  },
  {
   "cell_type": "code",
   "execution_count": null,
   "id": "04ffd110",
   "metadata": {},
   "outputs": [],
   "source": [
    "r"
   ]
  },
  {
   "cell_type": "markdown",
   "id": "ab185bce",
   "metadata": {},
   "source": [
    "## Note \n",
    "By PyTorch’s design, gradients can only be calculated for floating point tensors which is why I’ve created a float type numpy array before making it a gradient enabled PyTorch tensor"
   ]
  },
  {
   "cell_type": "code",
   "execution_count": null,
   "id": "0aa15d46",
   "metadata": {},
   "outputs": [],
   "source": [
    "# Returns a tensor filled with random numbers from a normal distribution with mean `0` and variance `1` (also called the standard normaldistribution).\n",
    "\n",
    "x = tr.randn(2, 2, requires_grad = True)\n",
    "\n",
    "# From numpy\n",
    "x = np.array([1., 2., 3.]) #Only Tensors of floating point dtype can require gradients\n",
    "x = tr.from_numpy(x)\n",
    "# Now enable gradient \n",
    "x.requires_grad_(True)\n",
    "# _ above makes the change in-place (its a common pytorch thing)"
   ]
  },
  {
   "cell_type": "code",
   "execution_count": null,
   "id": "99db7e0d",
   "metadata": {},
   "outputs": [],
   "source": [
    "th.manual_seed(101)\n",
    "\n",
    "x = th.rand(1, 15)\n",
    "prev_h = th.rand(1, 20)\n",
    "w_h= th.rand(15,20)\n",
    "w_x = th.rand(15,15)\n",
    "\n",
    "i2h= th.mm(x, w_x.t())\n",
    "h2h= th.mm(prev_h, w_h.t())\n",
    "next_h = i2h + h2h\n",
    "next_h = next_h.tanh()\n",
    "\n",
    "loss = next_h.sum()\n",
    "loss.requires_grad=True\n",
    "\n",
    "loss.backward()\n"
   ]
  },
  {
   "cell_type": "code",
   "execution_count": null,
   "id": "10c16e0e",
   "metadata": {},
   "outputs": [],
   "source": [
    "import torch"
   ]
  },
  {
   "cell_type": "code",
   "execution_count": null,
   "id": "9ea6b701",
   "metadata": {},
   "outputs": [],
   "source": [
    "a= torch.arange(6, dtype=torch.float)\n",
    "elements=a.numel()\n",
    "elements"
   ]
  },
  {
   "cell_type": "code",
   "execution_count": null,
   "id": "31f4f527",
   "metadata": {},
   "outputs": [],
   "source": [
    "a.reshape(-1,2)\n",
    "a.reshape(3,-1)"
   ]
  },
  {
   "cell_type": "code",
   "execution_count": null,
   "id": "ccd97927",
   "metadata": {},
   "outputs": [],
   "source": [
    "b=torch.zeros(2,4,3)\n",
    "b"
   ]
  },
  {
   "cell_type": "code",
   "execution_count": null,
   "id": "3f8645c8",
   "metadata": {},
   "outputs": [],
   "source": [
    "#elementwise multiplication of two matrices is called their Hadamard product. It is different from matrix multiplication.\n",
    "a= torch.ones(1,3)*2\n",
    "b= torch.tensor([[4, 7, 8]])\n",
    "a+b, a-b, a*b, a**b"
   ]
  },
  {
   "cell_type": "code",
   "execution_count": null,
   "id": "f21fb44b",
   "metadata": {
    "scrolled": true
   },
   "outputs": [],
   "source": [
    "c= torch.arange(12, dtype=torch.float).reshape(3,4)\n",
    "d= torch.tensor([[1, 22 ,2 ,45], [23, 5, 78, 7], [8, 9, 78, 12]])\n",
    "torch.cat((c,d), dim=0), torch.cat((c,d), dim=1)"
   ]
  },
  {
   "cell_type": "code",
   "execution_count": null,
   "id": "5f6dea9b",
   "metadata": {},
   "outputs": [],
   "source": [
    "c==d"
   ]
  },
  {
   "cell_type": "code",
   "execution_count": null,
   "id": "57f08f66",
   "metadata": {},
   "outputs": [],
   "source": [
    "c"
   ]
  },
  {
   "cell_type": "code",
   "execution_count": null,
   "id": "2f17f835",
   "metadata": {},
   "outputs": [],
   "source": [
    "c[-1]"
   ]
  },
  {
   "cell_type": "code",
   "execution_count": null,
   "id": "e10f1432",
   "metadata": {},
   "outputs": [],
   "source": [
    "c[:2,-1]"
   ]
  },
  {
   "cell_type": "code",
   "execution_count": null,
   "id": "6949a544",
   "metadata": {},
   "outputs": [],
   "source": [
    "print('before', id(c))\n",
    "c= c+d\n",
    "print('after', id(c))"
   ]
  },
  {
   "cell_type": "code",
   "execution_count": null,
   "id": "f5356022",
   "metadata": {},
   "outputs": [],
   "source": [
    "print('before', id(c))\n",
    "c[:]= c+d\n",
    "print('after', id(c))\n",
    "c"
   ]
  },
  {
   "cell_type": "code",
   "execution_count": null,
   "id": "df851a7c",
   "metadata": {},
   "outputs": [],
   "source": [
    "print('before', id(c))\n",
    "c+=d\n",
    "print('after', id(c))\n",
    "c"
   ]
  },
  {
   "cell_type": "code",
   "execution_count": null,
   "id": "0dc55e55",
   "metadata": {},
   "outputs": [],
   "source": [
    "a=torch.tensor([[[1,2,3],[2,3,4],[7,8,9]],[[2,4,6],[7,9,0],[6,9,1]]])\n",
    "a.size()"
   ]
  },
  {
   "cell_type": "code",
   "execution_count": null,
   "id": "6fd988c1",
   "metadata": {},
   "outputs": [],
   "source": [
    "b=torch.tensor([1,1,3])\n",
    "c = a+b\n",
    "c"
   ]
  },
  {
   "cell_type": "code",
   "execution_count": null,
   "id": "9c614367",
   "metadata": {},
   "outputs": [],
   "source": [
    "!pip install pandas"
   ]
  },
  {
   "cell_type": "code",
   "execution_count": null,
   "id": "ed2f6ea4",
   "metadata": {},
   "outputs": [],
   "source": [
    "#Data Preprocessing\n",
    "\n",
    "import os\n",
    "\n",
    "os.makedirs(os.path.join('..', 'data'), exist_ok=True)\n",
    "data_file = os.path.join('..', 'data', 'house_tiny.csv')\n",
    "with open(data_file, 'w') as f:\n",
    "    f.write('NumRooms,Alley,Price\\n') # Column names\n",
    "    f.write('NA,Pave,127500\\n') # Each row represents a data example\n",
    "    f.write('2,NA,106000\\n')\n",
    "    f.write('4,NA,178100\\n')\n",
    "    f.write('NA,NA,140000\\n')"
   ]
  },
  {
   "cell_type": "code",
   "execution_count": null,
   "id": "fe086e60",
   "metadata": {},
   "outputs": [],
   "source": [
    "import pandas as pd\n",
    "\n",
    "data = pd.read_csv('house_tiny.csv')"
   ]
  },
  {
   "cell_type": "code",
   "execution_count": null,
   "id": "c11b267c",
   "metadata": {},
   "outputs": [],
   "source": [
    "inputs, outputs = data.iloc[:, :2], data.iloc[:,-1]\n",
    "print(id(inputs))\n",
    "inputs[:]= inputs.fillna(inputs.mean()) #Imputation\n",
    "print(id(inputs))\n",
    "\n",
    "inputs"
   ]
  },
  {
   "cell_type": "code",
   "execution_count": null,
   "id": "fb83c52c",
   "metadata": {},
   "outputs": [],
   "source": [
    "inputs[:] = pd.get_dummies(inputs, dummy_na=True)\n",
    "inputs"
   ]
  },
  {
   "cell_type": "code",
   "execution_count": null,
   "id": "6a1710b2",
   "metadata": {},
   "outputs": [],
   "source": [
    "x, y = torch.tensor(inputs.values), torch.tensor(outputs.values , dtype=torch.float64)\n",
    "x, y"
   ]
  },
  {
   "cell_type": "code",
   "execution_count": null,
   "id": "e7422663",
   "metadata": {},
   "outputs": [],
   "source": [
    "x.T"
   ]
  },
  {
   "cell_type": "code",
   "execution_count": null,
   "id": "608a1cce",
   "metadata": {},
   "outputs": [],
   "source": [
    "y"
   ]
  },
  {
   "cell_type": "code",
   "execution_count": null,
   "id": "6662a558",
   "metadata": {},
   "outputs": [],
   "source": [
    "x.T.shape, y.shape"
   ]
  },
  {
   "cell_type": "code",
   "execution_count": null,
   "id": "e769651a",
   "metadata": {},
   "outputs": [],
   "source": [
    "#matrix vector multiplication\n",
    "torch.mv(x.T,y)"
   ]
  },
  {
   "cell_type": "code",
   "execution_count": null,
   "id": "f9c166b3",
   "metadata": {},
   "outputs": [],
   "source": [
    "#matrix matrix multiplication\n",
    "torch.mm(x.reshape(4,2), y.reshape(2,2))"
   ]
  },
  {
   "cell_type": "code",
   "execution_count": null,
   "id": "6a25df63",
   "metadata": {},
   "outputs": [],
   "source": [
    "# norm of vector (L2)\n",
    "print(torch.norm(y))\n",
    "\n",
    "#norm of matrix (Frobenius norm)\n",
    "print(torch.norm(x))"
   ]
  },
  {
   "cell_type": "code",
   "execution_count": null,
   "id": "5aa2cf0e",
   "metadata": {},
   "outputs": [],
   "source": [
    "def f(x):\n",
    "    return 3*x**2 - 4*x + 7\n",
    "\n",
    "def derivative(f, x, h):\n",
    "    return (f(x+h)-f(x))/h\n",
    "\n",
    "h=0.1\n",
    "for i in range(3):\n",
    "    \n",
    "    print(\"Derivative at x=1 :\",derivative(f, 8, h ))\n",
    "    h*=0.01"
   ]
  },
  {
   "cell_type": "markdown",
   "id": "f1a04a46",
   "metadata": {},
   "source": [
    "### Automatic Differentiation"
   ]
  },
  {
   "cell_type": "code",
   "execution_count": null,
   "id": "2410bd80",
   "metadata": {},
   "outputs": [],
   "source": [
    "a = torch.arange(4.0, requires_grad=True)\n",
    "a"
   ]
  },
  {
   "cell_type": "code",
   "execution_count": null,
   "id": "932fce35",
   "metadata": {},
   "outputs": [],
   "source": [
    "a.grad"
   ]
  },
  {
   "cell_type": "code",
   "execution_count": null,
   "id": "061767af",
   "metadata": {},
   "outputs": [],
   "source": [
    "b = 4*torch.dot(a,a)\n",
    "b"
   ]
  },
  {
   "cell_type": "code",
   "execution_count": null,
   "id": "e9d33cc7",
   "metadata": {},
   "outputs": [],
   "source": [
    "b.backward()"
   ]
  },
  {
   "cell_type": "code",
   "execution_count": null,
   "id": "b3055e43",
   "metadata": {},
   "outputs": [],
   "source": [
    "a.grad"
   ]
  },
  {
   "cell_type": "code",
   "execution_count": null,
   "id": "1d27f57f",
   "metadata": {},
   "outputs": [],
   "source": [
    "# PyTorch accumulates the gradient in default, we need to clear the previous\n",
    "# values\n",
    "a.grad.zero_()\n",
    "b = a.sum()\n",
    "b.backward()\n",
    "a.grad"
   ]
  },
  {
   "cell_type": "code",
   "execution_count": null,
   "id": "d1c5e33c",
   "metadata": {},
   "outputs": [],
   "source": [
    "# Thus, the following backpropagation function computes\n",
    "# the partial derivative of z = u * x with respect to x while treating u as a constant, instead of the\n",
    "# partial derivative of z = x * x * x with respect to x.\n",
    "l= torch.arange(4.0, requires_grad=True)\n",
    "\n",
    "m=l*l\n",
    "o=n*m"
   ]
  },
  {
   "cell_type": "code",
   "execution_count": null,
   "id": "c6eca6f1",
   "metadata": {},
   "outputs": [],
   "source": [
    "o"
   ]
  },
  {
   "cell_type": "code",
   "execution_count": null,
   "id": "ba18b60a",
   "metadata": {},
   "outputs": [],
   "source": [
    "#grad can be implicitly created only for scalar outputs... sum() is used\n",
    "\n",
    "o.sum().backward()"
   ]
  },
  {
   "cell_type": "code",
   "execution_count": null,
   "id": "94c90dff",
   "metadata": {},
   "outputs": [],
   "source": [
    "l.grad"
   ]
  },
  {
   "cell_type": "code",
   "execution_count": null,
   "id": "d933a88d",
   "metadata": {},
   "outputs": [],
   "source": [
    "m"
   ]
  },
  {
   "cell_type": "code",
   "execution_count": null,
   "id": "34930da6",
   "metadata": {},
   "outputs": [],
   "source": [
    "import torch\n",
    "from torch.utils.data import Dataset, DataLoader \n",
    "from torch import nn\n",
    "import random"
   ]
  },
  {
   "cell_type": "code",
   "execution_count": null,
   "id": "89711d26",
   "metadata": {},
   "outputs": [],
   "source": [
    "def synthetic_data(w, b, num_data):\n",
    "    x= torch.normal(0, 1, size=(num_data, len(w)))\n",
    "    y = torch.matmul(x, w)+b\n",
    "    y += torch.normal(0,1, y.shape)\n",
    "\n",
    "    return x, y.reshape(-1,1)"
   ]
  },
  {
   "cell_type": "code",
   "execution_count": null,
   "id": "06036d29",
   "metadata": {},
   "outputs": [],
   "source": [
    "features, labels = synthetic_data(torch.tensor([23.0, -3.0]), torch.tensor(4.0), 10)"
   ]
  },
  {
   "cell_type": "code",
   "execution_count": null,
   "id": "0e50fcd4",
   "metadata": {},
   "outputs": [],
   "source": [
    "true_w, true_b= torch.tensor([2.3,-3.0]), torch.tensor([2.0])\n",
    "\n",
    "class Data:\n",
    "        \n",
    "    def __init__(self):\n",
    "        self.x, self.y = synthetic_data(true_w, true_b, 1000)\n",
    "        self.n_samples = self.x.shape[0]\n",
    "        \n",
    "    def __len__(self):\n",
    "        return self.n_samples\n",
    "    \n",
    "    def __getitem__(self, index):\n",
    "        return self.x[index], self.y[index]\n",
    "    "
   ]
  },
  {
   "cell_type": "code",
   "execution_count": null,
   "id": "4f3fdff3",
   "metadata": {},
   "outputs": [],
   "source": [
    "syn_data = Data()\n",
    "syn_data[1][0]"
   ]
  },
  {
   "cell_type": "code",
   "execution_count": null,
   "id": "b8088811",
   "metadata": {},
   "outputs": [],
   "source": [
    "syn_data"
   ]
  },
  {
   "cell_type": "code",
   "execution_count": null,
   "id": "c36b0ede",
   "metadata": {},
   "outputs": [],
   "source": [
    "len(syn_data)"
   ]
  },
  {
   "cell_type": "code",
   "execution_count": null,
   "id": "e10ff342",
   "metadata": {},
   "outputs": [],
   "source": [
    "Dataloader = DataLoader(dataset= syn_data, batch_size=10, shuffle=True)\n",
    "next(iter(Dataloader))"
   ]
  },
  {
   "cell_type": "code",
   "execution_count": null,
   "id": "f10d80ac",
   "metadata": {},
   "outputs": [],
   "source": [
    "num_epoch = 5\n",
    "num_data= len(syn_data)\n",
    "num_iter = num_data/10\n",
    "print(num_data, num_iter)"
   ]
  },
  {
   "cell_type": "markdown",
   "id": "a64b61cf",
   "metadata": {},
   "source": [
    "### Linear regression from scratch"
   ]
  },
  {
   "cell_type": "code",
   "execution_count": 1,
   "id": "ae425b9f",
   "metadata": {},
   "outputs": [
    {
     "name": "stderr",
     "output_type": "stream",
     "text": [
      "C:\\Users\\BLOODYPROF\\anaconda3\\envs\\DL\\lib\\site-packages\\tqdm\\auto.py:22: TqdmWarning: IProgress not found. Please update jupyter and ipywidgets. See https://ipywidgets.readthedocs.io/en/stable/user_install.html\n",
      "  from .autonotebook import tqdm as notebook_tqdm\n"
     ]
    }
   ],
   "source": [
    "import torch\n",
    "from torch.utils import data\n",
    "from torch import nn\n",
    "import random"
   ]
  },
  {
   "cell_type": "code",
   "execution_count": 2,
   "id": "21be09b5",
   "metadata": {},
   "outputs": [],
   "source": [
    "def synthetic_data(w, b, num_data):\n",
    "    x= torch.normal(0, 1, size=(num_data, len(w)))\n",
    "    y = torch.matmul(x, w)+b\n",
    "    y += torch.normal(0,1, y.shape)\n",
    "\n",
    "    return x, y.reshape(-1,1)"
   ]
  },
  {
   "cell_type": "code",
   "execution_count": 14,
   "id": "9d2f89f4",
   "metadata": {},
   "outputs": [],
   "source": [
    "features, labels = synthetic_data(torch.tensor([3.0, -1.0]), 4.0, 10)"
   ]
  },
  {
   "cell_type": "code",
   "execution_count": 15,
   "id": "1cef98e1",
   "metadata": {},
   "outputs": [],
   "source": [
    "def load_array(data_arrays, batch_size, is_train=True): #@save\n",
    "    \"\"\"Construct a PyTorch data iterator.\"\"\"\n",
    "    dataset = data.TensorDataset(*data_arrays)\n",
    "    return data.DataLoader(dataset, batch_size, shuffle=is_train)"
   ]
  },
  {
   "cell_type": "code",
   "execution_count": 16,
   "id": "c914e63a",
   "metadata": {},
   "outputs": [],
   "source": [
    "batch_size = 10\n",
    "data_iter = load_array((features, labels), batch_size)"
   ]
  },
  {
   "cell_type": "code",
   "execution_count": 17,
   "id": "2d2a262b",
   "metadata": {},
   "outputs": [
    {
     "data": {
      "text/plain": [
       "[tensor([[-0.4451,  0.8793],\n",
       "         [ 2.5405,  1.4815],\n",
       "         [-0.6899,  0.2510],\n",
       "         [ 0.1180, -0.1266],\n",
       "         [-0.1806,  0.1094],\n",
       "         [ 1.9244, -0.9393],\n",
       "         [ 0.5436, -0.5259],\n",
       "         [-0.5188, -0.5163],\n",
       "         [-0.1032, -0.2874],\n",
       "         [-0.6462,  1.8157]]),\n",
       " tensor([[ 0.9613],\n",
       "         [10.6736],\n",
       "         [ 1.8084],\n",
       "         [ 5.0757],\n",
       "         [ 3.9670],\n",
       "         [11.8232],\n",
       "         [ 6.5915],\n",
       "         [ 3.6260],\n",
       "         [ 3.3470],\n",
       "         [-0.4648]])]"
      ]
     },
     "execution_count": 17,
     "metadata": {},
     "output_type": "execute_result"
    }
   ],
   "source": [
    "next(iter(data_iter))"
   ]
  },
  {
   "cell_type": "code",
   "execution_count": 18,
   "id": "737da11c",
   "metadata": {},
   "outputs": [],
   "source": [
    "# Defining the Model\n",
    "net = nn.Sequential(nn.Linear(2, 1))"
   ]
  },
  {
   "cell_type": "code",
   "execution_count": 19,
   "id": "4487f605",
   "metadata": {},
   "outputs": [
    {
     "data": {
      "text/plain": [
       "tensor([0.])"
      ]
     },
     "execution_count": 19,
     "metadata": {},
     "output_type": "execute_result"
    }
   ],
   "source": [
    "# Initializing Model Parameters\n",
    "net[0].weight.data.normal_(0, 0.01)\n",
    "net[0].bias.data.fill_(0)"
   ]
  },
  {
   "cell_type": "code",
   "execution_count": 20,
   "id": "06fbbeb9",
   "metadata": {},
   "outputs": [],
   "source": [
    "# Defining the Loss Function\n",
    "loss = nn.MSELoss()"
   ]
  },
  {
   "cell_type": "code",
   "execution_count": 21,
   "id": "6d4038b9",
   "metadata": {},
   "outputs": [],
   "source": [
    "# Defining the Optimization Algorithm\n",
    "trainer = torch.optim.SGD(net.parameters(), lr=0.03)"
   ]
  },
  {
   "cell_type": "code",
   "execution_count": 25,
   "id": "f740a25e",
   "metadata": {},
   "outputs": [
    {
     "name": "stdout",
     "output_type": "stream",
     "text": [
      "epoch 1, loss 0.360390\n",
      "epoch 2, loss 0.345541\n",
      "epoch 3, loss 0.331992\n",
      "epoch 4, loss 0.319612\n",
      "epoch 5, loss 0.308290\n",
      "epoch 6, loss 0.297923\n",
      "epoch 7, loss 0.288423\n",
      "epoch 8, loss 0.279709\n",
      "epoch 9, loss 0.271709\n",
      "epoch 10, loss 0.264360\n",
      "epoch 11, loss 0.257603\n",
      "epoch 12, loss 0.251387\n",
      "epoch 13, loss 0.245666\n",
      "epoch 14, loss 0.240396\n",
      "epoch 15, loss 0.235541\n",
      "epoch 16, loss 0.231065\n",
      "epoch 17, loss 0.226936\n",
      "epoch 18, loss 0.223128\n",
      "epoch 19, loss 0.219612\n",
      "epoch 20, loss 0.216367\n"
     ]
    }
   ],
   "source": [
    "num_epochs = 20\n",
    "for epoch in range(num_epochs):\n",
    "    for X, y in data_iter:\n",
    "        \n",
    "        y_hat = net(X)\n",
    "        \n",
    "        l = loss(y_hat, y)\n",
    "        \n",
    "        # clear gradients\n",
    "        trainer.zero_grad()\n",
    "        \n",
    "        #backward\n",
    "        l.backward()\n",
    "        \n",
    "        # update parameters\n",
    "        trainer.step()\n",
    "        \n",
    "    l = loss(net(features), labels)\n",
    "    print(f'epoch {epoch + 1}, loss {l:f}')"
   ]
  },
  {
   "cell_type": "code",
   "execution_count": null,
   "id": "d32fb593",
   "metadata": {},
   "outputs": [],
   "source": []
  },
  {
   "cell_type": "code",
   "execution_count": null,
   "id": "913bd4b6",
   "metadata": {},
   "outputs": [],
   "source": []
  }
 ],
 "metadata": {
  "kernelspec": {
   "display_name": "Python 3 (ipykernel)",
   "language": "python",
   "name": "python3"
  },
  "language_info": {
   "codemirror_mode": {
    "name": "ipython",
    "version": 3
   },
   "file_extension": ".py",
   "mimetype": "text/x-python",
   "name": "python",
   "nbconvert_exporter": "python",
   "pygments_lexer": "ipython3",
   "version": "3.9.12"
  }
 },
 "nbformat": 4,
 "nbformat_minor": 5
}
