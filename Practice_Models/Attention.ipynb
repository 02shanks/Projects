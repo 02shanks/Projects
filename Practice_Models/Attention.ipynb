{
 "cells": [
  {
   "cell_type": "code",
   "execution_count": 62,
   "id": "7132e201",
   "metadata": {},
   "outputs": [
    {
     "name": "stdout",
     "output_type": "stream",
     "text": [
      "Collecting d2l\n",
      "  Downloading d2l-0.17.5-py3-none-any.whl (82 kB)\n",
      "Collecting matplotlib==3.5.1\n",
      "  Using cached matplotlib-3.5.1-cp39-cp39-win_amd64.whl (7.2 MB)\n",
      "Collecting pandas==1.2.4\n",
      "  Downloading pandas-1.2.4-cp39-cp39-win_amd64.whl (9.3 MB)\n",
      "Collecting requests==2.25.1\n",
      "  Downloading requests-2.25.1-py2.py3-none-any.whl (61 kB)\n",
      "Collecting jupyter==1.0.0\n",
      "  Using cached jupyter-1.0.0-py2.py3-none-any.whl (2.7 kB)\n",
      "Requirement already satisfied: numpy==1.21.5 in c:\\users\\bloodyprof\\anaconda3\\envs\\dl\\lib\\site-packages (from d2l) (1.21.5)\n",
      "Requirement already satisfied: nbconvert in c:\\users\\bloodyprof\\anaconda3\\envs\\dl\\lib\\site-packages (from jupyter==1.0.0->d2l) (6.4.4)\n",
      "Requirement already satisfied: notebook in c:\\users\\bloodyprof\\anaconda3\\envs\\dl\\lib\\site-packages (from jupyter==1.0.0->d2l) (6.4.8)\n",
      "Requirement already satisfied: ipywidgets in c:\\users\\bloodyprof\\anaconda3\\envs\\dl\\lib\\site-packages (from jupyter==1.0.0->d2l) (7.7.0)\n",
      "Collecting jupyter-console\n"
     ]
    },
    {
     "name": "stderr",
     "output_type": "stream",
     "text": [
      "ERROR: Could not install packages due to an OSError: [WinError 5] Access is denied: 'c:\\\\users\\\\bloodyprof\\\\anaconda3\\\\envs\\\\dl\\\\lib\\\\site-packages\\\\matplotlib\\\\backends\\\\_backend_agg.cp39-win_amd64.pyd'\n",
      "Consider using the `--user` option or check the permissions.\n",
      "\n"
     ]
    },
    {
     "name": "stdout",
     "output_type": "stream",
     "text": [
      "  Downloading jupyter_console-6.4.3-py3-none-any.whl (22 kB)\n",
      "Requirement already satisfied: ipykernel in c:\\users\\bloodyprof\\anaconda3\\envs\\dl\\lib\\site-packages (from jupyter==1.0.0->d2l) (6.9.1)\n",
      "Collecting qtconsole\n",
      "  Downloading qtconsole-5.3.0-py3-none-any.whl (120 kB)\n",
      "Requirement already satisfied: kiwisolver>=1.0.1 in c:\\users\\bloodyprof\\anaconda3\\envs\\dl\\lib\\site-packages (from matplotlib==3.5.1->d2l) (1.4.2)\n",
      "Requirement already satisfied: fonttools>=4.22.0 in c:\\users\\bloodyprof\\anaconda3\\envs\\dl\\lib\\site-packages (from matplotlib==3.5.1->d2l) (4.33.3)\n",
      "Requirement already satisfied: pillow>=6.2.0 in c:\\users\\bloodyprof\\anaconda3\\envs\\dl\\lib\\site-packages (from matplotlib==3.5.1->d2l) (9.0.1)\n",
      "Requirement already satisfied: python-dateutil>=2.7 in c:\\users\\bloodyprof\\anaconda3\\envs\\dl\\lib\\site-packages (from matplotlib==3.5.1->d2l) (2.8.2)\n",
      "Requirement already satisfied: cycler>=0.10 in c:\\users\\bloodyprof\\anaconda3\\envs\\dl\\lib\\site-packages (from matplotlib==3.5.1->d2l) (0.11.0)\n",
      "Requirement already satisfied: packaging>=20.0 in c:\\users\\bloodyprof\\anaconda3\\envs\\dl\\lib\\site-packages (from matplotlib==3.5.1->d2l) (21.3)\n",
      "Requirement already satisfied: pyparsing>=2.2.1 in c:\\users\\bloodyprof\\anaconda3\\envs\\dl\\lib\\site-packages (from matplotlib==3.5.1->d2l) (3.0.4)\n",
      "Requirement already satisfied: pytz>=2017.3 in c:\\users\\bloodyprof\\anaconda3\\envs\\dl\\lib\\site-packages (from pandas==1.2.4->d2l) (2022.1)\n",
      "Requirement already satisfied: certifi>=2017.4.17 in c:\\users\\bloodyprof\\anaconda3\\envs\\dl\\lib\\site-packages (from requests==2.25.1->d2l) (2021.10.8)\n",
      "Collecting idna<3,>=2.5\n",
      "  Downloading idna-2.10-py2.py3-none-any.whl (58 kB)\n",
      "Requirement already satisfied: urllib3<1.27,>=1.21.1 in c:\\users\\bloodyprof\\anaconda3\\envs\\dl\\lib\\site-packages (from requests==2.25.1->d2l) (1.26.8)\n",
      "Collecting chardet<5,>=3.0.2\n",
      "  Downloading chardet-4.0.0-py2.py3-none-any.whl (178 kB)\n",
      "Requirement already satisfied: six>=1.5 in c:\\users\\bloodyprof\\anaconda3\\envs\\dl\\lib\\site-packages (from python-dateutil>=2.7->matplotlib==3.5.1->d2l) (1.16.0)\n",
      "Requirement already satisfied: matplotlib-inline<0.2.0,>=0.1.0 in c:\\users\\bloodyprof\\anaconda3\\envs\\dl\\lib\\site-packages (from ipykernel->jupyter==1.0.0->d2l) (0.1.2)\n",
      "Requirement already satisfied: jupyter-client<8.0 in c:\\users\\bloodyprof\\anaconda3\\envs\\dl\\lib\\site-packages (from ipykernel->jupyter==1.0.0->d2l) (7.2.2)\n",
      "Requirement already satisfied: tornado<7.0,>=4.2 in c:\\users\\bloodyprof\\anaconda3\\envs\\dl\\lib\\site-packages (from ipykernel->jupyter==1.0.0->d2l) (6.1)\n",
      "Requirement already satisfied: nest-asyncio in c:\\users\\bloodyprof\\anaconda3\\envs\\dl\\lib\\site-packages (from ipykernel->jupyter==1.0.0->d2l) (1.5.5)\n",
      "Requirement already satisfied: ipython>=7.23.1 in c:\\users\\bloodyprof\\anaconda3\\envs\\dl\\lib\\site-packages (from ipykernel->jupyter==1.0.0->d2l) (8.2.0)\n",
      "Requirement already satisfied: traitlets<6.0,>=5.1.0 in c:\\users\\bloodyprof\\anaconda3\\envs\\dl\\lib\\site-packages (from ipykernel->jupyter==1.0.0->d2l) (5.1.1)\n",
      "Requirement already satisfied: debugpy<2.0,>=1.0.0 in c:\\users\\bloodyprof\\anaconda3\\envs\\dl\\lib\\site-packages (from ipykernel->jupyter==1.0.0->d2l) (1.5.1)\n",
      "Requirement already satisfied: backcall in c:\\users\\bloodyprof\\anaconda3\\envs\\dl\\lib\\site-packages (from ipython>=7.23.1->ipykernel->jupyter==1.0.0->d2l) (0.2.0)\n",
      "Requirement already satisfied: setuptools>=18.5 in c:\\users\\bloodyprof\\anaconda3\\envs\\dl\\lib\\site-packages (from ipython>=7.23.1->ipykernel->jupyter==1.0.0->d2l) (58.0.4)\n",
      "Requirement already satisfied: colorama in c:\\users\\bloodyprof\\anaconda3\\envs\\dl\\lib\\site-packages (from ipython>=7.23.1->ipykernel->jupyter==1.0.0->d2l) (0.4.4)\n",
      "Requirement already satisfied: jedi>=0.16 in c:\\users\\bloodyprof\\anaconda3\\envs\\dl\\lib\\site-packages (from ipython>=7.23.1->ipykernel->jupyter==1.0.0->d2l) (0.18.1)\n",
      "Requirement already satisfied: decorator in c:\\users\\bloodyprof\\anaconda3\\envs\\dl\\lib\\site-packages (from ipython>=7.23.1->ipykernel->jupyter==1.0.0->d2l) (5.1.1)\n",
      "Requirement already satisfied: pygments>=2.4.0 in c:\\users\\bloodyprof\\anaconda3\\envs\\dl\\lib\\site-packages (from ipython>=7.23.1->ipykernel->jupyter==1.0.0->d2l) (2.11.2)\n",
      "Requirement already satisfied: pickleshare in c:\\users\\bloodyprof\\anaconda3\\envs\\dl\\lib\\site-packages (from ipython>=7.23.1->ipykernel->jupyter==1.0.0->d2l) (0.7.5)\n",
      "Requirement already satisfied: stack-data in c:\\users\\bloodyprof\\anaconda3\\envs\\dl\\lib\\site-packages (from ipython>=7.23.1->ipykernel->jupyter==1.0.0->d2l) (0.2.0)\n",
      "Requirement already satisfied: prompt-toolkit!=3.0.0,!=3.0.1,<3.1.0,>=2.0.0 in c:\\users\\bloodyprof\\anaconda3\\envs\\dl\\lib\\site-packages (from ipython>=7.23.1->ipykernel->jupyter==1.0.0->d2l) (3.0.20)\n",
      "Requirement already satisfied: parso<0.9.0,>=0.8.0 in c:\\users\\bloodyprof\\anaconda3\\envs\\dl\\lib\\site-packages (from jedi>=0.16->ipython>=7.23.1->ipykernel->jupyter==1.0.0->d2l) (0.8.3)\n",
      "Requirement already satisfied: pyzmq>=22.3 in c:\\users\\bloodyprof\\anaconda3\\envs\\dl\\lib\\site-packages (from jupyter-client<8.0->ipykernel->jupyter==1.0.0->d2l) (22.3.0)\n",
      "Requirement already satisfied: entrypoints in c:\\users\\bloodyprof\\anaconda3\\envs\\dl\\lib\\site-packages (from jupyter-client<8.0->ipykernel->jupyter==1.0.0->d2l) (0.4)\n",
      "Requirement already satisfied: jupyter-core>=4.9.2 in c:\\users\\bloodyprof\\anaconda3\\envs\\dl\\lib\\site-packages (from jupyter-client<8.0->ipykernel->jupyter==1.0.0->d2l) (4.9.2)\n",
      "Requirement already satisfied: pywin32>=1.0 in c:\\users\\bloodyprof\\anaconda3\\envs\\dl\\lib\\site-packages (from jupyter-core>=4.9.2->jupyter-client<8.0->ipykernel->jupyter==1.0.0->d2l) (302)\n",
      "Requirement already satisfied: wcwidth in c:\\users\\bloodyprof\\anaconda3\\envs\\dl\\lib\\site-packages (from prompt-toolkit!=3.0.0,!=3.0.1,<3.1.0,>=2.0.0->ipython>=7.23.1->ipykernel->jupyter==1.0.0->d2l) (0.2.5)\n",
      "Requirement already satisfied: jupyterlab-widgets>=1.0.0 in c:\\users\\bloodyprof\\anaconda3\\envs\\dl\\lib\\site-packages (from ipywidgets->jupyter==1.0.0->d2l) (1.1.0)\n",
      "Requirement already satisfied: nbformat>=4.2.0 in c:\\users\\bloodyprof\\anaconda3\\envs\\dl\\lib\\site-packages (from ipywidgets->jupyter==1.0.0->d2l) (5.3.0)\n",
      "Requirement already satisfied: ipython-genutils~=0.2.0 in c:\\users\\bloodyprof\\anaconda3\\envs\\dl\\lib\\site-packages (from ipywidgets->jupyter==1.0.0->d2l) (0.2.0)\n",
      "Requirement already satisfied: widgetsnbextension~=3.6.0 in c:\\users\\bloodyprof\\anaconda3\\envs\\dl\\lib\\site-packages (from ipywidgets->jupyter==1.0.0->d2l) (3.6.0)\n",
      "Requirement already satisfied: jsonschema>=2.6 in c:\\users\\bloodyprof\\anaconda3\\envs\\dl\\lib\\site-packages (from nbformat>=4.2.0->ipywidgets->jupyter==1.0.0->d2l) (4.4.0)\n",
      "Requirement already satisfied: fastjsonschema in c:\\users\\bloodyprof\\anaconda3\\envs\\dl\\lib\\site-packages (from nbformat>=4.2.0->ipywidgets->jupyter==1.0.0->d2l) (2.15.1)\n",
      "Requirement already satisfied: pyrsistent!=0.17.0,!=0.17.1,!=0.17.2,>=0.14.0 in c:\\users\\bloodyprof\\anaconda3\\envs\\dl\\lib\\site-packages (from jsonschema>=2.6->nbformat>=4.2.0->ipywidgets->jupyter==1.0.0->d2l) (0.18.0)\n",
      "Requirement already satisfied: attrs>=17.4.0 in c:\\users\\bloodyprof\\anaconda3\\envs\\dl\\lib\\site-packages (from jsonschema>=2.6->nbformat>=4.2.0->ipywidgets->jupyter==1.0.0->d2l) (21.4.0)\n",
      "Requirement already satisfied: jinja2 in c:\\users\\bloodyprof\\anaconda3\\envs\\dl\\lib\\site-packages (from notebook->jupyter==1.0.0->d2l) (3.0.3)\n",
      "Requirement already satisfied: prometheus-client in c:\\users\\bloodyprof\\anaconda3\\envs\\dl\\lib\\site-packages (from notebook->jupyter==1.0.0->d2l) (0.13.1)\n",
      "Requirement already satisfied: terminado>=0.8.3 in c:\\users\\bloodyprof\\anaconda3\\envs\\dl\\lib\\site-packages (from notebook->jupyter==1.0.0->d2l) (0.13.1)\n",
      "Requirement already satisfied: Send2Trash>=1.8.0 in c:\\users\\bloodyprof\\anaconda3\\envs\\dl\\lib\\site-packages (from notebook->jupyter==1.0.0->d2l) (1.8.0)\n",
      "Requirement already satisfied: argon2-cffi in c:\\users\\bloodyprof\\anaconda3\\envs\\dl\\lib\\site-packages (from notebook->jupyter==1.0.0->d2l) (21.3.0)\n",
      "Requirement already satisfied: pywinpty>=1.1.0 in c:\\users\\bloodyprof\\anaconda3\\envs\\dl\\lib\\site-packages (from terminado>=0.8.3->notebook->jupyter==1.0.0->d2l) (2.0.2)\n",
      "Requirement already satisfied: argon2-cffi-bindings in c:\\users\\bloodyprof\\anaconda3\\envs\\dl\\lib\\site-packages (from argon2-cffi->notebook->jupyter==1.0.0->d2l) (21.2.0)\n",
      "Requirement already satisfied: cffi>=1.0.1 in c:\\users\\bloodyprof\\anaconda3\\envs\\dl\\lib\\site-packages (from argon2-cffi-bindings->argon2-cffi->notebook->jupyter==1.0.0->d2l) (1.15.0)\n",
      "Requirement already satisfied: pycparser in c:\\users\\bloodyprof\\anaconda3\\envs\\dl\\lib\\site-packages (from cffi>=1.0.1->argon2-cffi-bindings->argon2-cffi->notebook->jupyter==1.0.0->d2l) (2.21)\n",
      "Requirement already satisfied: MarkupSafe>=2.0 in c:\\users\\bloodyprof\\anaconda3\\envs\\dl\\lib\\site-packages (from jinja2->notebook->jupyter==1.0.0->d2l) (2.0.1)\n",
      "Requirement already satisfied: jupyterlab-pygments in c:\\users\\bloodyprof\\anaconda3\\envs\\dl\\lib\\site-packages (from nbconvert->jupyter==1.0.0->d2l) (0.1.2)\n",
      "Requirement already satisfied: testpath in c:\\users\\bloodyprof\\anaconda3\\envs\\dl\\lib\\site-packages (from nbconvert->jupyter==1.0.0->d2l) (0.5.0)\n",
      "Requirement already satisfied: pandocfilters>=1.4.1 in c:\\users\\bloodyprof\\anaconda3\\envs\\dl\\lib\\site-packages (from nbconvert->jupyter==1.0.0->d2l) (1.5.0)\n",
      "Requirement already satisfied: defusedxml in c:\\users\\bloodyprof\\anaconda3\\envs\\dl\\lib\\site-packages (from nbconvert->jupyter==1.0.0->d2l) (0.7.1)\n",
      "Requirement already satisfied: bleach in c:\\users\\bloodyprof\\anaconda3\\envs\\dl\\lib\\site-packages (from nbconvert->jupyter==1.0.0->d2l) (4.1.0)\n",
      "Requirement already satisfied: nbclient<0.6.0,>=0.5.0 in c:\\users\\bloodyprof\\anaconda3\\envs\\dl\\lib\\site-packages (from nbconvert->jupyter==1.0.0->d2l) (0.5.13)\n",
      "Requirement already satisfied: mistune<2,>=0.8.1 in c:\\users\\bloodyprof\\anaconda3\\envs\\dl\\lib\\site-packages (from nbconvert->jupyter==1.0.0->d2l) (0.8.4)\n",
      "Requirement already satisfied: beautifulsoup4 in c:\\users\\bloodyprof\\anaconda3\\envs\\dl\\lib\\site-packages (from nbconvert->jupyter==1.0.0->d2l) (4.11.1)\n",
      "Requirement already satisfied: soupsieve>1.2 in c:\\users\\bloodyprof\\anaconda3\\envs\\dl\\lib\\site-packages (from beautifulsoup4->nbconvert->jupyter==1.0.0->d2l) (2.3.1)\n",
      "Requirement already satisfied: webencodings in c:\\users\\bloodyprof\\anaconda3\\envs\\dl\\lib\\site-packages (from bleach->nbconvert->jupyter==1.0.0->d2l) (0.5.1)\n",
      "Collecting qtpy>=2.0.1\n",
      "  Downloading QtPy-2.1.0-py3-none-any.whl (68 kB)\n",
      "Requirement already satisfied: asttokens in c:\\users\\bloodyprof\\anaconda3\\envs\\dl\\lib\\site-packages (from stack-data->ipython>=7.23.1->ipykernel->jupyter==1.0.0->d2l) (2.0.5)\n",
      "Requirement already satisfied: executing in c:\\users\\bloodyprof\\anaconda3\\envs\\dl\\lib\\site-packages (from stack-data->ipython>=7.23.1->ipykernel->jupyter==1.0.0->d2l) (0.8.3)\n",
      "Requirement already satisfied: pure-eval in c:\\users\\bloodyprof\\anaconda3\\envs\\dl\\lib\\site-packages (from stack-data->ipython>=7.23.1->ipykernel->jupyter==1.0.0->d2l) (0.2.2)\n",
      "Installing collected packages: qtpy, qtconsole, jupyter-console, idna, chardet, requests, pandas, matplotlib, jupyter, d2l\n",
      "  Attempting uninstall: idna\n",
      "    Found existing installation: idna 3.3\n",
      "    Uninstalling idna-3.3:\n",
      "      Successfully uninstalled idna-3.3\n",
      "  Attempting uninstall: requests\n",
      "    Found existing installation: requests 2.27.1\n",
      "    Uninstalling requests-2.27.1:\n",
      "      Successfully uninstalled requests-2.27.1\n",
      "  Attempting uninstall: pandas\n",
      "    Found existing installation: pandas 1.4.2\n",
      "    Uninstalling pandas-1.4.2:\n",
      "      Successfully uninstalled pandas-1.4.2\n",
      "  Attempting uninstall: matplotlib\n",
      "    Found existing installation: matplotlib 3.5.2\n",
      "    Uninstalling matplotlib-3.5.2:\n"
     ]
    }
   ],
   "source": [
    "!pip install -U d2l"
   ]
  },
  {
   "cell_type": "code",
   "execution_count": 23,
   "id": "576e6f51",
   "metadata": {
    "scrolled": true
   },
   "outputs": [],
   "source": [
    "import torch\n",
    "from torch import nn\n",
    "import matplotlib.pyplot as plt"
   ]
  },
  {
   "cell_type": "code",
   "execution_count": 43,
   "id": "ab8e34e0",
   "metadata": {
    "scrolled": true
   },
   "outputs": [],
   "source": [
    "n_train = 50 # No. of training examples\n",
    "x_train, _ = torch.sort(torch.rand(n_train) * 5)  "
   ]
  },
  {
   "cell_type": "code",
   "execution_count": 51,
   "id": "9228ef2b",
   "metadata": {},
   "outputs": [
    {
     "data": {
      "text/plain": [
       "torch.Size([50])"
      ]
     },
     "execution_count": 51,
     "metadata": {},
     "output_type": "execute_result"
    }
   ],
   "source": [
    "x_train.shape"
   ]
  },
  {
   "cell_type": "code",
   "execution_count": 45,
   "id": "054c5f11",
   "metadata": {},
   "outputs": [
    {
     "data": {
      "text/plain": [
       "50"
      ]
     },
     "execution_count": 45,
     "metadata": {},
     "output_type": "execute_result"
    }
   ],
   "source": [
    "def f(x):\n",
    "    return 2 * torch.sin(x) + x**0.8\n",
    "\n",
    "y_train = f(x_train) + torch.normal(0.0, 0.5, (n_train,)) # Training outputs\n",
    "x_test = torch.arange(0, 5, 0.1) # Testing examples\n",
    "y_truth = f(x_test) # Ground-truth outputs for the testing examples\n",
    "n_test = len(x_test) # No. of testing examples\n",
    "n_test"
   ]
  },
  {
   "cell_type": "code",
   "execution_count": 46,
   "id": "8c9e3dec",
   "metadata": {},
   "outputs": [],
   "source": [
    "def plot_kernel_reg(y_hat):\n",
    "    plt.plot(x_test, y_truth)\n",
    "    plt.plot(x_test, y_hat)\n",
    "    plt.plot(x_train, y_train, 'o', alpha=0.5);\n"
   ]
  },
  {
   "cell_type": "code",
   "execution_count": 55,
   "id": "e1bb8d77",
   "metadata": {},
   "outputs": [
    {
     "data": {
      "image/png": "[encoded data removed]",
      "text/plain": [
       "<Figure size 432x288 with 1 Axes>"
      ]
     },
     "metadata": {
      "needs_background": "light"
     },
     "output_type": "display_data"
    }
   ],
   "source": [
    "y_hat = torch.repeat_interleave(y_train.mean(), n_test)\n",
    "plot_kernel_reg(y_hat)"
   ]
  },
  {
   "cell_type": "code",
   "execution_count": 56,
   "id": "a05b9f69",
   "metadata": {},
   "outputs": [
    {
     "data": {
      "text/plain": [
       "tensor([2.3140, 2.3140, 2.3140, 2.3140, 2.3140, 2.3140, 2.3140, 2.3140, 2.3140,\n",
       "        2.3140, 2.3140, 2.3140, 2.3140, 2.3140, 2.3140, 2.3140, 2.3140, 2.3140,\n",
       "        2.3140, 2.3140, 2.3140, 2.3140, 2.3140, 2.3140, 2.3140, 2.3140, 2.3140,\n",
       "        2.3140, 2.3140, 2.3140, 2.3140, 2.3140, 2.3140, 2.3140, 2.3140, 2.3140,\n",
       "        2.3140, 2.3140, 2.3140, 2.3140, 2.3140, 2.3140, 2.3140, 2.3140, 2.3140,\n",
       "        2.3140, 2.3140, 2.3140, 2.3140, 2.3140])"
      ]
     },
     "execution_count": 56,
     "metadata": {},
     "output_type": "execute_result"
    }
   ],
   "source": [
    "y_hat"
   ]
  },
  {
   "cell_type": "code",
   "execution_count": 59,
   "id": "a5981d3d",
   "metadata": {},
   "outputs": [
    {
     "data": {
      "image/png": "[encoded data removed]",
      "text/plain": [
       "<Figure size 432x288 with 1 Axes>"
      ]
     },
     "metadata": {
      "needs_background": "light"
     },
     "output_type": "display_data"
    }
   ],
   "source": [
    "# Shape of `X_repeat`: (`n_test`, `n_train`), where each row contains the\n",
    "# same testing inputs (i.e., same queries)\n",
    "X_repeat = x_test.repeat_interleave(n_train).reshape((-1, n_train))\n",
    "# Note that `x_train` contains the keys. Shape of `attention_weights`:\n",
    "# (`n_test`, `n_train`), where each row contains attention weights to be\n",
    "# assigned among the values (`y_train`) given each query\n",
    "attention_weights = nn.functional.softmax(-(X_repeat - x_train)**2 / 2, dim=1)\n",
    "# Each element of `y_hat` is weighted average of values, where weights are\n",
    "# attention weights\n",
    "y_hat = torch.matmul(attention_weights, y_train)\n",
    "plot_kernel_reg(y_hat)"
   ]
  },
  {
   "cell_type": "markdown",
   "id": "2b101050",
   "metadata": {},
   "source": [
    "### Batch Matrix Multiplication"
   ]
  },
  {
   "cell_type": "code",
   "execution_count": 64,
   "id": "ca25d50d",
   "metadata": {},
   "outputs": [
    {
     "data": {
      "text/plain": [
       "torch.Size([3, 5, 6])"
      ]
     },
     "execution_count": 64,
     "metadata": {},
     "output_type": "execute_result"
    }
   ],
   "source": [
    "x =  torch.ones(3,5,3)\n",
    "y = torch.ones(3,3,6)\n",
    "torch.bmm(x,y).shape"
   ]
  },
  {
   "cell_type": "code",
   "execution_count": null,
   "id": "13ab5651",
   "metadata": {},
   "outputs": [],
   "source": [
    "weights = torch.ones((2, 10)) * 0.1\n",
    "values = torch.arange(20.0).reshape((2, 10))\n",
    "torch.bmm(weights.unsqueeze(1), values.unsqueeze(-1))"
   ]
  }
 ],
 "metadata": {
  "kernelspec": {
   "display_name": "Python 3 (ipykernel)",
   "language": "python",
   "name": "python3"
  },
  "language_info": {
   "codemirror_mode": {
    "name": "ipython",
    "version": 3
   },
   "file_extension": ".py",
   "mimetype": "text/x-python",
   "name": "python",
   "nbconvert_exporter": "python",
   "pygments_lexer": "ipython3",
   "version": "3.9.12"
  }
 },
 "nbformat": 4,
 "nbformat_minor": 5
}
