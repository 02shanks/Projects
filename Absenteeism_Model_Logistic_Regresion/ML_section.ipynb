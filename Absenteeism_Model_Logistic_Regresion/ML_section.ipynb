{
 "cells": [
  {
   "cell_type": "code",
   "execution_count": 1,
   "id": "d3663cf2",
   "metadata": {},
   "outputs": [],
   "source": [
    "import numpy as np\n",
    "import pandas as pd"
   ]
  },
  {
   "cell_type": "code",
   "execution_count": 3,
   "id": "5b9fc5d2",
   "metadata": {},
   "outputs": [],
   "source": [
    "data_preprocessed = pd.read_csv('Absenteeism-preprocessed.csv')"
   ]
  },
  {
   "cell_type": "code",
   "execution_count": 5,
   "id": "19c08cac",
   "metadata": {},
   "outputs": [
    {
     "data": {
      "text/plain": [
       "3.0"
      ]
     },
     "execution_count": 5,
     "metadata": {},
     "output_type": "execute_result"
    }
   ],
   "source": [
    "data_preprocessed['Absenteeism Time in Hours'].median()"
   ]
  },
  {
   "cell_type": "code",
   "execution_count": 4,
   "id": "8fb04917",
   "metadata": {},
   "outputs": [],
   "source": [
    "targets = np.where(data_preprocessed['Absenteeism Time in Hours']>data_preprocessed['Absenteeism Time in Hours'].median(), 1 , 0)"
   ]
  },
  {
   "cell_type": "code",
   "execution_count": 5,
   "id": "33583d12",
   "metadata": {},
   "outputs": [
    {
     "data": {
      "text/plain": [
       "array([1, 0, 0, 1, 0, 0, 1, 1, 1, 1, 1, 1, 1, 0, 1, 1, 0, 1, 1, 0, 1, 0,\n",
       "       1, 1, 1, 1, 0, 1, 1, 0, 1, 1, 1, 1, 0, 0, 1, 1, 1, 1, 0, 1, 1, 1,\n",
       "       0, 0, 0, 1, 1, 1, 0, 0, 0, 0, 0, 0, 0, 0, 0, 0, 0, 1, 0, 0, 0, 0,\n",
       "       0, 0, 0, 0, 0, 1, 1, 0, 1, 1, 0, 1, 0, 0, 0, 0, 1, 1, 1, 1, 1, 1,\n",
       "       0, 1, 0, 1, 0, 1, 0, 0, 1, 0, 0, 1, 0, 1, 0, 1, 1, 1, 0, 0, 0, 1,\n",
       "       0, 1, 0, 0, 0, 0, 1, 0, 0, 0, 0, 0, 0, 0, 0, 0, 0, 0, 0, 1, 1, 0,\n",
       "       0, 0, 0, 0, 0, 0, 1, 1, 0, 1, 0, 1, 1, 1, 0, 0, 0, 1, 0, 1, 0, 0,\n",
       "       1, 0, 1, 0, 1, 1, 1, 1, 0, 1, 1, 1, 1, 1, 1, 1, 1, 0, 1, 1, 0, 1,\n",
       "       0, 1, 1, 0, 1, 0, 0, 0, 0, 0, 0, 1, 0, 0, 1, 1, 0, 0, 1, 0, 1, 1,\n",
       "       1, 1, 1, 1, 0, 0, 1, 0, 0, 1, 1, 1, 0, 0, 1, 0, 0, 0, 0, 0, 1, 1,\n",
       "       1, 1, 1, 1, 1, 1, 1, 1, 1, 1, 0, 1, 1, 0, 0, 0, 1, 1, 1, 1, 1, 1,\n",
       "       0, 1, 1, 0, 1, 1, 1, 1, 1, 0, 1, 0, 0, 1, 0, 0, 1, 1, 0, 1, 0, 0,\n",
       "       0, 0, 0, 1, 1, 1, 1, 0, 1, 0, 1, 0, 0, 0, 1, 1, 0, 1, 1, 1, 0, 0,\n",
       "       0, 1, 1, 1, 1, 1, 1, 0, 0, 1, 0, 1, 0, 1, 0, 1, 0, 0, 0, 0, 0, 1,\n",
       "       1, 0, 1, 0, 0, 0, 1, 1, 0, 1, 0, 1, 0, 0, 1, 1, 1, 0, 0, 0, 0, 0,\n",
       "       1, 1, 1, 0, 1, 1, 0, 0, 0, 0, 0, 0, 0, 0, 1, 1, 0, 0, 0, 1, 0, 0,\n",
       "       1, 1, 1, 0, 0, 1, 1, 1, 0, 0, 1, 1, 1, 1, 1, 0, 0, 0, 0, 0, 0, 0,\n",
       "       0, 0, 0, 1, 1, 0, 1, 0, 0, 0, 1, 0, 0, 1, 0, 0, 1, 1, 0, 1, 0, 1,\n",
       "       1, 1, 1, 1, 0, 1, 0, 0, 1, 0, 0, 0, 1, 1, 1, 0, 1, 0, 1, 1, 1, 1,\n",
       "       1, 0, 1, 1, 1, 1, 0, 1, 0, 1, 0, 1, 0, 0, 0, 0, 1, 0, 1, 0, 0, 1,\n",
       "       0, 0, 0, 0, 1, 1, 0, 1, 1, 0, 1, 1, 0, 0, 0, 1, 0, 0, 0, 1, 0, 1,\n",
       "       1, 1, 1, 1, 1, 1, 1, 0, 0, 1, 0, 0, 1, 1, 1, 0, 0, 0, 1, 0, 1, 1,\n",
       "       1, 1, 1, 1, 1, 1, 1, 0, 1, 0, 0, 0, 0, 0, 0, 0, 1, 0, 1, 0, 0, 1,\n",
       "       1, 0, 0, 1, 0, 0, 0, 0, 0, 0, 1, 0, 1, 1, 0, 0, 0, 1, 0, 1, 0, 1,\n",
       "       1, 1, 0, 0, 0, 0, 1, 0, 1, 1, 1, 1, 1, 0, 0, 0, 0, 1, 1, 0, 0, 0,\n",
       "       1, 0, 0, 1, 0, 1, 0, 0, 0, 0, 0, 1, 0, 1, 1, 1, 0, 0, 0, 1, 1, 1,\n",
       "       0, 0, 0, 0, 1, 0, 0, 1, 0, 0, 1, 0, 0, 1, 0, 1, 0, 0, 0, 0, 0, 0,\n",
       "       0, 0, 1, 0, 0, 0, 0, 0, 0, 0, 0, 0, 1, 0, 1, 0, 0, 0, 0, 0, 0, 0,\n",
       "       0, 0, 0, 0, 0, 0, 1, 0, 0, 0, 0, 0, 0, 1, 1, 0, 0, 0, 1, 0, 0, 1,\n",
       "       0, 1, 0, 0, 0, 0, 0, 0, 0, 1, 1, 0, 0, 0, 1, 1, 1, 1, 1, 1, 1, 0,\n",
       "       1, 0, 0, 0, 0, 1, 0, 1, 0, 0, 1, 1, 0, 0, 1, 0, 0, 0, 1, 0, 0, 1,\n",
       "       1, 1, 0, 0, 0, 0, 0, 0, 0, 0, 1, 1, 1, 1, 0, 1, 0, 0])"
      ]
     },
     "execution_count": 5,
     "metadata": {},
     "output_type": "execute_result"
    }
   ],
   "source": [
    "targets"
   ]
  },
  {
   "cell_type": "code",
   "execution_count": 6,
   "id": "c10b9178",
   "metadata": {},
   "outputs": [],
   "source": [
    "data_preprocessed['Excessive Absenteeism']=targets"
   ]
  },
  {
   "cell_type": "code",
   "execution_count": 7,
   "id": "a5caa7da",
   "metadata": {},
   "outputs": [
    {
     "data": {
      "text/html": [
       "<div>\n",
       "<style scoped>\n",
       "    .dataframe tbody tr th:only-of-type {\n",
       "        vertical-align: middle;\n",
       "    }\n",
       "\n",
       "    .dataframe tbody tr th {\n",
       "        vertical-align: top;\n",
       "    }\n",
       "\n",
       "    .dataframe thead th {\n",
       "        text-align: right;\n",
       "    }\n",
       "</style>\n",
       "<table border=\"1\" class=\"dataframe\">\n",
       "  <thead>\n",
       "    <tr style=\"text-align: right;\">\n",
       "      <th></th>\n",
       "      <th>Reason_1</th>\n",
       "      <th>Reason_2</th>\n",
       "      <th>Reason_3</th>\n",
       "      <th>Reason_4</th>\n",
       "      <th>Age_1</th>\n",
       "      <th>Age_2</th>\n",
       "      <th>Age_3</th>\n",
       "      <th>Month_value</th>\n",
       "      <th>Day_of_the_Week</th>\n",
       "      <th>Transportation Expense</th>\n",
       "      <th>Distance to Work</th>\n",
       "      <th>Daily Work Load Average</th>\n",
       "      <th>Body Mass Index</th>\n",
       "      <th>Education</th>\n",
       "      <th>Children</th>\n",
       "      <th>Pets</th>\n",
       "      <th>Absenteeism Time in Hours</th>\n",
       "      <th>Excessive Absenteeism</th>\n",
       "    </tr>\n",
       "  </thead>\n",
       "  <tbody>\n",
       "    <tr>\n",
       "      <th>0</th>\n",
       "      <td>0</td>\n",
       "      <td>0</td>\n",
       "      <td>0</td>\n",
       "      <td>1</td>\n",
       "      <td>0</td>\n",
       "      <td>1</td>\n",
       "      <td>1</td>\n",
       "      <td>7</td>\n",
       "      <td>1</td>\n",
       "      <td>289</td>\n",
       "      <td>36</td>\n",
       "      <td>239.554</td>\n",
       "      <td>30</td>\n",
       "      <td>0</td>\n",
       "      <td>2</td>\n",
       "      <td>1</td>\n",
       "      <td>4</td>\n",
       "      <td>1</td>\n",
       "    </tr>\n",
       "    <tr>\n",
       "      <th>1</th>\n",
       "      <td>0</td>\n",
       "      <td>0</td>\n",
       "      <td>0</td>\n",
       "      <td>0</td>\n",
       "      <td>0</td>\n",
       "      <td>0</td>\n",
       "      <td>1</td>\n",
       "      <td>7</td>\n",
       "      <td>1</td>\n",
       "      <td>118</td>\n",
       "      <td>13</td>\n",
       "      <td>239.554</td>\n",
       "      <td>31</td>\n",
       "      <td>0</td>\n",
       "      <td>1</td>\n",
       "      <td>0</td>\n",
       "      <td>0</td>\n",
       "      <td>0</td>\n",
       "    </tr>\n",
       "    <tr>\n",
       "      <th>2</th>\n",
       "      <td>0</td>\n",
       "      <td>0</td>\n",
       "      <td>0</td>\n",
       "      <td>1</td>\n",
       "      <td>0</td>\n",
       "      <td>1</td>\n",
       "      <td>1</td>\n",
       "      <td>7</td>\n",
       "      <td>2</td>\n",
       "      <td>179</td>\n",
       "      <td>51</td>\n",
       "      <td>239.554</td>\n",
       "      <td>31</td>\n",
       "      <td>0</td>\n",
       "      <td>0</td>\n",
       "      <td>0</td>\n",
       "      <td>2</td>\n",
       "      <td>0</td>\n",
       "    </tr>\n",
       "    <tr>\n",
       "      <th>3</th>\n",
       "      <td>1</td>\n",
       "      <td>0</td>\n",
       "      <td>0</td>\n",
       "      <td>0</td>\n",
       "      <td>0</td>\n",
       "      <td>1</td>\n",
       "      <td>1</td>\n",
       "      <td>7</td>\n",
       "      <td>3</td>\n",
       "      <td>279</td>\n",
       "      <td>5</td>\n",
       "      <td>239.554</td>\n",
       "      <td>24</td>\n",
       "      <td>0</td>\n",
       "      <td>2</td>\n",
       "      <td>0</td>\n",
       "      <td>4</td>\n",
       "      <td>1</td>\n",
       "    </tr>\n",
       "    <tr>\n",
       "      <th>4</th>\n",
       "      <td>0</td>\n",
       "      <td>0</td>\n",
       "      <td>0</td>\n",
       "      <td>1</td>\n",
       "      <td>0</td>\n",
       "      <td>1</td>\n",
       "      <td>1</td>\n",
       "      <td>7</td>\n",
       "      <td>3</td>\n",
       "      <td>289</td>\n",
       "      <td>36</td>\n",
       "      <td>239.554</td>\n",
       "      <td>30</td>\n",
       "      <td>0</td>\n",
       "      <td>2</td>\n",
       "      <td>1</td>\n",
       "      <td>2</td>\n",
       "      <td>0</td>\n",
       "    </tr>\n",
       "    <tr>\n",
       "      <th>...</th>\n",
       "      <td>...</td>\n",
       "      <td>...</td>\n",
       "      <td>...</td>\n",
       "      <td>...</td>\n",
       "      <td>...</td>\n",
       "      <td>...</td>\n",
       "      <td>...</td>\n",
       "      <td>...</td>\n",
       "      <td>...</td>\n",
       "      <td>...</td>\n",
       "      <td>...</td>\n",
       "      <td>...</td>\n",
       "      <td>...</td>\n",
       "      <td>...</td>\n",
       "      <td>...</td>\n",
       "      <td>...</td>\n",
       "      <td>...</td>\n",
       "      <td>...</td>\n",
       "    </tr>\n",
       "    <tr>\n",
       "      <th>695</th>\n",
       "      <td>1</td>\n",
       "      <td>0</td>\n",
       "      <td>0</td>\n",
       "      <td>0</td>\n",
       "      <td>0</td>\n",
       "      <td>1</td>\n",
       "      <td>1</td>\n",
       "      <td>5</td>\n",
       "      <td>2</td>\n",
       "      <td>179</td>\n",
       "      <td>22</td>\n",
       "      <td>237.656</td>\n",
       "      <td>22</td>\n",
       "      <td>1</td>\n",
       "      <td>2</td>\n",
       "      <td>0</td>\n",
       "      <td>8</td>\n",
       "      <td>1</td>\n",
       "    </tr>\n",
       "    <tr>\n",
       "      <th>696</th>\n",
       "      <td>1</td>\n",
       "      <td>0</td>\n",
       "      <td>0</td>\n",
       "      <td>0</td>\n",
       "      <td>1</td>\n",
       "      <td>0</td>\n",
       "      <td>1</td>\n",
       "      <td>5</td>\n",
       "      <td>2</td>\n",
       "      <td>225</td>\n",
       "      <td>26</td>\n",
       "      <td>237.656</td>\n",
       "      <td>24</td>\n",
       "      <td>0</td>\n",
       "      <td>1</td>\n",
       "      <td>2</td>\n",
       "      <td>3</td>\n",
       "      <td>0</td>\n",
       "    </tr>\n",
       "    <tr>\n",
       "      <th>697</th>\n",
       "      <td>1</td>\n",
       "      <td>0</td>\n",
       "      <td>0</td>\n",
       "      <td>0</td>\n",
       "      <td>1</td>\n",
       "      <td>0</td>\n",
       "      <td>1</td>\n",
       "      <td>5</td>\n",
       "      <td>3</td>\n",
       "      <td>330</td>\n",
       "      <td>16</td>\n",
       "      <td>237.656</td>\n",
       "      <td>25</td>\n",
       "      <td>1</td>\n",
       "      <td>0</td>\n",
       "      <td>0</td>\n",
       "      <td>8</td>\n",
       "      <td>1</td>\n",
       "    </tr>\n",
       "    <tr>\n",
       "      <th>698</th>\n",
       "      <td>0</td>\n",
       "      <td>0</td>\n",
       "      <td>0</td>\n",
       "      <td>1</td>\n",
       "      <td>0</td>\n",
       "      <td>1</td>\n",
       "      <td>1</td>\n",
       "      <td>5</td>\n",
       "      <td>3</td>\n",
       "      <td>235</td>\n",
       "      <td>16</td>\n",
       "      <td>237.656</td>\n",
       "      <td>25</td>\n",
       "      <td>1</td>\n",
       "      <td>0</td>\n",
       "      <td>0</td>\n",
       "      <td>2</td>\n",
       "      <td>0</td>\n",
       "    </tr>\n",
       "    <tr>\n",
       "      <th>699</th>\n",
       "      <td>0</td>\n",
       "      <td>0</td>\n",
       "      <td>0</td>\n",
       "      <td>1</td>\n",
       "      <td>0</td>\n",
       "      <td>1</td>\n",
       "      <td>1</td>\n",
       "      <td>5</td>\n",
       "      <td>3</td>\n",
       "      <td>291</td>\n",
       "      <td>31</td>\n",
       "      <td>237.656</td>\n",
       "      <td>25</td>\n",
       "      <td>0</td>\n",
       "      <td>1</td>\n",
       "      <td>1</td>\n",
       "      <td>2</td>\n",
       "      <td>0</td>\n",
       "    </tr>\n",
       "  </tbody>\n",
       "</table>\n",
       "<p>700 rows × 18 columns</p>\n",
       "</div>"
      ],
      "text/plain": [
       "     Reason_1  Reason_2  Reason_3  Reason_4  Age_1  Age_2  Age_3  Month_value  \\\n",
       "0           0         0         0         1      0      1      1            7   \n",
       "1           0         0         0         0      0      0      1            7   \n",
       "2           0         0         0         1      0      1      1            7   \n",
       "3           1         0         0         0      0      1      1            7   \n",
       "4           0         0         0         1      0      1      1            7   \n",
       "..        ...       ...       ...       ...    ...    ...    ...          ...   \n",
       "695         1         0         0         0      0      1      1            5   \n",
       "696         1         0         0         0      1      0      1            5   \n",
       "697         1         0         0         0      1      0      1            5   \n",
       "698         0         0         0         1      0      1      1            5   \n",
       "699         0         0         0         1      0      1      1            5   \n",
       "\n",
       "     Day_of_the_Week  Transportation Expense  Distance to Work  \\\n",
       "0                  1                     289                36   \n",
       "1                  1                     118                13   \n",
       "2                  2                     179                51   \n",
       "3                  3                     279                 5   \n",
       "4                  3                     289                36   \n",
       "..               ...                     ...               ...   \n",
       "695                2                     179                22   \n",
       "696                2                     225                26   \n",
       "697                3                     330                16   \n",
       "698                3                     235                16   \n",
       "699                3                     291                31   \n",
       "\n",
       "     Daily Work Load Average  Body Mass Index  Education  Children  Pets  \\\n",
       "0                    239.554               30          0         2     1   \n",
       "1                    239.554               31          0         1     0   \n",
       "2                    239.554               31          0         0     0   \n",
       "3                    239.554               24          0         2     0   \n",
       "4                    239.554               30          0         2     1   \n",
       "..                       ...              ...        ...       ...   ...   \n",
       "695                  237.656               22          1         2     0   \n",
       "696                  237.656               24          0         1     2   \n",
       "697                  237.656               25          1         0     0   \n",
       "698                  237.656               25          1         0     0   \n",
       "699                  237.656               25          0         1     1   \n",
       "\n",
       "     Absenteeism Time in Hours  Excessive Absenteeism  \n",
       "0                            4                      1  \n",
       "1                            0                      0  \n",
       "2                            2                      0  \n",
       "3                            4                      1  \n",
       "4                            2                      0  \n",
       "..                         ...                    ...  \n",
       "695                          8                      1  \n",
       "696                          3                      0  \n",
       "697                          8                      1  \n",
       "698                          2                      0  \n",
       "699                          2                      0  \n",
       "\n",
       "[700 rows x 18 columns]"
      ]
     },
     "execution_count": 7,
     "metadata": {},
     "output_type": "execute_result"
    }
   ],
   "source": [
    "data_preprocessed"
   ]
  },
  {
   "cell_type": "markdown",
   "id": "9ad880e2",
   "metadata": {},
   "source": [
    "### Creating Targets"
   ]
  },
  {
   "cell_type": "code",
   "execution_count": 8,
   "id": "6cb6b80e",
   "metadata": {},
   "outputs": [],
   "source": [
    "data_with_targets = data_preprocessed.drop(['Absenteeism Time in Hours','Day_of_the_Week','Distance to Work', 'Daily Work Load Average'],axis=1)"
   ]
  },
  {
   "cell_type": "code",
   "execution_count": 9,
   "id": "247105b1",
   "metadata": {},
   "outputs": [
    {
     "data": {
      "text/plain": [
       "False"
      ]
     },
     "execution_count": 9,
     "metadata": {},
     "output_type": "execute_result"
    }
   ],
   "source": [
    "data_with_targets is data_preprocessed #checking do thes variables refer to same/diff objects"
   ]
  },
  {
   "cell_type": "code",
   "execution_count": 10,
   "id": "50792009",
   "metadata": {},
   "outputs": [
    {
     "data": {
      "text/plain": [
       "(700, 14)"
      ]
     },
     "execution_count": 10,
     "metadata": {},
     "output_type": "execute_result"
    }
   ],
   "source": [
    "data_with_targets.shape"
   ]
  },
  {
   "cell_type": "code",
   "execution_count": 11,
   "id": "2208c2d3",
   "metadata": {},
   "outputs": [
    {
     "data": {
      "text/html": [
       "<div>\n",
       "<style scoped>\n",
       "    .dataframe tbody tr th:only-of-type {\n",
       "        vertical-align: middle;\n",
       "    }\n",
       "\n",
       "    .dataframe tbody tr th {\n",
       "        vertical-align: top;\n",
       "    }\n",
       "\n",
       "    .dataframe thead th {\n",
       "        text-align: right;\n",
       "    }\n",
       "</style>\n",
       "<table border=\"1\" class=\"dataframe\">\n",
       "  <thead>\n",
       "    <tr style=\"text-align: right;\">\n",
       "      <th></th>\n",
       "      <th>Reason_1</th>\n",
       "      <th>Reason_2</th>\n",
       "      <th>Reason_3</th>\n",
       "      <th>Reason_4</th>\n",
       "      <th>Age_1</th>\n",
       "      <th>Age_2</th>\n",
       "      <th>Age_3</th>\n",
       "      <th>Month_value</th>\n",
       "      <th>Transportation Expense</th>\n",
       "      <th>Body Mass Index</th>\n",
       "      <th>Education</th>\n",
       "      <th>Children</th>\n",
       "      <th>Pets</th>\n",
       "    </tr>\n",
       "  </thead>\n",
       "  <tbody>\n",
       "    <tr>\n",
       "      <th>0</th>\n",
       "      <td>0</td>\n",
       "      <td>0</td>\n",
       "      <td>0</td>\n",
       "      <td>1</td>\n",
       "      <td>0</td>\n",
       "      <td>1</td>\n",
       "      <td>1</td>\n",
       "      <td>7</td>\n",
       "      <td>289</td>\n",
       "      <td>30</td>\n",
       "      <td>0</td>\n",
       "      <td>2</td>\n",
       "      <td>1</td>\n",
       "    </tr>\n",
       "    <tr>\n",
       "      <th>1</th>\n",
       "      <td>0</td>\n",
       "      <td>0</td>\n",
       "      <td>0</td>\n",
       "      <td>0</td>\n",
       "      <td>0</td>\n",
       "      <td>0</td>\n",
       "      <td>1</td>\n",
       "      <td>7</td>\n",
       "      <td>118</td>\n",
       "      <td>31</td>\n",
       "      <td>0</td>\n",
       "      <td>1</td>\n",
       "      <td>0</td>\n",
       "    </tr>\n",
       "    <tr>\n",
       "      <th>2</th>\n",
       "      <td>0</td>\n",
       "      <td>0</td>\n",
       "      <td>0</td>\n",
       "      <td>1</td>\n",
       "      <td>0</td>\n",
       "      <td>1</td>\n",
       "      <td>1</td>\n",
       "      <td>7</td>\n",
       "      <td>179</td>\n",
       "      <td>31</td>\n",
       "      <td>0</td>\n",
       "      <td>0</td>\n",
       "      <td>0</td>\n",
       "    </tr>\n",
       "    <tr>\n",
       "      <th>3</th>\n",
       "      <td>1</td>\n",
       "      <td>0</td>\n",
       "      <td>0</td>\n",
       "      <td>0</td>\n",
       "      <td>0</td>\n",
       "      <td>1</td>\n",
       "      <td>1</td>\n",
       "      <td>7</td>\n",
       "      <td>279</td>\n",
       "      <td>24</td>\n",
       "      <td>0</td>\n",
       "      <td>2</td>\n",
       "      <td>0</td>\n",
       "    </tr>\n",
       "    <tr>\n",
       "      <th>4</th>\n",
       "      <td>0</td>\n",
       "      <td>0</td>\n",
       "      <td>0</td>\n",
       "      <td>1</td>\n",
       "      <td>0</td>\n",
       "      <td>1</td>\n",
       "      <td>1</td>\n",
       "      <td>7</td>\n",
       "      <td>289</td>\n",
       "      <td>30</td>\n",
       "      <td>0</td>\n",
       "      <td>2</td>\n",
       "      <td>1</td>\n",
       "    </tr>\n",
       "  </tbody>\n",
       "</table>\n",
       "</div>"
      ],
      "text/plain": [
       "   Reason_1  Reason_2  Reason_3  Reason_4  Age_1  Age_2  Age_3  Month_value  \\\n",
       "0         0         0         0         1      0      1      1            7   \n",
       "1         0         0         0         0      0      0      1            7   \n",
       "2         0         0         0         1      0      1      1            7   \n",
       "3         1         0         0         0      0      1      1            7   \n",
       "4         0         0         0         1      0      1      1            7   \n",
       "\n",
       "   Transportation Expense  Body Mass Index  Education  Children  Pets  \n",
       "0                     289               30          0         2     1  \n",
       "1                     118               31          0         1     0  \n",
       "2                     179               31          0         0     0  \n",
       "3                     279               24          0         2     0  \n",
       "4                     289               30          0         2     1  "
      ]
     },
     "execution_count": 11,
     "metadata": {},
     "output_type": "execute_result"
    }
   ],
   "source": [
    "#data_with_targets.iloc[:,:16]\n",
    "data_with_targets.iloc[:,:-1].head()"
   ]
  },
  {
   "cell_type": "code",
   "execution_count": 12,
   "id": "1badac04",
   "metadata": {},
   "outputs": [],
   "source": [
    "unscaled_inputs = data_with_targets.iloc[:,:-1]"
   ]
  },
  {
   "cell_type": "code",
   "execution_count": 13,
   "id": "aa57b0a0",
   "metadata": {},
   "outputs": [
    {
     "data": {
      "text/html": [
       "<div>\n",
       "<style scoped>\n",
       "    .dataframe tbody tr th:only-of-type {\n",
       "        vertical-align: middle;\n",
       "    }\n",
       "\n",
       "    .dataframe tbody tr th {\n",
       "        vertical-align: top;\n",
       "    }\n",
       "\n",
       "    .dataframe thead th {\n",
       "        text-align: right;\n",
       "    }\n",
       "</style>\n",
       "<table border=\"1\" class=\"dataframe\">\n",
       "  <thead>\n",
       "    <tr style=\"text-align: right;\">\n",
       "      <th></th>\n",
       "      <th>Reason_1</th>\n",
       "      <th>Reason_2</th>\n",
       "      <th>Reason_3</th>\n",
       "      <th>Reason_4</th>\n",
       "      <th>Age_1</th>\n",
       "      <th>Age_2</th>\n",
       "      <th>Age_3</th>\n",
       "      <th>Month_value</th>\n",
       "      <th>Transportation Expense</th>\n",
       "      <th>Body Mass Index</th>\n",
       "      <th>Education</th>\n",
       "      <th>Children</th>\n",
       "      <th>Pets</th>\n",
       "    </tr>\n",
       "  </thead>\n",
       "  <tbody>\n",
       "    <tr>\n",
       "      <th>0</th>\n",
       "      <td>0</td>\n",
       "      <td>0</td>\n",
       "      <td>0</td>\n",
       "      <td>1</td>\n",
       "      <td>0</td>\n",
       "      <td>1</td>\n",
       "      <td>1</td>\n",
       "      <td>7</td>\n",
       "      <td>289</td>\n",
       "      <td>30</td>\n",
       "      <td>0</td>\n",
       "      <td>2</td>\n",
       "      <td>1</td>\n",
       "    </tr>\n",
       "    <tr>\n",
       "      <th>1</th>\n",
       "      <td>0</td>\n",
       "      <td>0</td>\n",
       "      <td>0</td>\n",
       "      <td>0</td>\n",
       "      <td>0</td>\n",
       "      <td>0</td>\n",
       "      <td>1</td>\n",
       "      <td>7</td>\n",
       "      <td>118</td>\n",
       "      <td>31</td>\n",
       "      <td>0</td>\n",
       "      <td>1</td>\n",
       "      <td>0</td>\n",
       "    </tr>\n",
       "    <tr>\n",
       "      <th>2</th>\n",
       "      <td>0</td>\n",
       "      <td>0</td>\n",
       "      <td>0</td>\n",
       "      <td>1</td>\n",
       "      <td>0</td>\n",
       "      <td>1</td>\n",
       "      <td>1</td>\n",
       "      <td>7</td>\n",
       "      <td>179</td>\n",
       "      <td>31</td>\n",
       "      <td>0</td>\n",
       "      <td>0</td>\n",
       "      <td>0</td>\n",
       "    </tr>\n",
       "    <tr>\n",
       "      <th>3</th>\n",
       "      <td>1</td>\n",
       "      <td>0</td>\n",
       "      <td>0</td>\n",
       "      <td>0</td>\n",
       "      <td>0</td>\n",
       "      <td>1</td>\n",
       "      <td>1</td>\n",
       "      <td>7</td>\n",
       "      <td>279</td>\n",
       "      <td>24</td>\n",
       "      <td>0</td>\n",
       "      <td>2</td>\n",
       "      <td>0</td>\n",
       "    </tr>\n",
       "    <tr>\n",
       "      <th>4</th>\n",
       "      <td>0</td>\n",
       "      <td>0</td>\n",
       "      <td>0</td>\n",
       "      <td>1</td>\n",
       "      <td>0</td>\n",
       "      <td>1</td>\n",
       "      <td>1</td>\n",
       "      <td>7</td>\n",
       "      <td>289</td>\n",
       "      <td>30</td>\n",
       "      <td>0</td>\n",
       "      <td>2</td>\n",
       "      <td>1</td>\n",
       "    </tr>\n",
       "    <tr>\n",
       "      <th>...</th>\n",
       "      <td>...</td>\n",
       "      <td>...</td>\n",
       "      <td>...</td>\n",
       "      <td>...</td>\n",
       "      <td>...</td>\n",
       "      <td>...</td>\n",
       "      <td>...</td>\n",
       "      <td>...</td>\n",
       "      <td>...</td>\n",
       "      <td>...</td>\n",
       "      <td>...</td>\n",
       "      <td>...</td>\n",
       "      <td>...</td>\n",
       "    </tr>\n",
       "    <tr>\n",
       "      <th>695</th>\n",
       "      <td>1</td>\n",
       "      <td>0</td>\n",
       "      <td>0</td>\n",
       "      <td>0</td>\n",
       "      <td>0</td>\n",
       "      <td>1</td>\n",
       "      <td>1</td>\n",
       "      <td>5</td>\n",
       "      <td>179</td>\n",
       "      <td>22</td>\n",
       "      <td>1</td>\n",
       "      <td>2</td>\n",
       "      <td>0</td>\n",
       "    </tr>\n",
       "    <tr>\n",
       "      <th>696</th>\n",
       "      <td>1</td>\n",
       "      <td>0</td>\n",
       "      <td>0</td>\n",
       "      <td>0</td>\n",
       "      <td>1</td>\n",
       "      <td>0</td>\n",
       "      <td>1</td>\n",
       "      <td>5</td>\n",
       "      <td>225</td>\n",
       "      <td>24</td>\n",
       "      <td>0</td>\n",
       "      <td>1</td>\n",
       "      <td>2</td>\n",
       "    </tr>\n",
       "    <tr>\n",
       "      <th>697</th>\n",
       "      <td>1</td>\n",
       "      <td>0</td>\n",
       "      <td>0</td>\n",
       "      <td>0</td>\n",
       "      <td>1</td>\n",
       "      <td>0</td>\n",
       "      <td>1</td>\n",
       "      <td>5</td>\n",
       "      <td>330</td>\n",
       "      <td>25</td>\n",
       "      <td>1</td>\n",
       "      <td>0</td>\n",
       "      <td>0</td>\n",
       "    </tr>\n",
       "    <tr>\n",
       "      <th>698</th>\n",
       "      <td>0</td>\n",
       "      <td>0</td>\n",
       "      <td>0</td>\n",
       "      <td>1</td>\n",
       "      <td>0</td>\n",
       "      <td>1</td>\n",
       "      <td>1</td>\n",
       "      <td>5</td>\n",
       "      <td>235</td>\n",
       "      <td>25</td>\n",
       "      <td>1</td>\n",
       "      <td>0</td>\n",
       "      <td>0</td>\n",
       "    </tr>\n",
       "    <tr>\n",
       "      <th>699</th>\n",
       "      <td>0</td>\n",
       "      <td>0</td>\n",
       "      <td>0</td>\n",
       "      <td>1</td>\n",
       "      <td>0</td>\n",
       "      <td>1</td>\n",
       "      <td>1</td>\n",
       "      <td>5</td>\n",
       "      <td>291</td>\n",
       "      <td>25</td>\n",
       "      <td>0</td>\n",
       "      <td>1</td>\n",
       "      <td>1</td>\n",
       "    </tr>\n",
       "  </tbody>\n",
       "</table>\n",
       "<p>700 rows × 13 columns</p>\n",
       "</div>"
      ],
      "text/plain": [
       "     Reason_1  Reason_2  Reason_3  Reason_4  Age_1  Age_2  Age_3  Month_value  \\\n",
       "0           0         0         0         1      0      1      1            7   \n",
       "1           0         0         0         0      0      0      1            7   \n",
       "2           0         0         0         1      0      1      1            7   \n",
       "3           1         0         0         0      0      1      1            7   \n",
       "4           0         0         0         1      0      1      1            7   \n",
       "..        ...       ...       ...       ...    ...    ...    ...          ...   \n",
       "695         1         0         0         0      0      1      1            5   \n",
       "696         1         0         0         0      1      0      1            5   \n",
       "697         1         0         0         0      1      0      1            5   \n",
       "698         0         0         0         1      0      1      1            5   \n",
       "699         0         0         0         1      0      1      1            5   \n",
       "\n",
       "     Transportation Expense  Body Mass Index  Education  Children  Pets  \n",
       "0                       289               30          0         2     1  \n",
       "1                       118               31          0         1     0  \n",
       "2                       179               31          0         0     0  \n",
       "3                       279               24          0         2     0  \n",
       "4                       289               30          0         2     1  \n",
       "..                      ...              ...        ...       ...   ...  \n",
       "695                     179               22          1         2     0  \n",
       "696                     225               24          0         1     2  \n",
       "697                     330               25          1         0     0  \n",
       "698                     235               25          1         0     0  \n",
       "699                     291               25          0         1     1  \n",
       "\n",
       "[700 rows x 13 columns]"
      ]
     },
     "execution_count": 13,
     "metadata": {},
     "output_type": "execute_result"
    }
   ],
   "source": [
    "unscaled_inputs"
   ]
  },
  {
   "cell_type": "markdown",
   "id": "9d87d12d",
   "metadata": {},
   "source": [
    "### Standardizing of inputs"
   ]
  },
  {
   "cell_type": "code",
   "execution_count": 14,
   "id": "b7fac0bc",
   "metadata": {},
   "outputs": [],
   "source": [
    "from sklearn.preprocessing import StandardScaler\n",
    "\n",
    "absenteeism_scaler = StandardScaler()"
   ]
  },
  {
   "cell_type": "code",
   "execution_count": 15,
   "id": "e86c2b44",
   "metadata": {},
   "outputs": [],
   "source": [
    "from sklearn.base import BaseEstimator, TransformerMixin\n",
    "from sklearn.preprocessing import StandardScaler\n",
    "\n",
    "# create the Custom Scaler class\n",
    "\n",
    "class CustomScaler(BaseEstimator,TransformerMixin): \n",
    "    \n",
    "    # init or what information we need to declare a CustomScaler object\n",
    "    # and what is calculated/declared as we do\n",
    "    \n",
    "    def __init__(self,columns):\n",
    "        \n",
    "        # scaler is nothing but a Standard Scaler object\n",
    "        self.scaler = StandardScaler(copy=True,with_mean=True,with_std=True)\n",
    "        # with some columns 'twist'\n",
    "        self.columns = columns\n",
    "        self.mean_ = None\n",
    "        self.var_ = None\n",
    "        \n",
    "    \n",
    "    # the fit method, which, again based on StandardScale\n",
    "    \n",
    "    def fit(self, X, y=None):\n",
    "        self.scaler.fit(X[self.columns], y)\n",
    "        self.mean_ = np.mean(X[self.columns])\n",
    "        self.var_ = np.var(X[self.columns])\n",
    "        return self\n",
    "    \n",
    "    # the transform method which does the actual scaling\n",
    "\n",
    "    def transform(self, X, y=None, copy=None):\n",
    "        \n",
    "        # record the initial order of the columns\n",
    "        init_col_order = X.columns\n",
    "        \n",
    "        # scale all features that you chose when creating the instance of the class\n",
    "        X_scaled = pd.DataFrame(self.scaler.transform(X[self.columns]), columns=self.columns)\n",
    "        \n",
    "        # declare a variable containing all information that was not scaled\n",
    "        X_not_scaled = X.loc[:,~X.columns.isin(self.columns)]\n",
    "        \n",
    "        # return a data frame which contains all scaled features and all 'not scaled' features\n",
    "        # use the original order (that you recorded in the beginning)\n",
    "        return pd.concat([X_not_scaled, X_scaled], axis=1)[init_col_order]"
   ]
  },
  {
   "cell_type": "markdown",
   "id": "d7ded9f3",
   "metadata": {},
   "source": [
    "#### Alternate way to scale variables without including dummies"
   ]
  },
  {
   "cell_type": "code",
   "execution_count": 16,
   "id": "a183c827",
   "metadata": {},
   "outputs": [],
   "source": [
    "# dummies = unscaled_inputs[['Reason_1', 'Reason_2', 'Reason_3', 'Reason_4','Education']]\n",
    "# to_scale = unscaled_inputs[['Month Value',\n",
    "#        'Day of the Week', 'Transportation Expense', 'Distance to Work',\n",
    "#        'Age', 'Daily Work Load Average', 'Body Mass Index',\n",
    "#        'Children', 'Pets']]\n",
    " \n",
    "# scaler.fit(to_scale)\n",
    " \n",
    "# scaled_inputs_no_dummies = scaler.transform(to_scale)\n",
    " \n",
    "# dummies = dummies.to_numpy()\n",
    " \n",
    "# scaled_inputs_alt = []\n",
    "# for i in range(dummies.shape[0]):\n",
    "#     scaled_inputs_alt.append(np.concatenate((scaled_inputs_no_dummies[i], dummies[i])))\n",
    "    \n",
    "# scaled_intputs_alt = np.array(scaled_outputs_alt)"
   ]
  },
  {
   "cell_type": "code",
   "execution_count": 17,
   "id": "d4fc1a72",
   "metadata": {},
   "outputs": [
    {
     "data": {
      "text/plain": [
       "array(['Reason_1', 'Reason_2', 'Reason_3', 'Reason_4', 'Age_1', 'Age_2',\n",
       "       'Age_3', 'Month_value', 'Transportation Expense',\n",
       "       'Body Mass Index', 'Education', 'Children', 'Pets'], dtype=object)"
      ]
     },
     "execution_count": 17,
     "metadata": {},
     "output_type": "execute_result"
    }
   ],
   "source": [
    "unscaled_inputs.columns.values"
   ]
  },
  {
   "cell_type": "code",
   "execution_count": 18,
   "id": "3c87fdee",
   "metadata": {},
   "outputs": [],
   "source": [
    "# columns_to_scale = ['Month_value', 'Day_of_the_Week',\n",
    "#        'Transportation Expense', 'Distance to Work',\n",
    "#        'Daily Work Load Average', 'Body Mass Index',\n",
    "#        'Children', 'Pets']\n",
    "\n",
    "columns_to_omit = ['Reason_1', 'Reason_2', 'Reason_3', 'Reason_4', 'Age_1', 'Age_2',\n",
    "       'Age_3', 'Education']"
   ]
  },
  {
   "cell_type": "code",
   "execution_count": 19,
   "id": "430434d9",
   "metadata": {},
   "outputs": [],
   "source": [
    "columns_to_scale = [x for x in unscaled_inputs.columns.values if x not in columns_to_omit]"
   ]
  },
  {
   "cell_type": "code",
   "execution_count": 20,
   "id": "99a59ec4",
   "metadata": {},
   "outputs": [],
   "source": [
    "absenteeism_scaler=CustomScaler(columns_to_scale)"
   ]
  },
  {
   "cell_type": "code",
   "execution_count": 21,
   "id": "260d4dc5",
   "metadata": {},
   "outputs": [
    {
     "data": {
      "text/plain": [
       "CustomScaler(columns=['Month_value', 'Transportation Expense',\n",
       "                      'Body Mass Index', 'Children', 'Pets'])"
      ]
     },
     "execution_count": 21,
     "metadata": {},
     "output_type": "execute_result"
    }
   ],
   "source": [
    "absenteeism_scaler.fit(unscaled_inputs)"
   ]
  },
  {
   "cell_type": "code",
   "execution_count": 22,
   "id": "6b4dbdac",
   "metadata": {},
   "outputs": [],
   "source": [
    "scaled_input = absenteeism_scaler.transform(unscaled_inputs)"
   ]
  },
  {
   "cell_type": "code",
   "execution_count": 23,
   "id": "739ad1fa",
   "metadata": {},
   "outputs": [
    {
     "data": {
      "text/plain": [
       "pandas.core.frame.DataFrame"
      ]
     },
     "execution_count": 23,
     "metadata": {},
     "output_type": "execute_result"
    }
   ],
   "source": [
    "type(scaled_input)"
   ]
  },
  {
   "cell_type": "markdown",
   "id": "904d8627",
   "metadata": {},
   "source": [
    "## Split into train & test and shuffle"
   ]
  },
  {
   "cell_type": "code",
   "execution_count": 24,
   "id": "bfe1badd",
   "metadata": {},
   "outputs": [],
   "source": [
    "from sklearn.model_selection import train_test_split"
   ]
  },
  {
   "cell_type": "code",
   "execution_count": 25,
   "id": "8b3b1bf1",
   "metadata": {},
   "outputs": [],
   "source": [
    "x_train,x_test,y_train,y_test = train_test_split(scaled_input,targets, train_size=0.8 , random_state=20) #random state = some int as it will make shuffle sudo random \n",
    "# it wil shuffle the observation in same random way"
   ]
  },
  {
   "cell_type": "code",
   "execution_count": 26,
   "id": "5aaf422e",
   "metadata": {},
   "outputs": [],
   "source": [
    "# print(x_train , y_train)\n",
    "# print(x_test , y_test)"
   ]
  },
  {
   "cell_type": "code",
   "execution_count": 27,
   "id": "1f031547",
   "metadata": {},
   "outputs": [
    {
     "name": "stdout",
     "output_type": "stream",
     "text": [
      "(560, 13) (560,)\n",
      "(140, 13) (140,)\n"
     ]
    }
   ],
   "source": [
    "print(x_train.shape , y_train.shape) # 80% data ==training\n",
    "print(x_test.shape , y_test.shape) #20% data==test"
   ]
  },
  {
   "cell_type": "markdown",
   "id": "46a33764",
   "metadata": {},
   "source": [
    "# Logistic Regression Model"
   ]
  },
  {
   "cell_type": "code",
   "execution_count": 28,
   "id": "ff3d29d8",
   "metadata": {},
   "outputs": [],
   "source": [
    "from sklearn.linear_model import LogisticRegression\n",
    "from sklearn import metrics"
   ]
  },
  {
   "cell_type": "code",
   "execution_count": 29,
   "id": "1bbde911",
   "metadata": {},
   "outputs": [],
   "source": [
    "reg = LogisticRegression()"
   ]
  },
  {
   "cell_type": "code",
   "execution_count": 30,
   "id": "889a5c79",
   "metadata": {},
   "outputs": [
    {
     "data": {
      "text/plain": [
       "LogisticRegression()"
      ]
     },
     "execution_count": 30,
     "metadata": {},
     "output_type": "execute_result"
    }
   ],
   "source": [
    "reg.fit(x_train , y_train)"
   ]
  },
  {
   "cell_type": "code",
   "execution_count": 31,
   "id": "6352a23f",
   "metadata": {},
   "outputs": [
    {
     "data": {
      "text/plain": [
       "0.7625"
      ]
     },
     "execution_count": 31,
     "metadata": {},
     "output_type": "execute_result"
    }
   ],
   "source": [
    "reg.score(x_train,y_train)"
   ]
  },
  {
   "cell_type": "markdown",
   "id": "22ffeaef",
   "metadata": {},
   "source": [
    "#### Manually check accuracy"
   ]
  },
  {
   "cell_type": "code",
   "execution_count": 32,
   "id": "1eaa1fdf",
   "metadata": {},
   "outputs": [
    {
     "data": {
      "text/plain": [
       "array([0, 1, 1, 0, 1, 1, 0, 1, 0, 1, 1, 1, 0, 1, 0, 0, 0, 0, 0, 1, 1, 0,\n",
       "       1, 0, 0, 0, 0, 1, 1, 0, 0, 1, 0, 1, 0, 0, 1, 0, 1, 0, 1, 0, 1, 1,\n",
       "       0, 0, 0, 0, 1, 1, 0, 1, 0, 0, 0, 0, 1, 0, 0, 0, 0, 0, 1, 0, 0, 0,\n",
       "       0, 0, 0, 1, 0, 1, 1, 0, 0, 0, 1, 0, 0, 1, 1, 1, 0, 0, 0, 1, 1, 0,\n",
       "       0, 1, 0, 0, 1, 0, 0, 0, 0, 0, 0, 1, 1, 1, 1, 1, 1, 1, 0, 0, 1, 0,\n",
       "       0, 1, 0, 1, 1, 0, 0, 0, 1, 1, 1, 1, 1, 0, 0, 1, 0, 1, 0, 0, 1, 0,\n",
       "       0, 0, 0, 0, 1, 0, 0, 0, 0, 0, 0, 1, 1, 1, 0, 1, 0, 1, 0, 0, 1, 0,\n",
       "       1, 1, 0, 1, 0, 0, 1, 0, 1, 1, 0, 1, 1, 0, 1, 1, 0, 0, 0, 0, 1, 0,\n",
       "       0, 0, 0, 0, 1, 0, 0, 1, 1, 0, 0, 1, 0, 0, 1, 1, 1, 0, 0, 0, 0, 1,\n",
       "       1, 0, 0, 1, 1, 0, 1, 0, 1, 0, 0, 0, 1, 1, 1, 0, 0, 0, 0, 0, 0, 1,\n",
       "       1, 0, 0, 0, 1, 0, 0, 1, 1, 0, 0, 1, 1, 0, 0, 1, 1, 0, 0, 0, 0, 0,\n",
       "       0, 0, 1, 0, 1, 1, 1, 0, 1, 0, 1, 0, 1, 0, 1, 1, 0, 1, 1, 1, 1, 1,\n",
       "       0, 1, 0, 1, 0, 1, 1, 1, 0, 0, 1, 0, 1, 1, 0, 1, 0, 0, 1, 0, 1, 0,\n",
       "       0, 0, 0, 0, 0, 1, 0, 1, 0, 1, 1, 1, 1, 1, 0, 0, 0, 0, 0, 1, 0, 0,\n",
       "       0, 0, 0, 0, 1, 0, 1, 0, 1, 1, 0, 0, 0, 0, 1, 1, 1, 1, 0, 0, 1, 1,\n",
       "       0, 0, 1, 0, 0, 1, 0, 0, 0, 0, 0, 0, 0, 0, 0, 1, 1, 0, 0, 0, 0, 1,\n",
       "       0, 0, 1, 0, 1, 1, 0, 0, 1, 0, 1, 1, 1, 0, 0, 0, 0, 1, 1, 1, 0, 0,\n",
       "       1, 1, 1, 1, 0, 0, 1, 1, 0, 1, 0, 1, 1, 1, 0, 1, 1, 1, 1, 0, 0, 0,\n",
       "       0, 0, 0, 0, 0, 1, 1, 0, 1, 1, 0, 1, 0, 0, 1, 1, 1, 0, 1, 1, 1, 0,\n",
       "       0, 0, 0, 1, 0, 0, 1, 0, 0, 1, 0, 0, 1, 0, 1, 1, 1, 0, 0, 1, 1, 0,\n",
       "       0, 0, 0, 0, 0, 0, 0, 1, 1, 1, 1, 1, 1, 0, 1, 1, 0, 0, 0, 0, 0, 0,\n",
       "       0, 1, 0, 1, 0, 0, 1, 0, 0, 0, 1, 0, 1, 1, 0, 0, 1, 0, 0, 1, 0, 0,\n",
       "       0, 0, 0, 0, 0, 1, 0, 0, 1, 1, 0, 0, 0, 1, 0, 0, 1, 0, 1, 0, 0, 0,\n",
       "       0, 1, 1, 0, 1, 0, 0, 0, 1, 1, 1, 1, 0, 0, 1, 1, 0, 0, 1, 0, 1, 1,\n",
       "       0, 1, 1, 0, 1, 1, 1, 0, 0, 0, 1, 1, 1, 0, 1, 0, 0, 1, 1, 0, 0, 0,\n",
       "       0, 1, 0, 1, 1, 1, 0, 0, 0, 0])"
      ]
     },
     "execution_count": 32,
     "metadata": {},
     "output_type": "execute_result"
    }
   ],
   "source": [
    "model_outputs = reg.predict(x_train)\n",
    "model_outputs"
   ]
  },
  {
   "cell_type": "code",
   "execution_count": 33,
   "id": "2a3218e2",
   "metadata": {},
   "outputs": [
    {
     "data": {
      "text/plain": [
       "array([0, 1, 1, 1, 1, 0, 0, 1, 0, 1, 0, 1, 1, 0, 0, 0, 0, 0, 1, 1, 0, 0,\n",
       "       1, 1, 0, 0, 0, 0, 1, 0, 0, 1, 0, 1, 0, 0, 0, 1, 1, 1, 1, 0, 1, 1,\n",
       "       1, 0, 0, 0, 1, 1, 1, 1, 0, 0, 0, 1, 1, 0, 0, 1, 0, 0, 1, 0, 0, 0,\n",
       "       0, 0, 0, 1, 0, 1, 1, 0, 0, 1, 1, 0, 0, 1, 1, 0, 0, 1, 0, 1, 0, 1,\n",
       "       1, 1, 0, 0, 1, 0, 0, 0, 0, 0, 0, 1, 1, 1, 1, 0, 1, 1, 0, 0, 1, 0,\n",
       "       0, 1, 1, 1, 1, 0, 0, 1, 1, 1, 1, 1, 0, 0, 0, 1, 0, 1, 0, 0, 1, 1,\n",
       "       0, 0, 0, 0, 0, 0, 0, 0, 0, 0, 1, 0, 1, 1, 0, 0, 0, 1, 0, 0, 0, 1,\n",
       "       0, 1, 0, 0, 0, 1, 1, 0, 1, 1, 0, 0, 1, 1, 1, 0, 0, 0, 0, 0, 1, 0,\n",
       "       0, 0, 0, 0, 1, 0, 0, 1, 1, 1, 0, 1, 0, 0, 0, 1, 1, 0, 0, 0, 0, 1,\n",
       "       1, 0, 0, 1, 1, 1, 0, 0, 0, 1, 0, 0, 1, 1, 1, 0, 0, 1, 0, 1, 0, 0,\n",
       "       1, 0, 0, 0, 0, 0, 1, 0, 1, 0, 0, 1, 1, 1, 1, 0, 1, 1, 0, 0, 0, 0,\n",
       "       0, 0, 1, 0, 1, 1, 1, 1, 1, 0, 1, 0, 1, 0, 1, 1, 1, 1, 1, 1, 0, 0,\n",
       "       0, 0, 0, 0, 0, 0, 0, 1, 0, 0, 1, 0, 1, 0, 1, 0, 0, 0, 1, 0, 0, 0,\n",
       "       1, 0, 1, 0, 0, 0, 0, 1, 0, 1, 0, 0, 1, 1, 0, 0, 0, 1, 0, 1, 0, 0,\n",
       "       0, 1, 0, 1, 1, 0, 1, 0, 1, 1, 0, 0, 1, 0, 1, 0, 0, 1, 0, 0, 1, 1,\n",
       "       1, 0, 0, 0, 0, 1, 1, 1, 0, 0, 0, 1, 0, 1, 0, 1, 1, 1, 0, 0, 0, 1,\n",
       "       0, 0, 1, 0, 1, 1, 0, 0, 0, 0, 1, 0, 1, 1, 0, 0, 0, 1, 1, 1, 0, 0,\n",
       "       1, 1, 1, 1, 0, 0, 1, 0, 0, 1, 0, 0, 1, 1, 1, 1, 1, 1, 1, 0, 1, 0,\n",
       "       0, 0, 0, 0, 0, 0, 1, 0, 1, 1, 0, 1, 0, 0, 0, 1, 1, 0, 0, 1, 1, 1,\n",
       "       0, 1, 0, 1, 0, 0, 1, 0, 1, 1, 0, 1, 1, 1, 1, 1, 1, 0, 0, 0, 0, 0,\n",
       "       0, 0, 0, 1, 0, 0, 0, 0, 0, 1, 0, 1, 1, 0, 0, 0, 0, 0, 0, 0, 1, 0,\n",
       "       1, 1, 0, 0, 0, 0, 1, 0, 1, 0, 1, 1, 0, 1, 0, 1, 1, 0, 0, 1, 0, 0,\n",
       "       1, 1, 0, 0, 1, 1, 0, 0, 1, 1, 0, 0, 0, 1, 0, 1, 1, 0, 1, 0, 0, 1,\n",
       "       0, 1, 0, 0, 1, 0, 0, 1, 1, 1, 1, 1, 0, 1, 1, 1, 1, 1, 0, 0, 1, 0,\n",
       "       0, 1, 1, 1, 1, 1, 1, 0, 0, 0, 1, 1, 1, 1, 1, 1, 0, 1, 1, 0, 0, 0,\n",
       "       0, 0, 0, 1, 1, 1, 1, 0, 1, 0])"
      ]
     },
     "execution_count": 33,
     "metadata": {},
     "output_type": "execute_result"
    }
   ],
   "source": [
    "y_train"
   ]
  },
  {
   "cell_type": "code",
   "execution_count": 34,
   "id": "e4fd888c",
   "metadata": {},
   "outputs": [
    {
     "data": {
      "text/plain": [
       "array([ True,  True,  True, False,  True, False,  True,  True,  True,\n",
       "        True, False,  True, False, False,  True,  True,  True,  True,\n",
       "       False,  True, False,  True,  True, False,  True,  True,  True,\n",
       "       False,  True,  True,  True,  True,  True,  True,  True,  True,\n",
       "       False, False,  True, False,  True,  True,  True,  True, False,\n",
       "        True,  True,  True,  True,  True, False,  True,  True,  True,\n",
       "        True, False,  True,  True,  True, False,  True,  True,  True,\n",
       "        True,  True,  True,  True,  True,  True,  True,  True,  True,\n",
       "        True,  True,  True, False,  True,  True,  True,  True,  True,\n",
       "       False,  True, False,  True,  True, False, False, False,  True,\n",
       "        True,  True,  True,  True,  True,  True,  True,  True,  True,\n",
       "        True,  True,  True,  True, False,  True,  True,  True,  True,\n",
       "        True,  True,  True,  True, False,  True,  True,  True,  True,\n",
       "       False,  True,  True,  True,  True, False,  True,  True,  True,\n",
       "        True,  True,  True,  True,  True, False,  True,  True,  True,\n",
       "        True, False,  True,  True,  True,  True,  True, False, False,\n",
       "        True,  True,  True, False,  True,  True,  True,  True, False,\n",
       "       False, False,  True,  True, False,  True, False,  True,  True,\n",
       "        True,  True,  True, False,  True, False,  True, False,  True,\n",
       "        True,  True,  True,  True,  True,  True,  True,  True,  True,\n",
       "        True,  True,  True,  True,  True, False,  True,  True,  True,\n",
       "        True, False,  True,  True,  True,  True,  True,  True,  True,\n",
       "        True,  True,  True,  True,  True, False, False,  True, False,\n",
       "       False,  True,  True,  True,  True,  True,  True,  True, False,\n",
       "        True, False,  True, False,  True,  True,  True,  True, False,\n",
       "        True, False, False,  True,  True,  True,  True,  True, False,\n",
       "       False, False,  True, False,  True,  True,  True,  True,  True,\n",
       "        True,  True,  True,  True,  True,  True, False,  True,  True,\n",
       "        True,  True,  True,  True,  True,  True, False,  True,  True,\n",
       "        True, False, False,  True, False,  True, False,  True, False,\n",
       "       False,  True,  True,  True,  True,  True,  True, False, False,\n",
       "       False,  True,  True,  True,  True, False,  True, False,  True,\n",
       "       False,  True,  True, False,  True,  True,  True,  True, False,\n",
       "       False,  True,  True,  True,  True,  True, False,  True,  True,\n",
       "        True,  True,  True, False,  True, False,  True,  True,  True,\n",
       "        True,  True,  True,  True,  True, False,  True,  True, False,\n",
       "       False,  True,  True,  True,  True,  True, False,  True, False,\n",
       "        True,  True,  True, False, False,  True,  True,  True, False,\n",
       "        True, False,  True,  True,  True, False,  True,  True,  True,\n",
       "        True,  True,  True,  True,  True,  True,  True,  True,  True,\n",
       "       False,  True,  True, False,  True, False,  True,  True,  True,\n",
       "        True,  True,  True,  True,  True,  True,  True,  True,  True,\n",
       "        True,  True,  True, False,  True,  True,  True, False,  True,\n",
       "        True, False,  True,  True,  True,  True,  True, False,  True,\n",
       "        True,  True,  True,  True,  True, False,  True,  True,  True,\n",
       "        True,  True,  True,  True,  True, False,  True,  True,  True,\n",
       "       False,  True,  True, False,  True, False,  True,  True,  True,\n",
       "        True,  True,  True, False,  True,  True, False,  True, False,\n",
       "        True,  True,  True,  True,  True, False, False,  True,  True,\n",
       "        True,  True, False,  True,  True,  True, False, False,  True,\n",
       "       False,  True,  True,  True, False, False,  True,  True,  True,\n",
       "        True, False,  True, False,  True,  True, False,  True,  True,\n",
       "        True,  True, False,  True,  True, False, False,  True,  True,\n",
       "       False,  True,  True,  True,  True,  True,  True, False, False,\n",
       "        True,  True, False,  True,  True,  True,  True,  True,  True,\n",
       "        True,  True,  True,  True, False,  True,  True,  True,  True,\n",
       "        True, False,  True,  True, False,  True,  True,  True,  True,\n",
       "       False,  True,  True,  True,  True,  True, False,  True,  True,\n",
       "       False, False, False,  True,  True, False,  True,  True,  True,\n",
       "       False,  True,  True,  True,  True,  True,  True,  True,  True,\n",
       "        True, False,  True, False,  True,  True,  True,  True,  True,\n",
       "        True,  True, False,  True,  True,  True,  True, False,  True,\n",
       "       False,  True])"
      ]
     },
     "execution_count": 34,
     "metadata": {},
     "output_type": "execute_result"
    }
   ],
   "source": [
    "model_outputs==y_train"
   ]
  },
  {
   "cell_type": "code",
   "execution_count": 35,
   "id": "762d4084",
   "metadata": {},
   "outputs": [
    {
     "data": {
      "text/plain": [
       "427"
      ]
     },
     "execution_count": 35,
     "metadata": {},
     "output_type": "execute_result"
    }
   ],
   "source": [
    "np.sum(model_outputs==y_train)"
   ]
  },
  {
   "cell_type": "code",
   "execution_count": 36,
   "id": "b372659e",
   "metadata": {},
   "outputs": [
    {
     "data": {
      "text/plain": [
       "0.7625"
      ]
     },
     "execution_count": 36,
     "metadata": {},
     "output_type": "execute_result"
    }
   ],
   "source": [
    "accuracy = (np.sum(model_outputs==y_train))/model_outputs.shape[0]\n",
    "accuracy"
   ]
  },
  {
   "cell_type": "markdown",
   "id": "0041ae1d",
   "metadata": {},
   "source": [
    "#### Intercept and Coefficient"
   ]
  },
  {
   "cell_type": "code",
   "execution_count": 37,
   "id": "8e465623",
   "metadata": {},
   "outputs": [
    {
     "data": {
      "text/plain": [
       "array([-1.30451393])"
      ]
     },
     "execution_count": 37,
     "metadata": {},
     "output_type": "execute_result"
    }
   ],
   "source": [
    "reg.intercept_"
   ]
  },
  {
   "cell_type": "code",
   "execution_count": 38,
   "id": "5d106943",
   "metadata": {},
   "outputs": [
    {
     "data": {
      "text/plain": [
       "array([[ 2.84871127,  0.8842582 ,  3.08979417,  0.89318617, -0.21345348,\n",
       "         0.28021386, -0.51765475,  0.17121111,  0.64257437,  0.15769556,\n",
       "        -0.15390119,  0.26143953, -0.1921654 ]])"
      ]
     },
     "execution_count": 38,
     "metadata": {},
     "output_type": "execute_result"
    }
   ],
   "source": [
    "reg.coef_"
   ]
  },
  {
   "cell_type": "code",
   "execution_count": 39,
   "id": "d5f773fe",
   "metadata": {},
   "outputs": [],
   "source": [
    "features_name = unscaled_inputs.columns.values"
   ]
  },
  {
   "cell_type": "code",
   "execution_count": 40,
   "id": "1f4c34a6",
   "metadata": {},
   "outputs": [
    {
     "data": {
      "text/html": [
       "<div>\n",
       "<style scoped>\n",
       "    .dataframe tbody tr th:only-of-type {\n",
       "        vertical-align: middle;\n",
       "    }\n",
       "\n",
       "    .dataframe tbody tr th {\n",
       "        vertical-align: top;\n",
       "    }\n",
       "\n",
       "    .dataframe thead th {\n",
       "        text-align: right;\n",
       "    }\n",
       "</style>\n",
       "<table border=\"1\" class=\"dataframe\">\n",
       "  <thead>\n",
       "    <tr style=\"text-align: right;\">\n",
       "      <th></th>\n",
       "      <th>Features_name</th>\n",
       "      <th>Coefficient</th>\n",
       "    </tr>\n",
       "  </thead>\n",
       "  <tbody>\n",
       "    <tr>\n",
       "      <th>0</th>\n",
       "      <td>Reason_1</td>\n",
       "      <td>2.848711</td>\n",
       "    </tr>\n",
       "    <tr>\n",
       "      <th>1</th>\n",
       "      <td>Reason_2</td>\n",
       "      <td>0.884258</td>\n",
       "    </tr>\n",
       "    <tr>\n",
       "      <th>2</th>\n",
       "      <td>Reason_3</td>\n",
       "      <td>3.089794</td>\n",
       "    </tr>\n",
       "    <tr>\n",
       "      <th>3</th>\n",
       "      <td>Reason_4</td>\n",
       "      <td>0.893186</td>\n",
       "    </tr>\n",
       "    <tr>\n",
       "      <th>4</th>\n",
       "      <td>Age_1</td>\n",
       "      <td>-0.213453</td>\n",
       "    </tr>\n",
       "    <tr>\n",
       "      <th>5</th>\n",
       "      <td>Age_2</td>\n",
       "      <td>0.280214</td>\n",
       "    </tr>\n",
       "    <tr>\n",
       "      <th>6</th>\n",
       "      <td>Age_3</td>\n",
       "      <td>-0.517655</td>\n",
       "    </tr>\n",
       "    <tr>\n",
       "      <th>7</th>\n",
       "      <td>Month_value</td>\n",
       "      <td>0.171211</td>\n",
       "    </tr>\n",
       "    <tr>\n",
       "      <th>8</th>\n",
       "      <td>Transportation Expense</td>\n",
       "      <td>0.642574</td>\n",
       "    </tr>\n",
       "    <tr>\n",
       "      <th>9</th>\n",
       "      <td>Body Mass Index</td>\n",
       "      <td>0.157696</td>\n",
       "    </tr>\n",
       "    <tr>\n",
       "      <th>10</th>\n",
       "      <td>Education</td>\n",
       "      <td>-0.153901</td>\n",
       "    </tr>\n",
       "    <tr>\n",
       "      <th>11</th>\n",
       "      <td>Children</td>\n",
       "      <td>0.261440</td>\n",
       "    </tr>\n",
       "    <tr>\n",
       "      <th>12</th>\n",
       "      <td>Pets</td>\n",
       "      <td>-0.192165</td>\n",
       "    </tr>\n",
       "  </tbody>\n",
       "</table>\n",
       "</div>"
      ],
      "text/plain": [
       "             Features_name  Coefficient\n",
       "0                 Reason_1     2.848711\n",
       "1                 Reason_2     0.884258\n",
       "2                 Reason_3     3.089794\n",
       "3                 Reason_4     0.893186\n",
       "4                    Age_1    -0.213453\n",
       "5                    Age_2     0.280214\n",
       "6                    Age_3    -0.517655\n",
       "7              Month_value     0.171211\n",
       "8   Transportation Expense     0.642574\n",
       "9          Body Mass Index     0.157696\n",
       "10               Education    -0.153901\n",
       "11                Children     0.261440\n",
       "12                    Pets    -0.192165"
      ]
     },
     "execution_count": 40,
     "metadata": {},
     "output_type": "execute_result"
    }
   ],
   "source": [
    "summary_table = pd.DataFrame(columns=['Features_name'],data = features_name)\n",
    "summary_table['Coefficient']=np.transpose(reg.coef_)\n",
    "summary_table"
   ]
  },
  {
   "cell_type": "code",
   "execution_count": 41,
   "id": "7823fa3a",
   "metadata": {},
   "outputs": [],
   "source": [
    "summary_table.index=summary_table.index + 1\n",
    "summary_table.loc[0]=['Intercept',reg.intercept_[0]]"
   ]
  },
  {
   "cell_type": "code",
   "execution_count": 42,
   "id": "27c1cbaf",
   "metadata": {},
   "outputs": [
    {
     "data": {
      "text/html": [
       "<div>\n",
       "<style scoped>\n",
       "    .dataframe tbody tr th:only-of-type {\n",
       "        vertical-align: middle;\n",
       "    }\n",
       "\n",
       "    .dataframe tbody tr th {\n",
       "        vertical-align: top;\n",
       "    }\n",
       "\n",
       "    .dataframe thead th {\n",
       "        text-align: right;\n",
       "    }\n",
       "</style>\n",
       "<table border=\"1\" class=\"dataframe\">\n",
       "  <thead>\n",
       "    <tr style=\"text-align: right;\">\n",
       "      <th></th>\n",
       "      <th>Features_name</th>\n",
       "      <th>Coefficient</th>\n",
       "      <th>Odd_ratio</th>\n",
       "    </tr>\n",
       "  </thead>\n",
       "  <tbody>\n",
       "    <tr>\n",
       "      <th>3</th>\n",
       "      <td>Reason_3</td>\n",
       "      <td>3.089794</td>\n",
       "      <td>21.972555</td>\n",
       "    </tr>\n",
       "    <tr>\n",
       "      <th>1</th>\n",
       "      <td>Reason_1</td>\n",
       "      <td>2.848711</td>\n",
       "      <td>17.265517</td>\n",
       "    </tr>\n",
       "    <tr>\n",
       "      <th>4</th>\n",
       "      <td>Reason_4</td>\n",
       "      <td>0.893186</td>\n",
       "      <td>2.442901</td>\n",
       "    </tr>\n",
       "    <tr>\n",
       "      <th>2</th>\n",
       "      <td>Reason_2</td>\n",
       "      <td>0.884258</td>\n",
       "      <td>2.421188</td>\n",
       "    </tr>\n",
       "    <tr>\n",
       "      <th>9</th>\n",
       "      <td>Transportation Expense</td>\n",
       "      <td>0.642574</td>\n",
       "      <td>1.901369</td>\n",
       "    </tr>\n",
       "    <tr>\n",
       "      <th>6</th>\n",
       "      <td>Age_2</td>\n",
       "      <td>0.280214</td>\n",
       "      <td>1.323413</td>\n",
       "    </tr>\n",
       "    <tr>\n",
       "      <th>12</th>\n",
       "      <td>Children</td>\n",
       "      <td>0.261440</td>\n",
       "      <td>1.298798</td>\n",
       "    </tr>\n",
       "    <tr>\n",
       "      <th>8</th>\n",
       "      <td>Month_value</td>\n",
       "      <td>0.171211</td>\n",
       "      <td>1.186741</td>\n",
       "    </tr>\n",
       "    <tr>\n",
       "      <th>10</th>\n",
       "      <td>Body Mass Index</td>\n",
       "      <td>0.157696</td>\n",
       "      <td>1.170810</td>\n",
       "    </tr>\n",
       "    <tr>\n",
       "      <th>11</th>\n",
       "      <td>Education</td>\n",
       "      <td>-0.153901</td>\n",
       "      <td>0.857357</td>\n",
       "    </tr>\n",
       "    <tr>\n",
       "      <th>13</th>\n",
       "      <td>Pets</td>\n",
       "      <td>-0.192165</td>\n",
       "      <td>0.825170</td>\n",
       "    </tr>\n",
       "    <tr>\n",
       "      <th>5</th>\n",
       "      <td>Age_1</td>\n",
       "      <td>-0.213453</td>\n",
       "      <td>0.807790</td>\n",
       "    </tr>\n",
       "    <tr>\n",
       "      <th>7</th>\n",
       "      <td>Age_3</td>\n",
       "      <td>-0.517655</td>\n",
       "      <td>0.595916</td>\n",
       "    </tr>\n",
       "    <tr>\n",
       "      <th>0</th>\n",
       "      <td>Intercept</td>\n",
       "      <td>-1.304514</td>\n",
       "      <td>0.271304</td>\n",
       "    </tr>\n",
       "  </tbody>\n",
       "</table>\n",
       "</div>"
      ],
      "text/plain": [
       "             Features_name  Coefficient  Odd_ratio\n",
       "3                 Reason_3     3.089794  21.972555\n",
       "1                 Reason_1     2.848711  17.265517\n",
       "4                 Reason_4     0.893186   2.442901\n",
       "2                 Reason_2     0.884258   2.421188\n",
       "9   Transportation Expense     0.642574   1.901369\n",
       "6                    Age_2     0.280214   1.323413\n",
       "12                Children     0.261440   1.298798\n",
       "8              Month_value     0.171211   1.186741\n",
       "10         Body Mass Index     0.157696   1.170810\n",
       "11               Education    -0.153901   0.857357\n",
       "13                    Pets    -0.192165   0.825170\n",
       "5                    Age_1    -0.213453   0.807790\n",
       "7                    Age_3    -0.517655   0.595916\n",
       "0                Intercept    -1.304514   0.271304"
      ]
     },
     "execution_count": 42,
     "metadata": {},
     "output_type": "execute_result"
    }
   ],
   "source": [
    "summary_table['Odd_ratio']=np.exp(summary_table.Coefficient)\n",
    "summary_table.sort_values(by = ['Odd_ratio'],ascending=False)"
   ]
  },
  {
   "cell_type": "markdown",
   "id": "1b87a194",
   "metadata": {},
   "source": [
    "## Testing Model"
   ]
  },
  {
   "cell_type": "code",
   "execution_count": 43,
   "id": "6320be25",
   "metadata": {},
   "outputs": [
    {
     "data": {
      "text/plain": [
       "0.7214285714285714"
      ]
     },
     "execution_count": 43,
     "metadata": {},
     "output_type": "execute_result"
    }
   ],
   "source": [
    "reg.score(x_test,y_test)"
   ]
  },
  {
   "cell_type": "code",
   "execution_count": 45,
   "id": "01c7dd23",
   "metadata": {},
   "outputs": [
    {
     "data": {
      "text/plain": [
       "array([[0.69235052, 0.30764948],\n",
       "       [0.49376555, 0.50623445],\n",
       "       [0.51336009, 0.48663991],\n",
       "       [0.76891433, 0.23108567],\n",
       "       [0.08482577, 0.91517423],\n",
       "       [0.32009526, 0.67990474],\n",
       "       [0.27609242, 0.72390758],\n",
       "       [0.14494464, 0.85505536],\n",
       "       [0.84576828, 0.15423172],\n",
       "       [0.73236622, 0.26763378],\n",
       "       [0.55243056, 0.44756944],\n",
       "       [0.23644648, 0.76355352],\n",
       "       [0.07777634, 0.92222366],\n",
       "       [0.69358323, 0.30641677],\n",
       "       [0.2211712 , 0.7788288 ],\n",
       "       [0.63626251, 0.36373749],\n",
       "       [0.61180562, 0.38819438],\n",
       "       [0.60013459, 0.39986541],\n",
       "       [0.2849566 , 0.7150434 ],\n",
       "       [0.05899574, 0.94100426],\n",
       "       [0.77082307, 0.22917693],\n",
       "       [0.76891433, 0.23108567],\n",
       "       [0.39135777, 0.60864223],\n",
       "       [0.39135777, 0.60864223],\n",
       "       [0.34491518, 0.65508482],\n",
       "       [0.81113115, 0.18886885],\n",
       "       [0.4566436 , 0.5433564 ],\n",
       "       [0.8809596 , 0.1190404 ],\n",
       "       [0.20013085, 0.79986915],\n",
       "       [0.76891433, 0.23108567],\n",
       "       [0.54254457, 0.45745543],\n",
       "       [0.41301853, 0.58698147],\n",
       "       [0.29920237, 0.70079763],\n",
       "       [0.52815297, 0.47184703],\n",
       "       [0.76891433, 0.23108567],\n",
       "       [0.47899993, 0.52100007],\n",
       "       [0.83928352, 0.16071648],\n",
       "       [0.2866228 , 0.7133772 ],\n",
       "       [0.60391239, 0.39608761],\n",
       "       [0.3958015 , 0.6041985 ],\n",
       "       [0.77748564, 0.22251436],\n",
       "       [0.60756388, 0.39243612],\n",
       "       [0.82565513, 0.17434487],\n",
       "       [0.61543019, 0.38456981],\n",
       "       [0.14961921, 0.85038079],\n",
       "       [0.42760446, 0.57239554],\n",
       "       [0.3167982 , 0.6832018 ],\n",
       "       [0.69235052, 0.30764948],\n",
       "       [0.75573399, 0.24426601],\n",
       "       [0.78582757, 0.21417243],\n",
       "       [0.47486529, 0.52513471],\n",
       "       [0.7521641 , 0.2478359 ],\n",
       "       [0.32009526, 0.67990474],\n",
       "       [0.69765095, 0.30234905],\n",
       "       [0.12126936, 0.87873064],\n",
       "       [0.46936242, 0.53063758],\n",
       "       [0.15540572, 0.84459428],\n",
       "       [0.77484645, 0.22515355],\n",
       "       [0.7396989 , 0.2603011 ],\n",
       "       [0.73017719, 0.26982281],\n",
       "       [0.26547853, 0.73452147],\n",
       "       [0.33082599, 0.66917401],\n",
       "       [0.70965416, 0.29034584],\n",
       "       [0.29196109, 0.70803891],\n",
       "       [0.77486863, 0.22513137],\n",
       "       [0.71277424, 0.28722576],\n",
       "       [0.94235146, 0.05764854],\n",
       "       [0.83928352, 0.16071648],\n",
       "       [0.25594043, 0.74405957],\n",
       "       [0.6505358 , 0.3494642 ],\n",
       "       [0.83928352, 0.16071648],\n",
       "       [0.62499276, 0.37500724],\n",
       "       [0.12444932, 0.87555068],\n",
       "       [0.54422943, 0.45577057],\n",
       "       [0.40676752, 0.59323248],\n",
       "       [0.76891433, 0.23108567],\n",
       "       [0.22463983, 0.77536017],\n",
       "       [0.23370949, 0.76629051],\n",
       "       [0.22843781, 0.77156219],\n",
       "       [0.22059822, 0.77940178],\n",
       "       [0.81850618, 0.18149382],\n",
       "       [0.92665081, 0.07334919],\n",
       "       [0.77484645, 0.22515355],\n",
       "       [0.32244447, 0.67755553],\n",
       "       [0.54418058, 0.45581942],\n",
       "       [0.89998688, 0.10001312],\n",
       "       [0.27911335, 0.72088665],\n",
       "       [0.39135777, 0.60864223],\n",
       "       [0.69410145, 0.30589855],\n",
       "       [0.41301853, 0.58698147],\n",
       "       [0.78045632, 0.21954368],\n",
       "       [0.83364472, 0.16635528],\n",
       "       [0.76011472, 0.23988528],\n",
       "       [0.71277424, 0.28722576],\n",
       "       [0.73236622, 0.26763378],\n",
       "       [0.12632423, 0.87367577],\n",
       "       [0.68184177, 0.31815823],\n",
       "       [0.23874269, 0.76125731],\n",
       "       [0.72766031, 0.27233969],\n",
       "       [0.72612149, 0.27387851],\n",
       "       [0.38340761, 0.61659239],\n",
       "       [0.41301853, 0.58698147],\n",
       "       [0.27433452, 0.72566548],\n",
       "       [0.22061301, 0.77938699],\n",
       "       [0.55632586, 0.44367414],\n",
       "       [0.5198936 , 0.4801064 ],\n",
       "       [0.70266353, 0.29733647],\n",
       "       [0.12632423, 0.87367577],\n",
       "       [0.18477395, 0.81522605],\n",
       "       [0.8403137 , 0.1596863 ],\n",
       "       [0.93302486, 0.06697514],\n",
       "       [0.10099458, 0.89900542],\n",
       "       [0.45065716, 0.54934284],\n",
       "       [0.57865103, 0.42134897],\n",
       "       [0.49120909, 0.50879091],\n",
       "       [0.44337889, 0.55662111],\n",
       "       [0.23056244, 0.76943756],\n",
       "       [0.18469613, 0.81530387],\n",
       "       [0.45866493, 0.54133507],\n",
       "       [0.76207366, 0.23792634],\n",
       "       [0.72267684, 0.27732316],\n",
       "       [0.86470156, 0.13529844],\n",
       "       [0.19518358, 0.80481642],\n",
       "       [0.60756388, 0.39243612],\n",
       "       [0.76891433, 0.23108567],\n",
       "       [0.5931452 , 0.4068548 ],\n",
       "       [0.77748564, 0.22251436],\n",
       "       [0.8810846 , 0.1189154 ],\n",
       "       [0.24151456, 0.75848544],\n",
       "       [0.77082307, 0.22917693],\n",
       "       [0.38417316, 0.61582684],\n",
       "       [0.77748564, 0.22251436],\n",
       "       [0.68184177, 0.31815823],\n",
       "       [0.5931452 , 0.4068548 ],\n",
       "       [0.738918  , 0.261082  ],\n",
       "       [0.49120909, 0.50879091],\n",
       "       [0.60013459, 0.39986541],\n",
       "       [0.63934277, 0.36065723],\n",
       "       [0.72766031, 0.27233969],\n",
       "       [0.54422943, 0.45577057]])"
      ]
     },
     "execution_count": 45,
     "metadata": {},
     "output_type": "execute_result"
    }
   ],
   "source": [
    "predict_proba = reg.predict_proba(x_test)\n",
    "predict_proba"
   ]
  },
  {
   "cell_type": "code",
   "execution_count": 46,
   "id": "8d243d5a",
   "metadata": {},
   "outputs": [
    {
     "data": {
      "text/plain": [
       "(140, 2)"
      ]
     },
     "execution_count": 46,
     "metadata": {},
     "output_type": "execute_result"
    }
   ],
   "source": [
    "predict_proba.shape"
   ]
  },
  {
   "cell_type": "code",
   "execution_count": 47,
   "id": "8b40aee8",
   "metadata": {},
   "outputs": [
    {
     "data": {
      "text/plain": [
       "array([0.30764948, 0.50623445, 0.48663991, 0.23108567, 0.91517423,\n",
       "       0.67990474, 0.72390758, 0.85505536, 0.15423172, 0.26763378,\n",
       "       0.44756944, 0.76355352, 0.92222366, 0.30641677, 0.7788288 ,\n",
       "       0.36373749, 0.38819438, 0.39986541, 0.7150434 , 0.94100426,\n",
       "       0.22917693, 0.23108567, 0.60864223, 0.60864223, 0.65508482,\n",
       "       0.18886885, 0.5433564 , 0.1190404 , 0.79986915, 0.23108567,\n",
       "       0.45745543, 0.58698147, 0.70079763, 0.47184703, 0.23108567,\n",
       "       0.52100007, 0.16071648, 0.7133772 , 0.39608761, 0.6041985 ,\n",
       "       0.22251436, 0.39243612, 0.17434487, 0.38456981, 0.85038079,\n",
       "       0.57239554, 0.6832018 , 0.30764948, 0.24426601, 0.21417243,\n",
       "       0.52513471, 0.2478359 , 0.67990474, 0.30234905, 0.87873064,\n",
       "       0.53063758, 0.84459428, 0.22515355, 0.2603011 , 0.26982281,\n",
       "       0.73452147, 0.66917401, 0.29034584, 0.70803891, 0.22513137,\n",
       "       0.28722576, 0.05764854, 0.16071648, 0.74405957, 0.3494642 ,\n",
       "       0.16071648, 0.37500724, 0.87555068, 0.45577057, 0.59323248,\n",
       "       0.23108567, 0.77536017, 0.76629051, 0.77156219, 0.77940178,\n",
       "       0.18149382, 0.07334919, 0.22515355, 0.67755553, 0.45581942,\n",
       "       0.10001312, 0.72088665, 0.60864223, 0.30589855, 0.58698147,\n",
       "       0.21954368, 0.16635528, 0.23988528, 0.28722576, 0.26763378,\n",
       "       0.87367577, 0.31815823, 0.76125731, 0.27233969, 0.27387851,\n",
       "       0.61659239, 0.58698147, 0.72566548, 0.77938699, 0.44367414,\n",
       "       0.4801064 , 0.29733647, 0.87367577, 0.81522605, 0.1596863 ,\n",
       "       0.06697514, 0.89900542, 0.54934284, 0.42134897, 0.50879091,\n",
       "       0.55662111, 0.76943756, 0.81530387, 0.54133507, 0.23792634,\n",
       "       0.27732316, 0.13529844, 0.80481642, 0.39243612, 0.23108567,\n",
       "       0.4068548 , 0.22251436, 0.1189154 , 0.75848544, 0.22917693,\n",
       "       0.61582684, 0.22251436, 0.31815823, 0.4068548 , 0.261082  ,\n",
       "       0.50879091, 0.39986541, 0.36065723, 0.27233969, 0.45577057])"
      ]
     },
     "execution_count": 47,
     "metadata": {},
     "output_type": "execute_result"
    }
   ],
   "source": [
    "predict_proba[:,1]"
   ]
  },
  {
   "cell_type": "markdown",
   "id": "0f6dbdf7",
   "metadata": {},
   "source": [
    "## Save Model"
   ]
  },
  {
   "cell_type": "code",
   "execution_count": 49,
   "id": "7a19e940",
   "metadata": {},
   "outputs": [],
   "source": [
    "import pickle"
   ]
  },
  {
   "cell_type": "code",
   "execution_count": 51,
   "id": "78d89deb",
   "metadata": {},
   "outputs": [],
   "source": [
    "with open('model','wb') as file:\n",
    "    pickle.dump(reg,file)"
   ]
  },
  {
   "cell_type": "code",
   "execution_count": 52,
   "id": "ef30a57b",
   "metadata": {},
   "outputs": [],
   "source": [
    "with open('scaler','wb') as file:\n",
    "    pickle.dump(absenteeism_scaler,file)"
   ]
  },
  {
   "cell_type": "code",
   "execution_count": null,
   "id": "d38665f0",
   "metadata": {},
   "outputs": [],
   "source": []
  }
 ],
 "metadata": {
  "kernelspec": {
   "display_name": "Python 3 (ipykernel)",
   "language": "python",
   "name": "python3"
  },
  "language_info": {
   "codemirror_mode": {
    "name": "ipython",
    "version": 3
   },
   "file_extension": ".py",
   "mimetype": "text/x-python",
   "name": "python",
   "nbconvert_exporter": "python",
   "pygments_lexer": "ipython3",
   "version": "3.9.7"
  }
 },
 "nbformat": 4,
 "nbformat_minor": 5
}
